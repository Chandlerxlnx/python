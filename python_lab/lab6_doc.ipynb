{
 "cells": [
  {
   "cell_type": "markdown",
   "metadata": {},
   "source": [
    "# Lab 6 word document\n",
    "\n",
    "the word file need package `docx`\n",
    "\n",
    "* online document: https://python-docx.readthedocs.io/en/latest"
   ]
  },
  {
   "cell_type": "code",
   "execution_count": 11,
   "metadata": {},
   "outputs": [],
   "source": [
    "import docx \n",
    "?docx"
   ]
  },
  {
   "cell_type": "markdown",
   "metadata": {},
   "source": [
    "## Ex1 docx duplicated text"
   ]
  },
  {
   "cell_type": "code",
   "execution_count": 16,
   "metadata": {},
   "outputs": [
    {
     "name": "stdout",
     "output_type": "stream",
     "text": [
      "测试测试\n",
      "  \n",
      "的的\n",
      "啊啊\n"
     ]
    }
   ],
   "source": [
    "from docx import Document\n",
    "\n",
    "doc = Document('test1.docx')\n",
    "contents = ''.join((p.text for p in doc.paragraphs))\n",
    "words = []\n",
    "for index, ch in enumerate(contents[:-1]):\n",
    "    if ch==contents[index+1]:\n",
    "        word = contents[index:index+2]\n",
    "        if word not in words:\n",
    "            words.append(word)\n",
    "            \n",
    "    if contents[index:index+2]==contents[index+2:index+4]:\n",
    "        word = contents[index:index+4]\n",
    "        if word not in words:\n",
    "            words.append(word)\n",
    "for word in words:\n",
    "    print(word)\n"
   ]
  },
  {
   "cell_type": "markdown",
   "metadata": {},
   "source": [
    "## ex2 docx + regx"
   ]
  },
  {
   "cell_type": "code",
   "execution_count": 13,
   "metadata": {},
   "outputs": [
    {
     "ename": "AttributeError",
     "evalue": "'Paragraph' object has no attribute 'type'",
     "output_type": "error",
     "traceback": [
      "\u001b[1;31m---------------------------------------------------------------------------\u001b[0m",
      "\u001b[1;31mAttributeError\u001b[0m                            Traceback (most recent call last)",
      "\u001b[1;32m<ipython-input-13-247eff6c1c2b>\u001b[0m in \u001b[0;36m<module>\u001b[1;34m\u001b[0m\n\u001b[0;32m      8\u001b[0m \u001b[1;32mfor\u001b[0m \u001b[0mp\u001b[0m \u001b[1;32min\u001b[0m \u001b[0mdoc\u001b[0m\u001b[1;33m.\u001b[0m\u001b[0mparagraphs\u001b[0m\u001b[1;33m:\u001b[0m\u001b[1;33m\u001b[0m\u001b[1;33m\u001b[0m\u001b[0m\n\u001b[0;32m      9\u001b[0m     \u001b[0mt\u001b[0m \u001b[1;33m=\u001b[0m \u001b[0mp\u001b[0m\u001b[1;33m.\u001b[0m\u001b[0mtext\u001b[0m\u001b[1;33m\u001b[0m\u001b[1;33m\u001b[0m\u001b[0m\n\u001b[1;32m---> 10\u001b[1;33m     \u001b[0mprint\u001b[0m\u001b[1;33m(\u001b[0m\u001b[0mp\u001b[0m\u001b[1;33m.\u001b[0m\u001b[0mtype\u001b[0m\u001b[1;33m)\u001b[0m\u001b[1;33m\u001b[0m\u001b[1;33m\u001b[0m\u001b[0m\n\u001b[0m\u001b[0;32m     11\u001b[0m     \u001b[0mprint\u001b[0m\u001b[1;33m(\u001b[0m\u001b[0mt\u001b[0m\u001b[1;33m)\u001b[0m\u001b[1;33m\u001b[0m\u001b[1;33m\u001b[0m\u001b[0m\n\u001b[0;32m     12\u001b[0m     \u001b[1;32mif\u001b[0m \u001b[0mre\u001b[0m\u001b[1;33m.\u001b[0m\u001b[0mmatch\u001b[0m\u001b[1;33m(\u001b[0m\u001b[1;34m'例\\d+-\\d+ '\u001b[0m\u001b[1;33m,\u001b[0m\u001b[0mt\u001b[0m\u001b[1;33m)\u001b[0m\u001b[1;33m:\u001b[0m\u001b[1;33m\u001b[0m\u001b[1;33m\u001b[0m\u001b[0m\n",
      "\u001b[1;31mAttributeError\u001b[0m: 'Paragraph' object has no attribute 'type'"
     ]
    }
   ],
   "source": [
    "from docx import Document\n",
    "import re\n",
    "\n",
    "result ={'li':[],'fig':[],'tab':[]}\n",
    "\n",
    "doc = Document('test2.docx')\n",
    "\n",
    "for p in doc.paragraphs:\n",
    "    t = p.text\n",
    "    print(p.)\n",
    "    print(t)\n",
    "    if re.match('例\\d+-\\d+ ',t):\n",
    "        result['li'].append(t)\n",
    "    if re.match('图\\d+-\\d+ ',t):\n",
    "        result['fig'].append(t)\n",
    "    if re.match('表\\d+-\\d+ ',t):\n",
    "        result['tab'].append(t)\n",
    "        \n",
    "for key in result.keys():\n",
    "    print(key.center(30,\"=\"))\n",
    "    for value in result[key]:\n",
    "        print(value)"
   ]
  },
  {
   "cell_type": "markdown",
   "metadata": {},
   "source": [
    "## Ex3 find the read "
   ]
  },
  {
   "cell_type": "code",
   "execution_count": 27,
   "metadata": {},
   "outputs": [
    {
     "name": "stdout",
     "output_type": "stream",
     "text": [
      "==========Bold Text===========\n",
      "['第一', '张图', '例子']\n",
      "Read Text: ['第', '2', '张图', '例子', '1']\n",
      "Red Bold Text: ['张图', '例子']\n"
     ]
    }
   ],
   "source": [
    "from docx import Document\n",
    "from docx.shared import RGBColor\n",
    "import re\n",
    "\n",
    "boldText=[]\n",
    "redText=[]\n",
    "\n",
    "doc = Document('test2.docx')\n",
    "\n",
    "for p in doc.paragraphs:\n",
    "    for r in p.runs:\n",
    "        if r.bold == True:\n",
    "            boldText.append(r.text)\n",
    "        if r.font.color.rgb == RGBColor(255,0,0):\n",
    "            redText.append(r.text)\n",
    "\n",
    "print(\"Bold Text\".center(30,'='))\n",
    "print(boldText)\n",
    "\n",
    "print(\"Read Text:\", redText)\n",
    "\n",
    "print(\"Red Bold Text:\",[new for new in boldText if new in redText])"
   ]
  },
  {
   "cell_type": "markdown",
   "metadata": {},
   "source": [
    "##例4  设置Word文件中所有图片都居中对齐\n",
    "    \n",
    "修改DOCX格式的Word文件，把其中所有单独成段的图片设置为居中对齐，图下面的编号和图片描述也设置为居中。\n"
   ]
  },
  {
   "cell_type": "code",
   "execution_count": 28,
   "metadata": {},
   "outputs": [],
   "source": [
    "from re import match\n",
    "from os. path import splitext\n",
    "from docx import Document\n",
    "from docx. enum. text import WD_ALIGN_PARAGRAPH\n",
    "fn='test4.docx'\n",
    "doc =Document(fn)\n",
    "#遍历所有段落\n",
    "for para in doc.paragraphs:\n",
    "    txt=para.text\n",
    "    #段落中不包含任何文本\n",
    "    if not txt:\n",
    "        contentId =(para. part. inline_shapes [0]._inline. graphic\n",
    "                    .graphicData. pic. blipFill. blip. embed)\n",
    "        contentType=para.part. related_parts[ contentId]. content_type\n",
    "        #段落中包含图片\n",
    "        if contentType. startswith('image'):\n",
    "            #段落对齐方式设置为居中\n",
    "            para.paragraph_format.alignment=WD_ALIGN_PARAGRAPH.CENTER\n",
    "    else:\n",
    "        #设置图下面的编号和名字也居中\n",
    "        if match(r'图\\d+',txt) and len(txt)<20:\n",
    "            para. paragraph_format.alignment=WD_ALIGN_PARAGRAPH.CENTER\n",
    "doc.save('处理后'.join(splitext(fn)))\n"
   ]
  },
  {
   "cell_type": "code",
   "execution_count": 31,
   "metadata": {},
   "outputs": [
    {
     "name": "stdout",
     "output_type": "stream",
     "text": [
      "('test4', '.docx')\n"
     ]
    }
   ],
   "source": [
    "fn='test4.docx'\n",
    "print(splitext(fn))\n",
    "\n",
    "?splitext\n"
   ]
  },
  {
   "cell_type": "markdown",
   "metadata": {},
   "source": [
    "## 例5  提取word文档中所有图片\n",
    "    docx格式的文档实际上是一个由多个文件组成的压缩文件，可以利用Python标准库zipfile直接打开这个压缩文件，然后把其中的图片文件提取出来保存为独立的文件。\n"
   ]
  },
  {
   "cell_type": "code",
   "execution_count": 32,
   "metadata": {},
   "outputs": [
    {
     "name": "stdout",
     "output_type": "stream",
     "text": [
      "word/media/image1.jpg\n"
     ]
    }
   ],
   "source": [
    "from zipfile import ZipFile\n",
    "from os. path import basename\n",
    "zf= ZipFile('test4.docx')\n",
    "for item in zf. filelist:\n",
    "    #文件名,例如word/media/image1.jpeg\n",
    "    fn=item.filename\n",
    "    if fn.endswith(('.jpg', '.jpeg','.png','gif')):\n",
    "        print(fn)\n",
    "        #读取压缩文件中图片文件的数据,写入本地文件\n",
    "        with open(basename(fn), 'wb') as fp:\n",
    "            fp.write(zf.read(fn))\n"
   ]
  },
  {
   "cell_type": "code",
   "execution_count": null,
   "metadata": {},
   "outputs": [],
   "source": [
    "## Ex4 找标题"
   ]
  },
  {
   "cell_type": "code",
   "execution_count": 41,
   "metadata": {},
   "outputs": [
    {
     "name": "stdout",
     "output_type": "stream",
     "text": [
      "Normal\n",
      "Normal\n",
      "Normal\n",
      "Normal\n",
      "Normal\n",
      "Normal\n",
      "Normal\n",
      "Normal\n",
      "Normal\n",
      "Normal\n",
      "Normal\n",
      "Normal\n",
      "Normal\n",
      "Normal\n"
     ]
    }
   ],
   "source": [
    "from zipfile import ZipFile\n",
    "from os. path import basename\n",
    "from docx import Document\n",
    "obj = Document('test4.docx')\n",
    "for p in obj.paragraphs:\n",
    "    style_name =p.style.name\n",
    "    print(style_name)\n",
    "    if style_name.startswith('Heading'):\n",
    "        print(style_name, p.text, sep=':')\n"
   ]
  },
  {
   "cell_type": "code",
   "execution_count": 4,
   "metadata": {},
   "outputs": [
    {
     "name": "stdout",
     "output_type": "stream",
     "text": [
      "1 uhzdd\n",
      "1.1.1 ramzq\n",
      "jvpavvlpvysczcnsrsitsewnxkkcvatvdogfyheuzyefepmapufbhcezdrytdbvrxwaywsekipteysadubdqgfheavsvcnddsbcp\n",
      "1.1.2 prdok\n",
      "nytluzqdqqhgicjedihwnmkpkjvhwxpxfyzxjoxhjwljlhvzvgfyljaksjzktimutlkfkoohabufvbpkokpggpoduzuvcsjyoycd\n",
      "1.2.1 hqbob\n",
      "davwtjkvlgehkixtdfpxsekaivtqqqhcnzfvdwtjruokwelmnjyfjfbgxnhtrthqxylsetzherrzzxgiauypydsgvuhorbkxvrfs\n",
      "1.2.2 lfbfb\n",
      "tyxqkrxxbsodwjngoblecavyjlxjxmcvqyaomtvdqekprgrxeclcpebgmlaxubhfimbrkaekevzkowyzemuwrskjbffpkxqlfaox\n",
      "1.3.1 yvmio\n",
      "rebgxciqtatmxzvuoygarariokqendxirfzvioxocdsetvtfcqtfkegpzidnxyikkvurxqinixvawdlqrtsuhmtkwamoyhkwkxro\n",
      "1.3.2 omuhp\n",
      "fnveorhhelnimcrijwapjwgjfdsfrlcogampzchjnplpzntbzzkhhafsqtpbrjhfqwhvtqzscbvkrpaseqejyhtwmqawbghaxpov\n",
      "1.4.1 wvxgh\n",
      "kscggnhdzqypnifwhmphfmoflvkudqatxcuplqrbojfioxgvnorktdhaxbmyzdmxkhmqyhpalrqecvjwgeqeipguqxydblbalevh\n",
      "1.4.2 pcxvy\n",
      "dczorvgubqffokisrfvsfttssrrfmlkhhhyerrnxojzprfqaqeuzrtbdemhwzhnnrqrgwhinrkrlczrdovnrbidncxojmqbcpqct\n",
      "2 lkapd\n",
      "2.1.1 mrras\n",
      "rvblinradffsyoztqvurkaydlwtozhtcgnypobsxhlmgygpqoifafbgklrftlbovsfwfyhkhfcrmmkmcytqgvnnlvixbsjkonyqa\n",
      "2.1.2 lulip\n",
      "rkcjhdlzjtsoekaopwoqshlmigkoyitienfccnisejkchjdwikcovbpjgfjkqbiynwefgsdnpjfdtrrnykpyavjetnwwvmpolhjr\n",
      "2.2.1 jticq\n",
      "ivfqzxvbbmraeeehxiwgmiyktsrjvvojgnpohevuhdgpofpbwwvabintwcuafpxfqcesmmdgtfzdmesehealuqrjcwubwgkptgir\n",
      "2.2.2 whlfr\n",
      "zingutsilwzzkmyynnzkpmslxjqnxmsoneczeyosmwqxxuvfskogzwazowxjlcsiizvdxpereqhslmielqbubhqkwzsnsciepchn\n",
      "2.3.1 gfcjz\n",
      "opmdggqheyzyllgojqjwrmlekvqotfwljxspukqlltmvxnhluqyggfrzcmmofpisipolyoziczketkfigxfagnshgwnivuzzjjcx\n",
      "2.3.2 cqpgr\n",
      "opcphthxzcqnskwwishfthiqcoqunwwlsjigpfrkldskchezslftyjgnlpvnhlecueuqipbysfxzrhdlehzxpcqrurhcclbhkqka\n",
      "2.4.1 vldth\n",
      "xfjwgdzfmixjdfyfhjaqemidppbsoorqdjrmizykuhgsxkhpefrhfjgtlxetoahinfxdkosubcbfbpltdlbijkjzamjvtqvygjua\n",
      "2.4.2 wyqsz\n",
      "wgxyuoveinyzzibjbjdkiaevbtdbhyqqbcrsadqsaztixnwqyvfrzsyezfvwrhelqlmbnjkynawuaphcisjxyvlajqqexilvzdjd\n"
     ]
    }
   ],
   "source": [
    "from random import choices\n",
    "from string import ascii_lowercase as lowercase\n",
    "doc=Document()\n",
    "\n",
    "\n",
    "for i in range(1, 3):\n",
    "    #print(i,' ',''.join(choices(lowercase,k=5)))\n",
    "    s1=str(i)+' '+''.join(choices(lowercase,k=5))\n",
    "    print(s1)\n",
    "    p=doc.add_paragraph()\n",
    "    run=p.add_run(s1)\n",
    "    for j in range(1,5):\n",
    "        #print(f'{i}.{j} ',''.join( choices(lowercase, k=5)))\n",
    "        s2=f'{i}.{j} '+''.join( choices(lowercase, k=5))\n",
    "        p=doc.add_paragraph()\n",
    "        run=p.add_run(s2)\n",
    "        for k in range(1, 3):\n",
    "            #f表示支持输出大括号内的变量值，若不加则会原样输出\n",
    "            #print(f'{i}.{j}.{k} ',''.join(choices(lowercase, k=5)))\n",
    "            #print(''.join(choices(lowercase, k=100)))\n",
    "            s3=f'{i}.{j}.{k} '+''.join(choices(lowercase, k=5))\n",
    "            s4=''.join(choices(lowercase, k=100))\n",
    "            print(s3)\n",
    "            print(s4)\n",
    "            p= doc.add_paragraph()\n",
    "            run=p.add_run(s3)\n",
    "            p= doc.add_paragraph()\n",
    "            run=p.add_run(s4)\n",
    "\n",
    "#doc.save('ex6-2_test.docx')\n",
    "doc.save('ex84_test.docx')"
   ]
  },
  {
   "cell_type": "markdown",
   "metadata": {},
   "source": [
    "#Ex6-2例6-2 设置Word文件中指定段落为目录标题\n",
    "\n",
    "2. 把所有以数字开头然后空格后面是文本的段落设置为对应级别的标题，如果开头只有一个数字就设置为一级标题，以一个圆点分隔的两个数字开头的段落设置为二级标题，以两个圆点分隔的三个数字开头的段落设置为三级标题。\n",
    "（1）打开word文件，手工设置一个一级标题、一个二级标题和一个三级标题，保存。\n",
    "（2）编写程序（见下页）并运行\n",
    "3. 在word中制作目录\n"
   ]
  },
  {
   "cell_type": "code",
   "execution_count": 46,
   "metadata": {},
   "outputs": [],
   "source": [
    "from docx import Document\n",
    "from docx.enum.style import WD_STYLE\n",
    "fn_word='ex6-2_test.docx'\n",
    "doc= Document(fn_word)\n",
    "for p in doc.paragraphs:\n",
    "    txt=p.text.strip()\n",
    "    #跳过空行\n",
    "    if not txt:\n",
    "        continue\n",
    "    #每行第一个空格前面的子串\n",
    "    cc=txt.split(maxsplit=1)[0]\n",
    "    #子串中包含的圆点数量\n",
    "    c=cc.count('.')\n",
    "    #不包含圆点,认为应该是一级标题,假设不超过99章\n",
    "    if c==0 and len(cc)<=2:\n",
    "        #需要先在当前文档中设置过一级标题,否则无法获取Heading1,下同\n",
    "        p.style=doc.styles['Heading 1']\n",
    "    #包含一个圆点,认为应该是二级标题,假设不超过99节,例如99.99\n",
    "    elif c==1 and len(cc)<=5:\n",
    "        p.style=doc.styles['Heading 2']\n",
    "    #包含两个圆点,认为应该是三级标题,假设不超过99小节,例如99.99.99\n",
    "    elif c==2 and len(cc)<=8:\n",
    "        p.style=doc.styles['Heading 3']\n",
    "#保存处理结果为另一个文件\n",
    "doc.save(f'1{fn_word}')\n"
   ]
  },
  {
   "cell_type": "markdown",
   "metadata": {},
   "source": [
    "## 例8 批量修改Word文档中特定关键字的颜色\n",
    "    读取word文档中的文字，在尽量不影响原来字体样式的情况下，只把特定的文字都修改为红色加粗。\n",
    "    可以分步骤实现：\n",
    "1. 设置单个文档中的单个关键字样式，类似于word中的查找替换；（下列代码仅实现该功能）\n",
    "2. 一次性批量设置多个文档中的单个关键字；\n",
    "3. 一次性批量设置多个文档中的多个关键字。\n",
    "（注意原有文本格式尽量不变，尤其是某些标点符号）\n"
   ]
  },
  {
   "cell_type": "code",
   "execution_count": 1,
   "metadata": {},
   "outputs": [],
   "source": [
    "#Ex 8\n",
    "from docx import Document\n",
    "from docx.shared import RGBColor, Pt, Cm\n",
    "docx = Document('1ex6-2_test.docx')\n",
    "keyword='a'\n",
    "#遍历文档中的每一段\n",
    "for paragraph in docx.paragraphs:\n",
    "    for run in paragraph.runs:\n",
    "        #获取原本文本块的字体属性\n",
    "        fontsize=run.font.size\n",
    "        bold=run.bold\n",
    "        color=run.font.color.rgb\n",
    "        #使用关键词切分当前文本块\n",
    "        rest = run.text.split(keyword)\n",
    "        #清空文本块内容\n",
    "        run.text=''\n",
    "        #取除了最后一个以外的全部内容\n",
    "        for text in rest[:-1]:\n",
    "            #把关键字前面的内容添加进文本块\n",
    "            run=paragraph.add_run(text=text)\n",
    "            #设置字体为原本文本块字体\n",
    "            run.font.size=fontsize\n",
    "            run.bold=bold\n",
    "            run.font.color.rgb=color\n",
    "            #添加关键字进文本块\n",
    "            run=paragraph.add_run(keyword)\n",
    "            #设置为红色加粗字体\n",
    "            run.font.bold = True\n",
    "            run.font.color.rgb = RGBColor(255, 0, 0)\n",
    "        #把关键字后面的内容添加进文本块\n",
    "        run=paragraph.add_run(rest[-1])\n",
    "        #设置字体为原本文本块字体\n",
    "        run.font.size=fontsize\n",
    "        run.bold=bold\n",
    "        run.font.color.rgb=color\n",
    "#保存文档    \n",
    "docx.save('new.docx')\n"
   ]
  },
  {
   "cell_type": "markdown",
   "metadata": {},
   "source": [
    "## 8-1"
   ]
  },
  {
   "cell_type": "code",
   "execution_count": 15,
   "metadata": {},
   "outputs": [
    {
     "name": "stdout",
     "output_type": "stream",
     "text": [
      "runing doc_modify: .\\li8\\1ex6-2_test.docx li8完成\\1ex6-2_test.docx as\n",
      "runing doc_modify: .\\li8\\6-2_test.docx li8完成\\6-2_test.docx as\n",
      "runing doc_modify: .\\li8\\demo.docx li8完成\\demo.docx as\n",
      "runing doc_modify: .\\li8\\ex6-2_test.docx li8完成\\ex6-2_test.docx as\n",
      "runing doc_modify: .\\li8\\ex82_test.docx li8完成\\ex82_test.docx as\n",
      "runing doc_modify: .\\li8\\ex83_test.docx li8完成\\ex83_test.docx as\n"
     ]
    }
   ],
   "source": [
    "#Ex 8-1 多个文件 1个keyword\n",
    "from docx import Document\n",
    "from docx.shared import RGBColor, Pt, Cm\n",
    "import os\n",
    "import glob\n",
    "\n",
    "dir_out ='li8完成'\n",
    "if not os.path.exists(dir_out):\n",
    "    os.mkdir(dir_out)\n",
    "    \n",
    "def doc_modify(fin,fout,keyword=''):\n",
    "    print(\"runing doc_modify:\",fin,fout,keyword)\n",
    "    docx = Document(fin)\n",
    "\n",
    "    #遍历文档中的每一段\n",
    "    for paragraph in docx.paragraphs:\n",
    "        for run in paragraph.runs:\n",
    "            #获取原本文本块的字体属性\n",
    "            fontsize=run.font.size\n",
    "            bold=run.bold\n",
    "            color=run.font.color.rgb\n",
    "            #使用关键词切分当前文本块\n",
    "            rest = run.text.split(keyword)\n",
    "            #清空文本块内容\n",
    "            run.text=''\n",
    "            #取除了最后一个以外的全部内容\n",
    "            for text in rest[:-1]:\n",
    "                #把关键字前面的内容添加进文本块\n",
    "                run=paragraph.add_run(text=text)\n",
    "                #设置字体为原本文本块字体\n",
    "                run.font.size=fontsize\n",
    "                run.bold=bold\n",
    "                run.font.color.rgb=color\n",
    "                #添加关键字进文本块\n",
    "                run=paragraph.add_run(keyword)\n",
    "                #设置为红色加粗字体\n",
    "                run.font.bold = True\n",
    "                run.font.color.rgb = RGBColor(255, 0, 0)\n",
    "            #把关键字后面的内容添加进文本块\n",
    "            run=paragraph.add_run(rest[-1])\n",
    "            #设置字体为原本文本块字体\n",
    "            run.font.size=fontsize\n",
    "            run.bold=bold\n",
    "            run.font.color.rgb=color\n",
    "    #保存文档    \n",
    "    docx.save(fout)\n",
    "\n",
    "for file in glob.glob(r'.\\li8\\*.docx'):\n",
    "    #fn=os.pathsep(file)\n",
    "    #print(file,\"out\",dir_out+os.path.basename(file))\n",
    "    \n",
    "    doc_modify(file,dir_out+'\\\\'+os.path.basename(file),'as')"
   ]
  },
  {
   "cell_type": "code",
   "execution_count": null,
   "metadata": {},
   "outputs": [],
   "source": []
  },
  {
   "cell_type": "code",
   "execution_count": 16,
   "metadata": {},
   "outputs": [
    {
     "name": "stdout",
     "output_type": "stream",
     "text": [
      "runing doc_modify: .\\li8\\1ex6-2_test.docx li8完成\\1ex6-2_test.docx ['as', 'b']\n",
      "runing doc_modify: .\\li8\\6-2_test.docx li8完成\\6-2_test.docx ['as', 'b']\n",
      "runing doc_modify: .\\li8\\demo.docx li8完成\\demo.docx ['as', 'b']\n",
      "runing doc_modify: .\\li8\\ex6-2_test.docx li8完成\\ex6-2_test.docx ['as', 'b']\n",
      "runing doc_modify: .\\li8\\ex82_test.docx li8完成\\ex82_test.docx ['as', 'b']\n",
      "runing doc_modify: .\\li8\\ex83_test.docx li8完成\\ex83_test.docx ['as', 'b']\n"
     ]
    }
   ],
   "source": [
    "#Ex 8-1 多个文件 1个keyword\n",
    "from docx import Document\n",
    "from docx.shared import RGBColor, Pt, Cm\n",
    "import os\n",
    "import glob\n",
    "\n",
    "keywords = ['a','ba']\n",
    "\n",
    "dir_out ='li8完成'\n",
    "if not os.path.exists(dir_out):\n",
    "    os.mkdir(dir_out)\n",
    "    \n",
    "def doc_modify(fin,fout,keywords=[]):\n",
    "    '''\n",
    "    Function: doc_modify\n",
    "      change the keyword to bold\n",
    "    @fin: input file name\n",
    "    @fout: output file name\n",
    "    @keywords: keyword list\n",
    "    '''\n",
    "    print(\"runing doc_modify:\",fin,fout,keywords)\n",
    "    docx = Document(fin)\n",
    "    \n",
    "    # the docx is already in memory now. keyword will go though entire document in each run.\n",
    "    for keyword in keywords:\n",
    "        #遍历文档中的每一段\n",
    "        for paragraph in docx.paragraphs:\n",
    "            for run in paragraph.runs:\n",
    "                #获取原本文本块的字体属性\n",
    "                fontsize=run.font.size\n",
    "                bold=run.bold\n",
    "                color=run.font.color.rgb\n",
    "                #使用关键词切分当前文本块\n",
    "                rest = run.text.split(keyword)\n",
    "                #清空文本块内容\n",
    "                run.text=''\n",
    "                #取除了最后一个以外的全部内容\n",
    "                for text in rest[:-1]:\n",
    "                    #把关键字前面的内容添加进文本块\n",
    "                    run=paragraph.add_run(text=text)\n",
    "                    #设置字体为原本文本块字体\n",
    "                    run.font.size=fontsize\n",
    "                    run.bold=bold\n",
    "                    run.font.color.rgb=color\n",
    "                    #添加关键字进文本块\n",
    "                    run=paragraph.add_run(keyword)\n",
    "                    #设置为红色加粗字体\n",
    "                    run.font.bold = True\n",
    "                    run.font.color.rgb = RGBColor(255, 0, 0)\n",
    "                #把关键字后面的内容添加进文本块\n",
    "                run=paragraph.add_run(rest[-1])\n",
    "                #设置字体为原本文本块字体\n",
    "                run.font.size=fontsize\n",
    "                run.bold=bold\n",
    "                run.font.color.rgb=color\n",
    "    #保存文档    \n",
    "    docx.save(fout)\n",
    "\n",
    "for file in glob.glob(r'.\\li8\\*.docx'):\n",
    "    #fn=os.pathsep(file)\n",
    "    #print(file,\"out\",dir_out+os.path.basename(file))\n",
    "    \n",
    "    doc_modify(file,dir_out+'\\\\'+os.path.basename(file),['as','b'])"
   ]
  },
  {
   "cell_type": "code",
   "execution_count": null,
   "metadata": {},
   "outputs": [],
   "source": []
  }
 ],
 "metadata": {
  "kernelspec": {
   "display_name": "Python 3",
   "language": "python",
   "name": "python3"
  },
  "language_info": {
   "codemirror_mode": {
    "name": "ipython",
    "version": 3
   },
   "file_extension": ".py",
   "mimetype": "text/x-python",
   "name": "python",
   "nbconvert_exporter": "python",
   "pygments_lexer": "ipython3",
   "version": "3.8.5"
  }
 },
 "nbformat": 4,
 "nbformat_minor": 4
}
