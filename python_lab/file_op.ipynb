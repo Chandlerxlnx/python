{
 "cells": [
  {
   "attachments": {},
   "cell_type": "markdown",
   "metadata": {},
   "source": [
    "# File Operation\n",
    "\n",
    "## buildin operations ##\n",
    "\n",
    "### open ###\n",
    "* syntax\n",
    "```python\n",
    "fn = open(file, mode='r', buffering=-1, encoding=None, errors=None,\n",
    "     newline=None, closefd=True, opener=None)\n",
    "\n",
    "with open() as fn:\n",
    "    fn operation block\n",
    "```\n",
    "    - [x] file参数指定了被打开的文件名称。\n",
    "    - [x] mode参数指定了打开文件后的处理方式。\n",
    "    - [x] buffering参数指定了读写文件的缓存模式。0表示不缓存，1表示缓存，如大于1则表示缓冲区的大小。默认值是缓存模式。\n",
    "    - [x] encoding参数指定对文本进行编码和解码的方式，只适用于文本模式，可以使用Python支持的任何格式，如GBK、utf8、CP936等等。\n",
    "\n",
    "> note: 推荐用with. 关键字with 可以自动管理资源，跳出with块，会自动关闭文件。\n",
    "mode table\n",
    "|mode | description|\n",
    "|:----|;-----------|\n",
    "|r   |读模式（默认模式，可省略），如果文件不存在则抛出异常 |\n",
    "|w   |写模式，如果文件已存在，先清空原有内容 |\n",
    "|x   | 写模式，创建新文件，如果文件已存在则抛出异常|\n",
    "|+   |读、写模式（可与其他模式组合使用） |\n",
    "|a   |追加模式，不覆盖文件中原有内容 |\n",
    "|b   |二进制模式（可与其他模式组合使用） |\n",
    "|t   |文本模式（默认模式，可省略） |\n",
    "\n",
    "### close ##\n",
    "* syntax\n",
    "```\n",
    "  fn.close()\n",
    "```\n",
    "|operation|description|\n",
    "|:--------|:----------|\n",
    "|*close()*| |\n",
    "|*flush()*| |\n",
    "|* read(\\[size\\])| |\n",
    "|*readline()*| |\n",
    "|*readlines()*| |\n",
    "|*seek(offset\\[,whence\\])*|把文件指针移动到新的字节位置，offset表示相对于whence的位置。whence为0表示从文件头开始计算，1表示从当前位置开始计算，2表示从文件尾开始计算，默认为0|\n",
    "|\n"
   ]
  },
  {
   "cell_type": "code",
   "execution_count": 3,
   "metadata": {},
   "outputs": [
    {
     "name": "stdout",
     "output_type": "stream",
     "text": [
      "This is line 1\n",
      "\n",
      "第二行\n",
      "\n",
      "第二行\n",
      "\n"
     ]
    }
   ],
   "source": [
    "# example text reading\n",
    "\n",
    "f1 = open(r'tmp/test.txt','r',encoding='UTF-8')\n",
    "print(f1.readline())\n",
    "print(f1.readline())\n",
    "\n",
    "f1.close()\n",
    "\n",
    "with open(r'tmp/test.txt','r',encoding='UTF-8') as f1:\n",
    "    lines = f1.readlines()\n",
    "    print(lines[1]) # print line 2 only"
   ]
  },
  {
   "cell_type": "code",
   "execution_count": 14,
   "metadata": {},
   "outputs": [
    {
     "name": "stdout",
     "output_type": "stream",
     "text": [
      "Hello world\n",
      "文本文件的读取方法\n",
      "文本文件的写入方法\n",
      "\n",
      "---check sample_out.txt---\n",
      "Hello world\n",
      "文本文件的读取方法\n",
      "文本文件的写入方法\n",
      "\n"
     ]
    }
   ],
   "source": [
    "# example with open, read/write\n",
    "s = 'Hello world\\n文本文件的读取方法\\n文本文件的写入方法\\n'\n",
    "\n",
    "with open('sample.txt', 'w') as fp:    #默认使用cp936编码\n",
    "    fp.write(s)\n",
    "\n",
    "with open('sample.txt') as fp:         #默认使用cp936编码\n",
    "    print(fp.read())\n",
    "\n",
    "with open('sample.txt') as fin, open('sample_out.txt','w+') as fout:\n",
    "    #while (line=fin.readline()):\n",
    "    for line in fin: # read each line\n",
    "        fout.write(line)\n",
    "        fout.readline()\n",
    "print(\"---check sample_out.txt---\")\n",
    "# read sample_out.txt        \n",
    "with open('sample_out.txt') as fp:         #默认使用cp936编码\n",
    "    s2=''\n",
    "    for line in fp:\n",
    "        s2+=line\n",
    "    print(s2)\n"
   ]
  },
  {
   "cell_type": "code",
   "execution_count": 11,
   "metadata": {},
   "outputs": [
    {
     "name": "stdout",
     "output_type": "stream",
     "text": [
      "最长行内容：\" Hello world \",共 12 个字符\n"
     ]
    }
   ],
   "source": [
    "#example find the longest line\n",
    "\n",
    "with open('sample.txt') as fp:\n",
    "    result =[0,'']\n",
    "    for line in fp:\n",
    "        t = len(line)\n",
    "        if t >= result[0]:\n",
    "            result = [t,line]\n",
    "print('最长行内容：\"',result[1][:-1],'\",共',result[0],'个字符')"
   ]
  },
  {
   "cell_type": "code",
   "execution_count": 6,
   "metadata": {},
   "outputs": [
    {
     "name": "stdout",
     "output_type": "stream",
     "text": [
      "8838\n",
      "3445\n",
      "929\n",
      "884\n",
      "443\n",
      "382\n",
      "1\n",
      "0\n",
      "-11\n",
      "-233\n",
      "\n"
     ]
    }
   ],
   "source": [
    "'''\n",
    "# 假设文件data.txt中有若干整数，\n",
    "每行一个整数，编写程序读取所有整数，\n",
    "将其按降序排序后再写入文本文件data_asc.txt中。\n",
    "'''\n",
    "\n",
    "with open('data.txt', 'r') as fp:\n",
    "    data = fp.readlines()                     #读取所有行，存入列表\n",
    "\n",
    "# method define methodology of sorting the data.\n",
    "'''\n",
    "3 methods here:\n",
    "0: increasing by digi\n",
    "1: descreasing by digi\n",
    "2: sorting in one command\n",
    "'''\n",
    "method=2\n",
    "\n",
    "if method <2:\n",
    "    data = [int(item) for item in data]           #列表推导式，转换为数字\n",
    "    if method ==1:\n",
    "        data.sort(reverse=True)                       #降序排序\n",
    "    elif method ==0:\n",
    "        data.sort()                       #升序排序\n",
    "    else:\n",
    "        print(\"the method doesn't exist\")\n",
    "    data = [str(item)+'\\n' for item in data]      #将结果转换为字符串\n",
    "elif method ==2:\n",
    "    data.sort(key=int,reverse=True)             #直接这样更简洁\n",
    "\n",
    "with open('data_inc.txt', 'w') as fp:        #将结果写入文件\n",
    "    fp.writelines(data)\n",
    "\n",
    "with open('data_inc.txt') as fp:\n",
    "    print(fp.read())"
   ]
  },
  {
   "cell_type": "code",
   "execution_count": 35,
   "metadata": {},
   "outputs": [
    {
     "name": "stdout",
     "output_type": "stream",
     "text": [
      "zhangsan 123\n",
      "请输入用户名：fkldsfjl\n",
      "请输入密码：lkd\n",
      "登录失败\n"
     ]
    }
   ],
   "source": [
    "with open('userinfo.txt') as fp:\n",
    "    username = fp.readline()[:-1]\n",
    "    pwd = fp.readline()[:-1]\n",
    "    print(username,pwd)\n",
    "    \n",
    "    #if input('请输入用户名：') ==username and \\\n",
    "    #input('请输入密码：') ==pwd:\n",
    "username0= input('请输入用户名：')\n",
    "pwd0 =input('请输入密码：')\n",
    "if username==username0 and pwd ==pwd0:\n",
    "#if username =='zhangsan' and pwd =='123':\n",
    "    print(\"登录成功\")\n",
    "else:\n",
    "    print('登录失败')\n",
    "    with open('log.txt','a') as fp2:\n",
    "        #fp2.writelines(user0+','+pwd0)\n",
    "        fp2.write(username0+','+pwd0+'\\n')\n",
    "    #else:\n",
    "    #    print(\"error in open log.txt\")\n",
    "        \n",
    "        "
   ]
  },
  {
   "cell_type": "markdown",
   "metadata": {},
   "source": [
    "## 二进制文件操作\n",
    "* 数据库文件、图像文件、可执行文件、动态链接库文件、音频文件、视频文件、Office文档等均属于二进制文件。\n",
    "* 对于二进制文件，不能使用记事本或其他文本编辑软件直接进行正常读写，也不能通过Python的文件对象直接读取和理解二进制文件的内容。必须正确理解二进制文件结构和序列化规则，然后设计正确的反序列化规则，才能准确地理解二进制文件内容。\n",
    "* 所谓序列化，简单地说就是把内存中的数据在不丢失其类型信息的情况下转成二进制形式的过程，对象序列化后的数据经过正确的反序列化过程应该能够准确无误地恢复为原来的对象。\n",
    "* Python中常用的序列化模块有struct、pickle、shelve、marshal。\n"
   ]
  },
  {
   "cell_type": "markdown",
   "metadata": {},
   "source": [
    "### pickle ###\n",
    "* packle file fomrat\n",
    " emelement number, element\\[0\\],element\\[1\\],...element\\[n-1\\]"
   ]
  },
  {
   "cell_type": "code",
   "execution_count": 15,
   "metadata": {},
   "outputs": [],
   "source": [
    "#例9-5   使用pickle模块写入二进制文件。\n",
    "import pickle\n",
    "\n",
    "i = 13000000\n",
    "a = 99.056\n",
    "s = '中国人民 123abc'\n",
    "lst = [[1, 2, 3], [4, 5, 6], [7, 8, 9]]\n",
    "tu = (-5, 10, 8)\n",
    "coll = {4, 5, 6}\n",
    "dic = {'a':'apple', 'b':'banana', 'g':'grape', 'o':'orange'}\n",
    "data = (i, a, s, lst, tu, coll, dic)\n",
    "with open('sample_pickle.dat', 'wb') as f:\n",
    "    try:\n",
    "        pickle.dump(len(data), f)        #要序列化的对象个数\n",
    "        for item in data:\n",
    "            pickle.dump(item, f)         #序列化数据并写入文件\n",
    "    except:\n",
    "        print('写文件异常')\n"
   ]
  },
  {
   "cell_type": "code",
   "execution_count": 24,
   "metadata": {},
   "outputs": [
    {
     "name": "stdout",
     "output_type": "stream",
     "text": [
      "13000000\n",
      "99.056\n",
      "中国人民 123abc\n",
      "[[1, 2, 3], [4, 5, 6], [7, 8, 9]]\n",
      "(-5, 10, 8)\n",
      "{4, 5, 6}\n",
      "{'a': 'apple', 'b': 'banana', 'g': 'grape', 'o': 'orange'}\n"
     ]
    }
   ],
   "source": [
    "# 例9-6  使用pickle模块读取上例中二进制文件的内容。\n",
    "\n",
    "import pickle\n",
    "\n",
    "with open('sample_pickle.dat', 'rb') as f:\n",
    "    n = pickle.load(f)                     #读出文件中的数据个数\n",
    "    for i in range(n):\n",
    "        x = pickle.load(f)              #读取并反序列化每个数据\n",
    "        print(x)\n"
   ]
  },
  {
   "cell_type": "markdown",
   "metadata": {},
   "source": [
    "### struct ###\n"
   ]
  },
  {
   "cell_type": "code",
   "execution_count": 37,
   "metadata": {},
   "outputs": [],
   "source": [
    "#例9-7   使用struct模块写入二进制文件。\n",
    "\n",
    "import struct\n",
    "\n",
    "n = 1300000000\n",
    "x = 96.45\n",
    "b = True\n",
    "s = 'a1@中国'\n",
    "sn = struct.pack('if?', n, x, b)  #序列化，i表示整数，f表示实数，?表示逻辑值\n",
    "with open('sample_struct.dat', 'wb') as f:\n",
    "    f.write(sn)\n",
    "    f.write(s.encode())           #字符串需要编码为字节串再写入文件\n"
   ]
  },
  {
   "cell_type": "code",
   "execution_count": 38,
   "metadata": {},
   "outputs": [
    {
     "name": "stdout",
     "output_type": "stream",
     "text": [
      "n= 1300000000 x= 96.44999694824219 b1= True\n",
      "s= a1@中国\n"
     ]
    }
   ],
   "source": [
    "#例9-8  使用struct模块读取上例中二进制文件的内容。\n",
    "\n",
    "import struct\n",
    "\n",
    "with open('sample_struct.dat', 'rb') as f:\n",
    "    sn = f.read(9)\n",
    "    n, x, b1 = struct.unpack('if?', sn)   #使用指定格式反序列化\n",
    "    print('n=',n, 'x=',x, 'b1=',b1)\n",
    "    s = f.read(9).decode()\n",
    "    print('s=', s)\n"
   ]
  },
  {
   "cell_type": "markdown",
   "metadata": {},
   "source": [
    "### shelve module ###\n",
    "Help on module shelve:\n",
    "\n",
    "NAME\n",
    "    shelve - Manage shelves of pickled objects.\n",
    "\n",
    "MODULE REFERENCE\n",
    "    https://docs.python.org/3.8/library/shelve\n",
    "\n",
    "> note: shelve file looks like a simple key-value db file.storying dict"
   ]
  },
  {
   "cell_type": "code",
   "execution_count": 60,
   "metadata": {
    "scrolled": false
   },
   "outputs": [
    {
     "ename": "FileNotFoundError",
     "evalue": "[Errno 2] No such file or directory",
     "output_type": "error",
     "traceback": [
      "\u001b[1;31m---------------------------------------------------------------------------\u001b[0m",
      "\u001b[1;31mFileNotFoundError\u001b[0m                         Traceback (most recent call last)",
      "\u001b[1;32m<ipython-input-60-802065a95a9f>\u001b[0m in \u001b[0;36m<module>\u001b[1;34m\u001b[0m\n\u001b[0;32m      1\u001b[0m \u001b[1;32mimport\u001b[0m \u001b[0mos\u001b[0m\u001b[1;33m\u001b[0m\u001b[1;33m\u001b[0m\u001b[0m\n\u001b[0;32m      2\u001b[0m \u001b[1;33m\u001b[0m\u001b[0m\n\u001b[1;32m----> 3\u001b[1;33m \u001b[0mos\u001b[0m\u001b[1;33m.\u001b[0m\u001b[0mexecl\u001b[0m\u001b[1;33m(\u001b[0m\u001b[1;34m'pydoc.exe'\u001b[0m\u001b[1;33m,\u001b[0m\u001b[1;33m(\u001b[0m\u001b[1;34m'os'\u001b[0m\u001b[1;33m)\u001b[0m\u001b[1;33m)\u001b[0m\u001b[1;33m\u001b[0m\u001b[1;33m\u001b[0m\u001b[0m\n\u001b[0m\u001b[0;32m      4\u001b[0m \u001b[1;31m#print(os.startfile('pydoc.exe'))\u001b[0m\u001b[1;33m\u001b[0m\u001b[1;33m\u001b[0m\u001b[1;33m\u001b[0m\u001b[0m\n\u001b[0;32m      5\u001b[0m \u001b[1;33m\u001b[0m\u001b[0m\n",
      "\u001b[1;32m~\\anaconda3\\lib\\os.py\u001b[0m in \u001b[0;36mexecl\u001b[1;34m(file, *args)\u001b[0m\n\u001b[0;32m    534\u001b[0m     \u001b[0mExecute\u001b[0m \u001b[0mthe\u001b[0m \u001b[0mexecutable\u001b[0m \u001b[0mfile\u001b[0m \u001b[1;32mwith\u001b[0m \u001b[0margument\u001b[0m \u001b[0mlist\u001b[0m \u001b[0margs\u001b[0m\u001b[1;33m,\u001b[0m \u001b[0mreplacing\u001b[0m \u001b[0mthe\u001b[0m\u001b[1;33m\u001b[0m\u001b[1;33m\u001b[0m\u001b[0m\n\u001b[0;32m    535\u001b[0m     current process. \"\"\"\n\u001b[1;32m--> 536\u001b[1;33m     \u001b[0mexecv\u001b[0m\u001b[1;33m(\u001b[0m\u001b[0mfile\u001b[0m\u001b[1;33m,\u001b[0m \u001b[0margs\u001b[0m\u001b[1;33m)\u001b[0m\u001b[1;33m\u001b[0m\u001b[1;33m\u001b[0m\u001b[0m\n\u001b[0m\u001b[0;32m    537\u001b[0m \u001b[1;33m\u001b[0m\u001b[0m\n\u001b[0;32m    538\u001b[0m \u001b[1;32mdef\u001b[0m \u001b[0mexecle\u001b[0m\u001b[1;33m(\u001b[0m\u001b[0mfile\u001b[0m\u001b[1;33m,\u001b[0m \u001b[1;33m*\u001b[0m\u001b[0margs\u001b[0m\u001b[1;33m)\u001b[0m\u001b[1;33m:\u001b[0m\u001b[1;33m\u001b[0m\u001b[1;33m\u001b[0m\u001b[0m\n",
      "\u001b[1;31mFileNotFoundError\u001b[0m: [Errno 2] No such file or directory"
     ]
    }
   ],
   "source": [
    "import os\n",
    "\n",
    "os.execl('pydoc.exe',('os'))\n",
    "#print(os.startfile('pydoc.exe'))\n",
    "\n",
    "#exec('pydoc.exe shelve')"
   ]
  },
  {
   "cell_type": "code",
   "execution_count": 63,
   "metadata": {},
   "outputs": [
    {
     "name": "stdout",
     "output_type": "stream",
     "text": [
      "{'age': 38, 'sex': 'Male', 'address': 'SDIBT'}\n",
      "38\n",
      "1234567\n",
      "333\n",
      "---fp.items---\n",
      "('zhangsan', {'age': 38, 'sex': 'Male', 'address': 'SDIBT'})\n",
      "('lisi', {'age': 40, 'sex': 'Male', 'qq': '1234567', 'tel': '7654321'})\n",
      "('0', '000')\n",
      "('1', '111')\n",
      "('2', '222')\n",
      "('3', '333')\n",
      "('4', '444')\n"
     ]
    }
   ],
   "source": [
    "# 使用shelve模块读写二进制文件。\n",
    "\n",
    "import shelve\n",
    "zhangsan = {'age':38, 'sex':'Male', 'address':'SDIBT'}\n",
    "lisi = {'age':40, 'sex':'Male', 'qq':'1234567', 'tel':'7654321'}\n",
    "with shelve.open('shelve_test.dat') as fp:\n",
    "    fp['zhangsan'] = zhangsan      # 像操作字典一样把数据写入文件\n",
    "    fp['lisi'] = lisi\n",
    "    for i in range(5):\n",
    "        fp[str(i)] = str(i)*3\n",
    "\n",
    "with shelve.open('shelve_test.dat') as fp:\n",
    "    print(fp['zhangsan'])                 #读取并显示文件内容\n",
    "    print(fp['zhangsan']['age'])\n",
    "    print(fp['lisi']['qq'])\n",
    "    print(fp['3'])\n",
    "    print(\"---fp.items---\")\n",
    "    for itm in fp.items():\n",
    "        print(itm)\n"
   ]
  },
  {
   "cell_type": "markdown",
   "metadata": {},
   "source": [
    "### marshal module\n",
    "\n",
    "detail document please refer to cmd: `pydoc marshal`\n",
    "dumping variables into marshal file.\n",
    "\n",
    "Functions: \n",
    "\n",
    "   * dump() -- write value to a file\n",
    "   * load() -- read value from a file\n",
    "   * dumps() -- marshal value as a bytes object\n",
    "   * loads() -- read value from a bytes-like object\n"
   ]
  },
  {
   "cell_type": "code",
   "execution_count": 65,
   "metadata": {},
   "outputs": [
    {
     "name": "stdout",
     "output_type": "stream",
     "text": [
      "[30, 5.0, [1, 2, 3], (4, 5, 6), {'a': 1, 'b': 2, 'c': 3}, {8, 9, 7}]\n",
      "30\n",
      "5.0\n",
      "[1, 2, 3]\n",
      "(4, 5, 6)\n",
      "{'a': 1, 'b': 2, 'c': 3}\n",
      "{8, 9, 7}\n"
     ]
    }
   ],
   "source": [
    "#例9-10  使用marshal模块读写二进制文件，并对对象进行序列化和反序列化操作。\n",
    "\n",
    "import marshal                   #导入模块\n",
    "x1 = 30                           #待序列化的对象\n",
    "x2 = 5.0\n",
    "x3 = [1, 2, 3]\n",
    "x4 = (4, 5, 6)\n",
    "x5 = {'a':1, 'b':2, 'c':3}\n",
    "x6 = {7, 8, 9}\n",
    "x = [eval('x'+str(i)) for i in range(1,7)]  #把所有数据放入列表\n",
    "print(x)\n",
    "\n",
    "with open('test.dat', 'wb') as fp: #创建二进制文件\n",
    "    marshal.dump(len(x), fp)             #先写入对象个数\n",
    "    for item in x:\n",
    "        marshal.dump(item,fp)  #把列表中的对象依次序列化并写入文件\n",
    "\n",
    "with open('test.dat', 'rb') as fp:  #打开二进制文件\n",
    "    n = marshal.load(fp)              #获取对象个数\n",
    "    for i in range(n):\n",
    "        print(marshal.load(fp))    #反序列化，输出结果\n"
   ]
  },
  {
   "cell_type": "markdown",
   "metadata": {},
   "source": [
    "### excel file ###\n",
    "使用扩展库openpyxl读写Excel 2007以及更高版本的文件。部分功能还支持的不是很好，可能图片和图表显示不正常。\n",
    "detail document please refer to `pydoc openpyxl`\n",
    " and [openpyxl Online document](https://openpyxl.readthedocs.io/en/stable/)\n",
    " #### Saving as a stream\n",
    "If you want to save the file to a stream, e.g. when using a web application such as Pyramid, Flask or Django then you can simply provide a NamedTemporaryFile():\n",
    "```PYTHON\n",
    ">>> from tempfile import NamedTemporaryFile\n",
    ">>> from openpyxl import Workbook\n",
    ">>> wb = Workbook()\n",
    ">>> with NamedTemporaryFile() as tmp:\n",
    "        wb.save(tmp.name)\n",
    "        tmp.seek(0)\n",
    "        stream = tmp.read()\n",
    "```\n",
    "You can specify the attribute template=True, to save a workbook as a template:\n",
    "```PYTHON\n",
    ">>> wb = load_workbook('document.xlsx')\n",
    ">>> wb.template = True\n",
    ">>> wb.save('document_template.xltx')\n",
    "```\n",
    "or set this attribute to False (default), to save as a document:\n",
    "```PYTHON\n",
    ">>> wb = load_workbook('document_template.xltx')\n",
    ">>> wb.template = False\n",
    ">>> wb.save('document.xlsx', as_template=False)\n",
    "```"
   ]
  },
  {
   "cell_type": "code",
   "execution_count": 68,
   "metadata": {},
   "outputs": [
    {
     "name": "stdout",
     "output_type": "stream",
     "text": [
      "这是第一个单元格\n"
     ]
    }
   ],
   "source": [
    "#例9-11   使用扩展库openpyxl读写Excel 2007以及更高版本的文件。\n",
    "\n",
    "import openpyxl\n",
    "from openpyxl import Workbook\n",
    "fn = r'labfile\\test.xlsx'                       #文件名\n",
    "wb = Workbook()                            #创建工作簿\n",
    "ws = wb.create_sheet(title='你好，世界')    #创建工作表\n",
    "ws['A1'] = '这是第一个单元格'                #单元格赋值\n",
    "ws['B1'] = 3.1415926\n",
    "wb.save(fn)                                 #保存Excel文件\n",
    "wb = openpyxl.load_workbook(fn)             #打开已有的Excel文件\n",
    "ws = wb.worksheets[1]                       #打开指定索引的工作表\n",
    "print(ws['A1'].value)                       #读取并输出指定单元格的值\n",
    "ws.append([1,2,3,4,5])                      #添加一行数据\n",
    "ws.merge_cells('F2:F3')                     #合并单元格\n",
    "ws['F2'] = \"=sum(A2:E2)\"                    #写入公式\n",
    "for r in range(10,15):\n",
    "    for c in range(3,8):\n",
    "        ws.cell(row=r, column=c, value=r*c) #写入单元格数据\n",
    "wb.save(fn)\n"
   ]
  },
  {
   "cell_type": "code",
   "execution_count": 81,
   "metadata": {},
   "outputs": [],
   "source": [
    "#例9-12   把记事本文件test.txt转换成Excel 2007+文件。假设test.txt文件中第一行为表头，从第二行开始是实际数据，并且表头和数据行中的不同字段信息都是用逗号分隔。\n",
    "from openpyxl import Workbook\n",
    "from random import randint\n",
    "\n",
    "def main(txtFileName):\n",
    "    new_XlsxFileName = txtFileName[:-3] + 'xlsx'\n",
    "    wb = Workbook()\n",
    "    ws = wb.worksheets[0]\n",
    "    with open(txtFileName) as fp:\n",
    "        for line in fp:\n",
    "            line = line.strip().split(',')\n",
    "            line =[(int(s0) if s0.isnumeric() \n",
    "                 else float(s0) if s0.replace('.','',1).isnumeric() \n",
    "                    else  s0) for s0 in line]\n",
    "            ws.append(line)\n",
    "    wb.save(new_XlsxFileName)\n",
    "\n",
    "# create test.txt file\n",
    "line_format ='{0:d},{1:3.3d}\\n'\n",
    "with open(r'labfile\\test.txt','w') as fp:\n",
    "    fp.writelines(\"year,revenue\\n\")\n",
    "    for n in range(10):\n",
    "        fp.write(line_format.format((2000+n), randint(100,1000)))\n",
    "    \n",
    "main(r'labfile\\test.txt')\n"
   ]
  },
  {
   "cell_type": "code",
   "execution_count": 94,
   "metadata": {},
   "outputs": [
    {
     "name": "stdout",
     "output_type": "stream",
     "text": [
      "None\n",
      "-384.5\n",
      "-241.22222222222217\n",
      "105.625\n",
      "-271.28571428571433\n",
      "-9.5\n",
      "83.60000000000002\n",
      "-97.5\n",
      "172\n",
      "128\n",
      "0\n",
      "<Cell 'Sheet1'.C2>\n",
      "-241.22222222222217\n"
     ]
    }
   ],
   "source": [
    "#例9-13  输出Excel文件中单元格中公式计算结果。\n",
    "\n",
    "import openpyxl\n",
    "\n",
    "#打开Excel文件\n",
    "wb = openpyxl.load_workbook(r'labfile/data.xlsx', data_only=True)\n",
    "\n",
    "#获取WorkSheet\n",
    "ws = wb.worksheets[1]\n",
    "\n",
    "#遍历Excel文件所有行，假设下标为2的列中是公式\n",
    "for row in ws.rows:\n",
    "    print(row[2].value)\n",
    "    #print(row)\n",
    "\n",
    "print(ws['C2'])\n",
    "print(wb.worksheets[1].cell(3,3).internal_value)\n"
   ]
  },
  {
   "cell_type": "code",
   "execution_count": 97,
   "metadata": {},
   "outputs": [
    {
     "ename": "PermissionError",
     "evalue": "[Errno 13] Permission denied: 'C:\\\\Users\\\\Zandra\\\\AppData\\\\Local\\\\Temp\\\\tmp0ouqe0df'",
     "output_type": "error",
     "traceback": [
      "\u001b[1;31m---------------------------------------------------------------------------\u001b[0m",
      "\u001b[1;31mPermissionError\u001b[0m                           Traceback (most recent call last)",
      "\u001b[1;32m<ipython-input-97-89e95d996522>\u001b[0m in \u001b[0;36m<module>\u001b[1;34m\u001b[0m\n\u001b[0;32m      5\u001b[0m \u001b[0mwb\u001b[0m \u001b[1;33m=\u001b[0m \u001b[0mWorkbook\u001b[0m\u001b[1;33m(\u001b[0m\u001b[1;33m)\u001b[0m\u001b[1;33m\u001b[0m\u001b[1;33m\u001b[0m\u001b[0m\n\u001b[0;32m      6\u001b[0m \u001b[1;32mwith\u001b[0m \u001b[0mNamedTemporaryFile\u001b[0m\u001b[1;33m(\u001b[0m\u001b[1;33m)\u001b[0m \u001b[1;32mas\u001b[0m \u001b[0mtmp\u001b[0m\u001b[1;33m:\u001b[0m\u001b[1;33m\u001b[0m\u001b[1;33m\u001b[0m\u001b[0m\n\u001b[1;32m----> 7\u001b[1;33m         \u001b[0mwb\u001b[0m\u001b[1;33m.\u001b[0m\u001b[0msave\u001b[0m\u001b[1;33m(\u001b[0m\u001b[0mtmp\u001b[0m\u001b[1;33m.\u001b[0m\u001b[0mname\u001b[0m\u001b[1;33m)\u001b[0m\u001b[1;33m\u001b[0m\u001b[1;33m\u001b[0m\u001b[0m\n\u001b[0m\u001b[0;32m      8\u001b[0m         \u001b[0mtmp\u001b[0m\u001b[1;33m.\u001b[0m\u001b[0mseek\u001b[0m\u001b[1;33m(\u001b[0m\u001b[1;36m0\u001b[0m\u001b[1;33m)\u001b[0m\u001b[1;33m\u001b[0m\u001b[1;33m\u001b[0m\u001b[0m\n\u001b[0;32m      9\u001b[0m         \u001b[0mstream\u001b[0m \u001b[1;33m=\u001b[0m \u001b[0mtmp\u001b[0m\u001b[1;33m.\u001b[0m\u001b[0mread\u001b[0m\u001b[1;33m(\u001b[0m\u001b[1;33m)\u001b[0m\u001b[1;33m\u001b[0m\u001b[1;33m\u001b[0m\u001b[0m\n",
      "\u001b[1;32m~\\anaconda3\\lib\\site-packages\\openpyxl\\workbook\\workbook.py\u001b[0m in \u001b[0;36msave\u001b[1;34m(self, filename)\u001b[0m\n\u001b[0;32m    390\u001b[0m         \u001b[1;32mif\u001b[0m \u001b[0mself\u001b[0m\u001b[1;33m.\u001b[0m\u001b[0mwrite_only\u001b[0m \u001b[1;32mand\u001b[0m \u001b[1;32mnot\u001b[0m \u001b[0mself\u001b[0m\u001b[1;33m.\u001b[0m\u001b[0mworksheets\u001b[0m\u001b[1;33m:\u001b[0m\u001b[1;33m\u001b[0m\u001b[1;33m\u001b[0m\u001b[0m\n\u001b[0;32m    391\u001b[0m             \u001b[0mself\u001b[0m\u001b[1;33m.\u001b[0m\u001b[0mcreate_sheet\u001b[0m\u001b[1;33m(\u001b[0m\u001b[1;33m)\u001b[0m\u001b[1;33m\u001b[0m\u001b[1;33m\u001b[0m\u001b[0m\n\u001b[1;32m--> 392\u001b[1;33m         \u001b[0msave_workbook\u001b[0m\u001b[1;33m(\u001b[0m\u001b[0mself\u001b[0m\u001b[1;33m,\u001b[0m \u001b[0mfilename\u001b[0m\u001b[1;33m)\u001b[0m\u001b[1;33m\u001b[0m\u001b[1;33m\u001b[0m\u001b[0m\n\u001b[0m\u001b[0;32m    393\u001b[0m \u001b[1;33m\u001b[0m\u001b[0m\n\u001b[0;32m    394\u001b[0m \u001b[1;33m\u001b[0m\u001b[0m\n",
      "\u001b[1;32m~\\anaconda3\\lib\\site-packages\\openpyxl\\writer\\excel.py\u001b[0m in \u001b[0;36msave_workbook\u001b[1;34m(workbook, filename)\u001b[0m\n\u001b[0;32m    289\u001b[0m \u001b[1;33m\u001b[0m\u001b[0m\n\u001b[0;32m    290\u001b[0m     \"\"\"\n\u001b[1;32m--> 291\u001b[1;33m     \u001b[0marchive\u001b[0m \u001b[1;33m=\u001b[0m \u001b[0mZipFile\u001b[0m\u001b[1;33m(\u001b[0m\u001b[0mfilename\u001b[0m\u001b[1;33m,\u001b[0m \u001b[1;34m'w'\u001b[0m\u001b[1;33m,\u001b[0m \u001b[0mZIP_DEFLATED\u001b[0m\u001b[1;33m,\u001b[0m \u001b[0mallowZip64\u001b[0m\u001b[1;33m=\u001b[0m\u001b[1;32mTrue\u001b[0m\u001b[1;33m)\u001b[0m\u001b[1;33m\u001b[0m\u001b[1;33m\u001b[0m\u001b[0m\n\u001b[0m\u001b[0;32m    292\u001b[0m     \u001b[0mwriter\u001b[0m \u001b[1;33m=\u001b[0m \u001b[0mExcelWriter\u001b[0m\u001b[1;33m(\u001b[0m\u001b[0mworkbook\u001b[0m\u001b[1;33m,\u001b[0m \u001b[0marchive\u001b[0m\u001b[1;33m)\u001b[0m\u001b[1;33m\u001b[0m\u001b[1;33m\u001b[0m\u001b[0m\n\u001b[0;32m    293\u001b[0m     \u001b[0mwriter\u001b[0m\u001b[1;33m.\u001b[0m\u001b[0msave\u001b[0m\u001b[1;33m(\u001b[0m\u001b[1;33m)\u001b[0m\u001b[1;33m\u001b[0m\u001b[1;33m\u001b[0m\u001b[0m\n",
      "\u001b[1;32m~\\anaconda3\\lib\\zipfile.py\u001b[0m in \u001b[0;36m__init__\u001b[1;34m(self, file, mode, compression, allowZip64, compresslevel, strict_timestamps)\u001b[0m\n\u001b[0;32m   1249\u001b[0m             \u001b[1;32mwhile\u001b[0m \u001b[1;32mTrue\u001b[0m\u001b[1;33m:\u001b[0m\u001b[1;33m\u001b[0m\u001b[1;33m\u001b[0m\u001b[0m\n\u001b[0;32m   1250\u001b[0m                 \u001b[1;32mtry\u001b[0m\u001b[1;33m:\u001b[0m\u001b[1;33m\u001b[0m\u001b[1;33m\u001b[0m\u001b[0m\n\u001b[1;32m-> 1251\u001b[1;33m                     \u001b[0mself\u001b[0m\u001b[1;33m.\u001b[0m\u001b[0mfp\u001b[0m \u001b[1;33m=\u001b[0m \u001b[0mio\u001b[0m\u001b[1;33m.\u001b[0m\u001b[0mopen\u001b[0m\u001b[1;33m(\u001b[0m\u001b[0mfile\u001b[0m\u001b[1;33m,\u001b[0m \u001b[0mfilemode\u001b[0m\u001b[1;33m)\u001b[0m\u001b[1;33m\u001b[0m\u001b[1;33m\u001b[0m\u001b[0m\n\u001b[0m\u001b[0;32m   1252\u001b[0m                 \u001b[1;32mexcept\u001b[0m \u001b[0mOSError\u001b[0m\u001b[1;33m:\u001b[0m\u001b[1;33m\u001b[0m\u001b[1;33m\u001b[0m\u001b[0m\n\u001b[0;32m   1253\u001b[0m                     \u001b[1;32mif\u001b[0m \u001b[0mfilemode\u001b[0m \u001b[1;32min\u001b[0m \u001b[0mmodeDict\u001b[0m\u001b[1;33m:\u001b[0m\u001b[1;33m\u001b[0m\u001b[1;33m\u001b[0m\u001b[0m\n",
      "\u001b[1;31mPermissionError\u001b[0m: [Errno 13] Permission denied: 'C:\\\\Users\\\\Zandra\\\\AppData\\\\Local\\\\Temp\\\\tmp0ouqe0df'"
     ]
    }
   ],
   "source": [
    "#example of stream,need extra work to make this work\n",
    "from tempfile import NamedTemporaryFile\n",
    "from openpyxl import Workbook\n",
    "\n",
    "wb = Workbook()\n",
    "with NamedTemporaryFile() as tmp:\n",
    "        wb.save(tmp.name)\n",
    "        tmp.seek(0)\n",
    "        stream = tmp.read()"
   ]
  },
  {
   "cell_type": "markdown",
   "metadata": {},
   "source": [
    "### word file ###\n",
    "\n",
    "module docx [online document](https://python-docx.readthedocs.io/en/latest/).\n",
    "\n"
   ]
  },
  {
   "cell_type": "code",
   "execution_count": null,
   "metadata": {},
   "outputs": [],
   "source": [
    "# -*- coding: utf-8 -*-\n",
    "\"\"\"\n",
    "Created on Mon Jan 25 13:45:28 2021\n",
    "\n",
    "@author: Zandra\n",
    "\"\"\"\n",
    "\n",
    "from docx import Document\n",
    "from docx.shared import Inches\n",
    "\n",
    "document = Document()\n",
    "\n",
    "document.add_heading('Document Title', 0)\n",
    "\n",
    "p = document.add_paragraph('A plain paragraph having some ')\n",
    "p.add_run('bold').bold = True\n",
    "p.add_run(' and some ')\n",
    "p.add_run('italic.').italic = True\n",
    "\n",
    "document.add_heading('Heading, level 1', level=1)\n",
    "document.add_paragraph('Intense quote', style='Intense Quote')\n",
    "\n",
    "document.add_paragraph(\n",
    "    'first item in unordered list', style='List Bullet'\n",
    ")\n",
    "\n",
    "document.add_picture('beauty5.jpg', width=Inches(1.25))\n",
    "\n",
    "records = (\n",
    "    (3, '101', 'Spam'),\n",
    "    (7, '422', 'Eggs'),\n",
    "    (4, '631', 'Spam, spam, eggs, and spam')\n",
    ")\n",
    "\n",
    "table = document.add_table(rows=1, cols=3)\n",
    "hdr_cells = table.rows[0].cells\n",
    "hdr_cells[0].text = 'Qty'\n",
    "hdr_cells[1].text = 'Id'\n",
    "hdr_cells[2].text = 'Desc'\n",
    "\n",
    "for qty, id, desc in records:\n",
    "    row_cells = table.add_row().cells\n",
    "    row_cells[0].text = str(qty)\n",
    "    row_cells[1].text = id\n",
    "    row_cells[2].text = desc\n",
    "\n",
    "document.add_page_break()\n",
    "\n",
    "document.save('demo.docx')"
   ]
  },
  {
   "cell_type": "code",
   "execution_count": null,
   "metadata": {},
   "outputs": [],
   "source": []
  },
  {
   "cell_type": "code",
   "execution_count": null,
   "metadata": {},
   "outputs": [],
   "source": [
    "#示例9-14    检查word文档的连续重复字。在word文档中，经常会由于键盘操作不小心而使得文档中出现连续的重复字，例如“用户的的资料”或“需要需要用户输入”之类的情况。本例使用扩展库python-docx对word文档进行检查并提示类似的重复汉字。\n",
    "\n",
    "from docx import Document\n",
    "\n",
    "doc = Document('《Python程序设计开发宝典》.docx')\n",
    "\n",
    "contents = ''.join((p.text for p in doc.paragraphs))\n",
    "words = []\n",
    "for index, ch in enumerate(contents[:-2]):\n",
    "    if ch==contents[index+1] or ch==contents[index+2]:\n",
    "        word = contents[index:index+3]\n",
    "        if word not in words:\n",
    "            words.append(word)\n",
    "            print(word)\n"
   ]
  },
  {
   "cell_type": "code",
   "execution_count": 96,
   "metadata": {},
   "outputs": [
    {
     "name": "stdout",
     "output_type": "stream",
     "text": [
      "===========red text===========\n",
      "我的测试文件\n",
      "==========bold text===========\n",
      "测试\n",
      "1\n",
      "我是帅哥。\n",
      "我爱美女\n",
      "=============both=============\n"
     ]
    }
   ],
   "source": [
    "#例9-16  查找Word文件中所有红色字体和加粗的文字。\n",
    "from docx import Document\n",
    "from docx.shared import RGBColor\n",
    "\n",
    "boldText = []\n",
    "redText = []\n",
    "#打开Word文件，遍历所有段落\n",
    "doc = Document('Test.docx')\n",
    "for p in doc.paragraphs:\n",
    "    for r in p.runs:\n",
    "        #加粗字体\n",
    "        if r.bold:\n",
    "            boldText.append(r.text)\n",
    "        #红色字体\n",
    "        if r.font.color.rgb == RGBColor(255,0,0):\n",
    "            redText.append(r.text)\n",
    "\n",
    "result = {'red text': redText,\n",
    "           'bold text': boldText,\n",
    "           'both': set(redText) & set(boldText)}\n",
    "\n",
    "# 输出结果\n",
    "for title in result.keys():\n",
    "    print(title.center(30, '='))\n",
    "    for text in result[title]:\n",
    "        print(text)\n"
   ]
  },
  {
   "cell_type": "code",
   "execution_count": null,
   "metadata": {},
   "outputs": [],
   "source": []
  },
  {
   "cell_type": "code",
   "execution_count": null,
   "metadata": {},
   "outputs": [],
   "source": []
  }
 ],
 "metadata": {
  "kernelspec": {
   "display_name": "Python 3",
   "language": "python",
   "name": "python3"
  },
  "language_info": {
   "codemirror_mode": {
    "name": "ipython",
    "version": 3
   },
   "file_extension": ".py",
   "mimetype": "text/x-python",
   "name": "python",
   "nbconvert_exporter": "python",
   "pygments_lexer": "ipython3",
   "version": "3.8.5"
  }
 },
 "nbformat": 4,
 "nbformat_minor": 4
}
