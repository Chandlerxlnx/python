{
 "cells": [
  {
   "cell_type": "markdown",
   "metadata": {},
   "source": [
    "# 正则表达式regular express #\n",
    "Python标准库re模块提供了正则表达式操作所需要的功能。document of regex on python: https://docs.python.org/3/howto/regex.html\n",
    "\n",
    "* functions\n",
    "\n",
    "| function                 | 功能                            |\n",
    "|:-----------------------------------|:---------------------------------------------|\n",
    "|findall(pattern, string\\[, flags\\]) |返回包含字符串中所有与给定模式匹配的项的列表 |\n",
    "|match(pattern, string\\[, flags\\])  |从字符串的开始处匹配模式，返回match对象或None |\n",
    "|search(pattern, string\\[, flags\\]) | 在整个字符串中寻找模式，返回match对象或None |\n",
    "|split(pattern, string[, maxsplit=0])|根据模式匹配项分隔字符串|\n",
    "|sub(pat, repl, string[, count=0])|将字符串中所有与pat匹配的项用repl替换，返回新字符串，repl可以是字符串或返回字符串的可调用对象，作用于每个匹配的match对象 |\n",
    "\n",
    "> ___其中函数参数“flags”的值可以是下面几个的不同组合（使用“|”进行组合）：___\n",
    "> - re.I（注意是大写字母I，不是数字1，表示忽略大小写）\n",
    "> - re.L（支持本地字符集的字符）\n",
    "> - re.M（多行匹配模式）\n",
    "> - re.S（使元字符“.”匹配任意字符，包括换行符）\n",
    "> - re.U（匹配Unicode字符）\n",
    "> - re.X（忽略模式中的空格，并可以使用#注释）\n",
    "\n",
    ">___pattern___\n",
    "> - chinese online document [regexlab](http://www.regexlab.com/zh/regref.htm)\n",
    "> - online syntax checker [regexpr](https://regexr.com/)\n",
    "\n",
    "* regex compile\n",
    "\n",
    "## Regex examples ##\n",
    "\n",
    "最简单的正则表达式是普通字符串，可以匹配自身\n",
    "1. '[pjc]ython'可以匹配'python'、'jython'、'cython'\n",
    "2. '[a-zA-Z0-9]'可以匹配一个任意大小写字母或数字\n",
    "3. '[^abc]'可以一个匹配任意除'a'、'b'、'c'之外的字符\n",
    "4. 'python|perl'或'p(ython|erl)'都可以匹配'python'或'perl'\n",
    "5. 子模式后面加上问号表示可选。r'(http://)?(www\\.)?python\\.org'只能匹配'http://www.python.org'、'http://python.org'、'www.python.org'和'python.org'\n",
    "6. '^http'只能匹配所有以'http'开头的字符串\n",
    "7. (pattern)*：允许模式重复0次或多次\n",
    "8. (pattern)+：允许模式重复1次或多次\n",
    "9. (pattern){m,n}：允许模式重复m~n次\n",
    "10. '(a|b)*c'：匹配多个（包含0个）a或b，后面紧跟一个字母c。\n",
    "11. 'ab{1,}'：等价于'ab+'，匹配以字母a开头后面带1个至多个字母b的字符串。\n",
    "12. '^[a-zA-Z]{1}([a-zA-Z0-9._]){4,19}$'：匹配长度为5-20的字符串，必须以字母开头并且可带字母、数字、“_”、“.”的字符串。\n",
    "13. '^(\\w){6,20}$'：匹配长度为6-20的字符串，可以包含字母、数字、下划线。\n",
    "14. '^\\d{1,3}\\.\\d{1,3}\\.\\d{1,3}\\.\\d{1,3}$'：检查给定字符串是否为合法IP地址。\n",
    "15. '^(13[4-9]\\d{8})|(15[01289]\\d{8})$'：检查给定字符串是否为移动手机号码。\n",
    "16. '^[a-zA-Z]+$'：检查给定字符串是否只包含英文字母大小写。\n",
    "17. '^\\w+@(\\w+\\.)+\\w+$'：检查给定字符串是否为合法电子邮件地址。\n",
    "18. r'(\\w)(?!.*\\1)'：查找字符串中每个字符的最后一次出现。\n",
    "19. r'(\\w)(?=.*\\1)'：查找字符串中所有重复出现的字符。\n",
    "20. '^(\\-)?\\d+(\\.\\d{1,2})?$'：检查给定字符串是否为最多带有2位小数的正数或负数。\n",
    "21. '[\\u4e00-\\u9fa5]'：匹配给定字符串中所有汉字。\n",
    "22. '^\\d{18}|\\d{15}$'：检查给定字符串是否为合法身份证格式。\n",
    "23. '\\d{4}-\\d{1,2}-\\d{1,2}'：匹配指定格式的日期，例如2016-1-31。\n",
    "24. '^(?=.*[a-z])(?=.*[A-Z])(?=.*\\d)(?=.*[,._]).{8,}$'：检查给定字符串是否为强密码，必须同时包含英语字母大写字母、英文小写字母、数字或特殊符号（如英文逗号、英文句号、下划线），并且长度必须至少8位。\n",
    "25. \"(?!.*[\\'\\\"\\/;=%?]).+\"：如果给定字符串中包含’、”、/、;、=、%、?则匹配失败。\n",
    "26. '(.)\\\\1+'：匹配任意字符的一次或多次重复出现。\n",
    "27. '((?P<f>\\b\\w+\\b)\\s+(?P=f))'：匹配连续出现两次的单词。\n",
    "28. '((?P<f>.)(?P=f)(?P<g>.)(?P=g))'：匹配AABB形式的成语或字母组合。\n"
   ]
  },
  {
   "cell_type": "code",
   "execution_count": 3,
   "metadata": {},
   "outputs": [
    {
     "data": {
      "text/plain": [
       "['alpha', 'beta', 'gamma', 'delta']"
      ]
     },
     "execution_count": 3,
     "metadata": {},
     "output_type": "execute_result"
    }
   ],
   "source": [
    "# example processing string by RE\n",
    "\n",
    "import re                            #导入re模块\n",
    "text = 'alpha. beta....gamma delta'  #测试用的字符串\n",
    "re.split('[\\. ]+', text)             #使用指定字符作为分隔符进行分隔\n"
   ]
  },
  {
   "cell_type": "code",
   "execution_count": 4,
   "metadata": {},
   "outputs": [
    {
     "data": {
      "text/plain": [
       "['alpha', 'beta', 'gamma delta']"
      ]
     },
     "execution_count": 4,
     "metadata": {},
     "output_type": "execute_result"
    }
   ],
   "source": [
    "\n",
    "re.split('[\\. ]+', text, maxsplit=2) #最多分隔2次\n"
   ]
  },
  {
   "cell_type": "code",
   "execution_count": null,
   "metadata": {},
   "outputs": [],
   "source": []
  },
  {
   "cell_type": "code",
   "execution_count": 5,
   "metadata": {},
   "outputs": [
    {
     "data": {
      "text/plain": [
       "['alpha', 'beta....gamma delta']"
      ]
     },
     "execution_count": 5,
     "metadata": {},
     "output_type": "execute_result"
    }
   ],
   "source": [
    "\n",
    "re.split('[\\. ]+', text, maxsplit=1) #最多分隔1次\n"
   ]
  },
  {
   "cell_type": "code",
   "execution_count": 6,
   "metadata": {},
   "outputs": [
    {
     "data": {
      "text/plain": [
       "['alpha', 'beta', 'gamma', 'delta']"
      ]
     },
     "execution_count": 6,
     "metadata": {},
     "output_type": "execute_result"
    }
   ],
   "source": [
    "\n",
    "pat = '[a-zA-Z]+'\n",
    "re.findall(pat, text)                #查找所有单词"
   ]
  },
  {
   "cell_type": "code",
   "execution_count": 7,
   "metadata": {},
   "outputs": [
    {
     "name": "stdout",
     "output_type": "stream",
     "text": [
      "Dear Mr.Dong...\n",
      "good good good\n",
      "It's a very good idea\n",
      "It's a very goodidea\n",
      "AAA Abc Abde\n"
     ]
    }
   ],
   "source": [
    "pat = '{name}'\n",
    "text = 'Dear {name}...'\n",
    "print(re.sub(pat, 'Mr.Dong', text))        #字符串替换\n",
    "\n",
    "s = 'a s d'\n",
    "print(re.sub('a|s|d', 'good', s))          #字符串替换\n",
    "\n",
    "s = \"It's a very good good idea\"\n",
    "print(re.sub(r'(\\b\\w+) \\1', r'\\1', s))     #处理连续的重复单词\n",
    "\n",
    "print(re.sub(r'((\\w+) )\\1', r'\\2', s))\n",
    "\n",
    "print(re.sub('a', lambda x:x.group(0).upper(), 'aaa abc abde'))\n",
    "    "
   ]
  },
  {
   "cell_type": "code",
   "execution_count": 8,
   "metadata": {},
   "outputs": [
    {
     "name": "stdout",
     "output_type": "stream",
     "text": [
      "AAA ABC ABDE\n",
      "AAA AbC ABDE\n",
      "('dfgdfgdfg dfgbc dfgbde', 5)\n",
      "dfgdfgdfg dfgbc dfgbde\n",
      "http://www\\.python\\.org\n"
     ]
    }
   ],
   "source": [
    "print(re.sub('[a-z]', lambda x:x.group(0).upper(), 'aaa abc abde'))\n",
    "\n",
    "print(re.sub('[a-zA-z]', lambda x:chr(ord(x.group(0))^32), 'aaa aBc abde'))\n",
    "                                            #英文字母大小写互换\n",
    "#result 'AAA AbC ABDE'\n",
    "\n",
    "print(re.subn('a', 'dfg', 'aaa abc abde'))     #返回新字符串和替换次数\n",
    "#result: ('dfgdfgdfg dfgbc dfgbde', 5)\n",
    "print(re.sub('a', 'dfg', 'aaa abc abde'))\n",
    "#result: 'dfgdfgdfg dfgbc dfgbde'\n",
    "\n",
    "print(re.escape('http://www.python.org'))      #字符串转义\n"
   ]
  },
  {
   "cell_type": "code",
   "execution_count": 2,
   "metadata": {},
   "outputs": [
    {
     "name": "stdout",
     "output_type": "stream",
     "text": [
      "<re.Match object; span=(0, 4), match='done'>\n",
      "<re.Match object; span=(0, 4), match='done'>\n",
      "None\n",
      "None\n",
      "<re.Match object; span=(6, 10), match='done'>\n"
     ]
    }
   ],
   "source": [
    "import re\n",
    "print(re.match('done|quit', 'done'))         #匹配成功，返回match对象\n",
    "\n",
    "print(re.match('done|quit', 'done!'))        #匹配成功\n",
    "\n",
    "print(re.match('done|quit', 'doe!'))         #匹配不成功，返回空值None\n",
    "\n",
    "print(re.match('done|quit', 'd!one!'))       #匹配不成功\n",
    "\n",
    "print(re.search('done|quit', 'd!one!done'))  #匹配成功\n"
   ]
  },
  {
   "cell_type": "markdown",
   "metadata": {},
   "source": [
    "***下面的代码使用不同的方法删除字符串中多余的空格，如果遇到连续多个空格则只保留一个，同时删除字符串两侧的所有空白字符***\n"
   ]
  },
  {
   "cell_type": "code",
   "execution_count": null,
   "metadata": {},
   "outputs": [],
   "source": [
    "\n",
    "import re\n",
    "\n",
    "s = 'aaa      bb      c d e   fff    '\n",
    "\n",
    "' '.join(s.split())                    #直接使用字符串对象的方法\n",
    "\n",
    "' '.join(re.split('[\\s]+', s.strip())) #同时使用re中的函数和字符串对象的方法\n",
    "\n",
    "' '.join(re.split('\\s+', s.strip()))   #与上一行代码等价\n",
    "\n",
    "re.sub('\\s+', ' ', s.strip())          #直接使用re模块的字符串替换方法\n"
   ]
  },
  {
   "cell_type": "markdown",
   "metadata": {},
   "source": [
    "***下面的代码使用几种不同的方法来删除字符串中指定内容：***\n"
   ]
  },
  {
   "cell_type": "code",
   "execution_count": 4,
   "metadata": {},
   "outputs": [
    {
     "name": "stdout",
     "output_type": "stream",
     "text": [
      "tony@tiger.net\n",
      "tony@tiger.net\n",
      "tony@tiger.net\n"
     ]
    }
   ],
   "source": [
    "import re\n",
    "\n",
    "email = \"tony@tiremove_thisger.net\"\n",
    "m = re.search(\"remove_this\", email)    #使用search()方法返回的match对象\n",
    "print(email[:m.start()] + email[m.end():])    #字符串切片\n",
    "\n",
    "print(re.sub('remove_this', '', email))       #直接使用re模块的sub()方法\n",
    "\n",
    "print(email.replace('remove_this', ''))       #直接使用字符串替换方法\n",
    "\n"
   ]
  },
  {
   "cell_type": "markdown",
   "metadata": {},
   "source": [
    "***下面的代码使用以“\\”开头的元字符来实现字符串的特定搜索。***"
   ]
  },
  {
   "cell_type": "code",
   "execution_count": 6,
   "metadata": {},
   "outputs": [
    {
     "name": "stdout",
     "output_type": "stream",
     "text": [
      "['better']\n",
      "['better than ugly']\n",
      "['better']\n",
      "['han']\n"
     ]
    }
   ],
   "source": [
    "#example of \\b, \\b, + AND +?\n",
    "\n",
    "import re\n",
    "example = 'Beautiful is better than ugly.'\n",
    "print(re.findall('\\\\bb.+?\\\\b', example))    #以字母b开头的完整单词\n",
    "                                         #此处问号?表示非贪心模式\n",
    "\n",
    "print(re.findall('\\\\bb.+\\\\b', example))     #贪心模式的匹配结果\n",
    "\n",
    "print(re.findall('\\\\bb\\w*\\\\b', example))\n",
    "\n",
    "print(re.findall('\\\\Bh.+?\\\\b', example))    #不以h开头且含有h字母的单词剩余部分\n"
   ]
  },
  {
   "cell_type": "code",
   "execution_count": 9,
   "metadata": {},
   "outputs": [
    {
     "name": "stdout",
     "output_type": "stream",
     "text": [
      "['Beautiful', 'is', 'better', 'than', 'ugly']\n",
      "['Beautiful', 'is', 'better', 'than', 'ugly']\n",
      "['Beautiful', 'is', 'better', 'than', 'ugly']\n",
      "['Beautiful', 'is', 'better', 'than', 'ugly.']\n",
      "['2.7.13']\n",
      "['2.7.13', '3.6.0']\n",
      "This is head.\n",
      "This is body.\n"
     ]
    }
   ],
   "source": [
    "# CONTINUE OF EXAMPLE ABOVE\n",
    "print(re.findall('\\\\b\\w.+?\\\\b', example))           #所有单词\n",
    "\n",
    "print(re.findall('\\w+', example))                   #所有单词\n",
    "\n",
    "print(re.findall(r'\\b\\w.+?\\b', example))            #使用原始字符串\n",
    "\n",
    "print(re.split('\\s', example))                      #使用任何空白字符分隔字符串\n",
    "\n",
    "print(re.findall('\\d+\\.\\d+\\.\\d+', 'Python 2.7.13')) #查找并返回x.x.x形式的数字\n",
    "\n",
    "print(re.findall('\\d+\\.\\d+\\.\\d+', 'Python 2.7.13,Python 3.6.0'))\n",
    "\n",
    "s = '<html><head>This is head.</head><body>This is body.</body></html>'\n",
    "pattern = r'<html><head>(.+)</head><body>(.+)</body></html>'\n",
    "result = re.search(pattern, s)\n",
    "print(result.group(1))                              #第一个子模式\n",
    "\n",
    "print(result.group(2))                              #第二个子模式\n",
    "\n"
   ]
  },
  {
   "cell_type": "markdown",
   "metadata": {},
   "source": [
    "## match 对象 ##\n",
    "正则表达式对象的`match`方法和`search`方法匹配成功后返回`match`对象。`match`对象的主要方法有：\n",
    "- group()：返回匹配的一个或多个子模式内容\n",
    "- groups()：返回一个包含匹配的所有子模式内容的元组\n",
    "- groupdict()：返回包含匹配的所有命名子模式内容的字典\n",
    "- start()：返回指定子模式内容的起始位置\n",
    "- end()：返回指定子模式内容的结束位置的前一个位置\n",
    "- span()：返回一个包含指定子模式内容起始位置和结束位置前一个位置的元组。\n",
    "\n",
    "> 子模式group由查找模板pattern中的`(pattern)`产生。"
   ]
  },
  {
   "cell_type": "code",
   "execution_count": 11,
   "metadata": {},
   "outputs": [
    {
     "name": "stdout",
     "output_type": "stream",
     "text": [
      "Isaac Newton\n",
      "Isaac\n",
      "Newton\n",
      "('Isaac', 'Newton')\n",
      "('Isaac', 'Newton')\n",
      "{}\n"
     ]
    }
   ],
   "source": [
    "#example match\n",
    "m = re.match(r\"(\\w+) (\\w+)\", \"Isaac Newton, physicist\")\n",
    "print(m.group(0))                   #返回整个模式内容\n",
    "# 'Isaac Newton'\n",
    "print(m.group(1))                   #返回第1个子模式内容\n",
    "#'Isaac'\n",
    "print( m.group(2))                   #返回第2个子模式内容.\n",
    "#'Newton'\n",
    "print(m.group(1, 2))                #返回指定的多个子模式内容\n",
    "#('Isaac', 'Newton')\n",
    "print(m.groups())\n",
    "print(m.groupdict() )"
   ]
  },
  {
   "cell_type": "code",
   "execution_count": 16,
   "metadata": {},
   "outputs": [
    {
     "name": "stdout",
     "output_type": "stream",
     "text": [
      "Malcolm\n",
      "Reynolds\n",
      "('24', '1632')\n",
      "{'first_name': 'Malcolm', 'last_name': 'Reynolds'}\n"
     ]
    }
   ],
   "source": [
    "#example group rename\n",
    "m = re.match(r\"(?P<first_name>\\w+) (?P<last_name>\\w+)\", \"Malcolm Reynolds\")\n",
    "print(m.group('first_name'))      #使用命名的子模式\n",
    "#'Malcolm'\n",
    "print(m.group('last_name'))\n",
    "#'Reynolds'\n",
    "m = re.match(r\"(\\d+)\\.(\\d+)\", \"24.1632\")\n",
    "print( m.groups())                 #返回所有匹配的子模式（不包括第0个）\n",
    "#('24', '1632')\n",
    "m = re.match(r\"(?P<first_name>\\w+) (?P<last_name>\\w+)\", \"Malcolm Reynolds\")\n",
    "print( m.groupdict())              #以字典形式返回匹配的结果\n",
    "#{'first_name': 'Malcolm', 'last_name': 'Reynolds'}\n"
   ]
  },
  {
   "cell_type": "code",
   "execution_count": 17,
   "metadata": {},
   "outputs": [
    {
     "name": "stdout",
     "output_type": "stream",
     "text": [
      "[('aabc', 'a'), ('abbcd', 'b'), ('abccd', 'c'), ('abcdd', 'd')]\n"
     ]
    }
   ],
   "source": [
    "#example find the words with duplicated characters and list the charactor being dumplicated.\n",
    "s = 'aabc abcd abbcd abccd abcdd'\n",
    "print(re.findall(r'(\\b\\w*(?P<f>\\w+)(?P=f)\\w*\\b)', s))\n",
    "#[('aabc', 'a'), ('abbcd', 'b'), ('abccd', 'c'), ('abcdd', 'd')]\n"
   ]
  },
  {
   "cell_type": "code",
   "execution_count": 26,
   "metadata": {},
   "outputs": [
    {
     "name": "stdout",
     "output_type": "stream",
     "text": [
      "0535-1234567\n",
      "010-12345678\n",
      "025-87654321\n",
      "====matchResult=====\n",
      "[('0535', '1234567'), ('010', '12345678'), ('025', '87654321')]\n",
      "Error: 'tuple' object has no attribute 'group'\n",
      "0535\n"
     ]
    }
   ],
   "source": [
    "#例8-1  使用正则表达式提取字符串中的电话号码。\n",
    "\n",
    "import re\n",
    "\n",
    "text = '''Suppose my Phone No. is 0535-1234567,\n",
    "yours is 010-12345678,\n",
    "his is 025-87654321.'''\n",
    "#注意，下面的正则表达式中大括号内逗号后面不能有空格\n",
    "matchResult = re.findall(r'(\\d{3,4})-(\\d{7,8})', text)\n",
    "for item in matchResult:\n",
    "    print(item[0], item[1], sep='-')\n",
    "\n",
    "print(\"matchResult\".center(20,'='))\n",
    "\n",
    "print(matchResult)\n",
    "\n",
    "try:\n",
    "    print(matchResult[0].group(1))\n",
    "except AttributeError as e:\n",
    "    print(\"Error:\",e)\n",
    "\n",
    "print(matchResult[0][0])"
   ]
  },
  {
   "cell_type": "code",
   "execution_count": 27,
   "metadata": {},
   "outputs": [
    {
     "name": "stdout",
     "output_type": "stream",
     "text": [
      "beijing. like I\n",
      "complex. than better is Simple\n"
     ]
    }
   ],
   "source": [
    "#例8-3  将一句英语文本中的单词进行倒置，标点不倒置，假设单词之间使用一个或多个空格进行分割。比如I like beijing. 经过函数后变为：beijing. like I。\n",
    "import re\n",
    "\n",
    "def reverse(s):\n",
    "    t = re.split('\\s+', s.strip())\n",
    "    t.reverse()\n",
    "    return ' '.join(t)\n",
    "\n",
    "print(reverse('I like beijing.'))\n",
    "print(reverse('Simple is better than complex.'))\n",
    "\n"
   ]
  },
  {
   "cell_type": "markdown",
   "metadata": {},
   "source": [
    "## compile #"
   ]
  },
  {
   "cell_type": "code",
   "execution_count": 33,
   "metadata": {},
   "outputs": [
    {
     "name": "stdout",
     "output_type": "stream",
     "text": [
      "None\n",
      "None\n",
      "<re.Match object; span=(0, 4), match='temp'>\n",
      "['temp']\n",
      "<re.Match object; span=(0, 4), match='temp'>\n"
     ]
    }
   ],
   "source": [
    "import re\n",
    "p = re.compile('[a-z]+')\n",
    "\n",
    "print(p.match(\"\"))\n",
    "\n",
    "print(p.match(\"Temp\"))\n",
    "\n",
    "print(p.match(\"temp\"))\n",
    "\n",
    "print(p.findall('temp'))\n",
    "\n",
    "print(p.search('temp'))"
   ]
  },
  {
   "cell_type": "code",
   "execution_count": 34,
   "metadata": {},
   "outputs": [
    {
     "name": "stdout",
     "output_type": "stream",
     "text": [
      "Malcolm\n",
      "Reynolds\n"
     ]
    }
   ],
   "source": [
    "#example group rename\n",
    "p=re.compile(r\"(?P<first_name>\\w+) (?P<last_name>\\w+)\")\n",
    "m = p.match(\"Malcolm Reynolds\")\n",
    "print(m.group('first_name'))      #使用命名的子模式\n",
    "#'Malcolm'\n",
    "print(m.group('last_name'))"
   ]
  }
 ],
 "metadata": {
  "kernelspec": {
   "display_name": "Python 3",
   "language": "python",
   "name": "python3"
  },
  "language_info": {
   "codemirror_mode": {
    "name": "ipython",
    "version": 3
   },
   "file_extension": ".py",
   "mimetype": "text/x-python",
   "name": "python",
   "nbconvert_exporter": "python",
   "pygments_lexer": "ipython3",
   "version": "3.8.5"
  }
 },
 "nbformat": 4,
 "nbformat_minor": 4
}
