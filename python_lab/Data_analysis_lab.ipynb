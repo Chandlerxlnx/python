{
 "cells": [
  {
   "cell_type": "markdown",
   "metadata": {},
   "source": [
    "# python Data Analysis\n",
    "\n",
    "## python modules ##\n",
    "\n",
    "important modules\n",
    "* science computing [numpy, doc and official webpage](https://numpy.org/) \n",
    "* pandas [doc and official webpage](https://pandas.pydata.org/)\n",
    "* plot and view tools, [matplotlib, doc and official webpage](https://matplotlib.org/)"
   ]
  }
 ],
 "metadata": {
  "kernelspec": {
   "display_name": "Python 3",
   "language": "python",
   "name": "python3"
  },
  "language_info": {
   "codemirror_mode": {
    "name": "ipython",
    "version": 3
   },
   "file_extension": ".py",
   "mimetype": "text/x-python",
   "name": "python",
   "nbconvert_exporter": "python",
   "pygments_lexer": "ipython3",
   "version": "3.7.3"
  }
 },
 "nbformat": 4,
 "nbformat_minor": 2
}
