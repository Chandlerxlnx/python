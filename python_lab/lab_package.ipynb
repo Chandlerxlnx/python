{
 "cells": [
  {
   "cell_type": "markdown",
   "metadata": {},
   "source": [
    "# Module (模块) 和 package(包) #\n",
    "\n",
    "## Module(模块) ##\n",
    "\n",
    "### 模块作用 ###\n",
    "\n",
    "1. 规范代码，易读\n",
    "2. 方便其他程序调用，提高开发效率\n",
    "\n",
    "### 模块创建 ###\n",
    "* 就是将相关函数，变量放到一个单独文件里。命名方式为： \"模块名+.py\"\n",
    "\n",
    "### 模块导入 ###\n",
    "* syntax 语法\n",
    "1. import module\n",
    "```python\n",
    "  import modulename [as alias]\n",
    "```\n",
    " - [x] modulename: 模块名\n",
    "> 这种方式每次会创建一个新的命名空间， 调用方式 modulename.member\n",
    "2. from ... import module\n",
    "```python\n",
    "   from modulename import member\n",
    "```\n",
    " - [x] modulename: 模块名\n",
    " - [x] member: 指定要导入的变量，函数名。可以用通配符'*'，可以用',' 隔开。\n",
    " > 这种方式每次不再创建新的命名空间， 调用方式 member\n",
    " > member* doesn't work."
   ]
  },
  {
   "cell_type": "code",
   "execution_count": null,
   "metadata": {},
   "outputs": [],
   "source": [
    "import os\n",
    "\n",
    "os.getcwd()\n"
   ]
  },
  {
   "cell_type": "code",
   "execution_count": null,
   "metadata": {},
   "outputs": [],
   "source": [
    "#example import modulename\n",
    "\n",
    "import bmi\n",
    "\n",
    "bmi.fun_bmi(\"tom\", 1.72, 70)\n",
    "bmi.fun_bmi_upgrade([(\"jack\",1.80,90),(\"Mary\",1.6,55),(\"Henry\",1.65,75)])\n",
    "bmi.fun_bmi_upgrade()"
   ]
  },
  {
   "cell_type": "code",
   "execution_count": null,
   "metadata": {},
   "outputs": [],
   "source": [
    "#example from modulename import member\n",
    "\n",
    "from bmi import fun_bmi,fun_bmi_upgrade\n",
    "\n",
    "\n",
    "fun_bmi(\"tom\", 1.72, 70)\n",
    "fun_bmi_upgrade([(\"jack\",1.80,90),(\"Mary\",1.6,55),(\"Henry\",1.65,75)])"
   ]
  },
  {
   "cell_type": "markdown",
   "metadata": {},
   "source": [
    "## module searching path ##\n",
    "查找顺序：\n",
    "\n",
    "1. 当前目录(执行python脚本的当前目录)\n",
    "2. PYTHONPATH(ENV)下的每一个目录\n",
    "3. Python 的默认安装目录\n",
    "\n",
    "### 自定义模块的搜索路径添加\n",
    "1. 临时添加\n",
    "```python\n",
    "  import sys\n",
    "  sys.path.append(\"/path/to/module\")\n",
    "```\n",
    "  * 仅当前窗口有效\n",
    "2. 增加.pth 文件(推荐)\n",
    "  在Python安装目录下的Lib\\site-packages子目录中创建扩展名为.pth的文件。 例子：\n",
    "  在G:\\Python\\Python36\\Lib\\site-packages目录下创建mrpath.pth文件。内容\n",
    "  ```C\n",
    "  # add search path which contains module.py\n",
    "  E:\\python_lab\\code\\training\n",
    "  ```\n",
    " 3. 在环境变量PYTHONPATH中添加\n",
    "   例子：\n",
    "   ```C\n",
    "   # example in linux\n",
    "   export PYTHONPATH=$PYTHONPATH:/python_lab/code/training\n",
    "   \n",
    "   # example in windows\n",
    "   %PYTHONPATH%=%PYTHONPATH%,E:\\python_lab\\code\\training\n",
    "   ```\n",
    "   > Attention: 变量修改后需要重新执行\n",
    "   \n",
    "   > Note: 这个方法可以在不同版本间共享。"
   ]
  },
  {
   "cell_type": "markdown",
   "metadata": {},
   "source": [
    "# python package lab\n",
    "\n",
    "使用模块可以避免函数和变量名重复。如果模块名重复怎么办呢？\n",
    "* python 中提出包(package)概念。 `包package`是一个分层次的目录结构\n",
    "* 在目录中包含一个__init__.py,表示这个目录是一个包(package),__init__.py 一般为空文件。会在import package时被执行。\n",
    "\n",
    "## using the package ##\n",
    "1. import + package_name +.modulename\n",
    "2. from package_name import modulename\n",
    "3. from package_name+.modulename import member\n",
    "\n",
    "## search path ##\n",
    "* 看起来，可以跟模块搜索路径设置方法一样。"
   ]
  },
  {
   "cell_type": "code",
   "execution_count": null,
   "metadata": {},
   "outputs": [],
   "source": [
    "## add temperary search path here.\n",
    "import sys\n",
    "sys.path.append('./packages')\n",
    "\n",
    "print(\"=================\\n import package\")\n",
    "\n",
    "import settings\n",
    "try:\n",
    "    print(settings.size.height)\n",
    "except:\n",
    "    print(\"size is not found\")\n",
    "\n",
    "print(\"=================\\n from package import *\")\n",
    "\n",
    "from settings import *\n",
    "try:\n",
    "    print(settings.size.height)\n",
    "except:\n",
    "    print(\"size is not found\")\n",
    "\n",
    "print(\"=================\\n import package module\")\n",
    "\n",
    "import settings.size\n",
    "print(\"height=\",settings.size.height)\n",
    "print(\"width=\",settings.size.width)\n",
    "\n",
    "print(\"=================\\n from package module import member\")\n",
    "\n",
    "from settings.size import *\n",
    "print(\"height=\",height)\n",
    "print(\"width =\",width)"
   ]
  },
  {
   "cell_type": "code",
   "execution_count": 4,
   "metadata": {},
   "outputs": [
    {
     "name": "stdout",
     "output_type": "stream",
     "text": [
      "=================\n",
      " import package\n",
      "452.3893421169302\n"
     ]
    }
   ],
   "source": [
    "# add temperary search path here.\n",
    "import sys\n",
    "sys.path.append('./packages')\n",
    "\n",
    "print(\"=================\\n import package\")\n",
    "\n",
    "import settings.circle\n",
    "\n",
    "print(settings.circle.area(12))"
   ]
  },
  {
   "cell_type": "markdown",
   "metadata": {},
   "source": [
    "## package of class ##\n",
    "\n",
    "class Fruit 练习 class, protected variable. method, 方法重写\n",
    "\n",
    "> 从下面例子可以看出来:\n",
    "  > * protect member _color can be import\n",
    "  > * private member __color can't be import"
   ]
  },
  {
   "cell_type": "code",
   "execution_count": 12,
   "metadata": {},
   "outputs": [
    {
     "name": "stdout",
     "output_type": "stream",
     "text": [
      "=================\n",
      " import package\n",
      "我是苹果\n",
      "'Apple' object has no attribute '__color'\n",
      "水果是：红色的!\n",
      "水果已经收获......\n",
      "水果原来是：绿色的\n",
      "\n",
      "我是人参果\n",
      "人参果是白色的！\n",
      "人参果已经收获......\n",
      "人参果是原来是：白色的\n",
      "红色\n"
     ]
    }
   ],
   "source": [
    "import sys\n",
    "sys.path.append('./packages')\n",
    "\n",
    "print(\"=================\\n import package\")\n",
    "\n",
    "from Fruit.Fruit import *\n",
    "\n",
    "apple = Apple()\n",
    "try:\n",
    "    apple.harvest(apple.__color)\n",
    "except AttributeError as e:\n",
    "    print(e)\n",
    "apple.harvest(apple._color)\n",
    "sapodilla = Sapodilla(\"白色\")\n",
    "sapodilla.harvest(\"金黄色带紫色条纹\")\n",
    "\n",
    "print(apple._color)"
   ]
  },
  {
   "cell_type": "code",
   "execution_count": null,
   "metadata": {},
   "outputs": [],
   "source": []
  }
 ],
 "metadata": {
  "kernelspec": {
   "display_name": "Python 3",
   "language": "python",
   "name": "python3"
  },
  "language_info": {
   "codemirror_mode": {
    "name": "ipython",
    "version": 3
   },
   "file_extension": ".py",
   "mimetype": "text/x-python",
   "name": "python",
   "nbconvert_exporter": "python",
   "pygments_lexer": "ipython3",
   "version": "3.7.3"
  }
 },
 "nbformat": 4,
 "nbformat_minor": 2
}
