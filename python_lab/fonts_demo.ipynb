{
 "cells": [
  {
   "cell_type": "code",
   "execution_count": 1,
   "metadata": {},
   "outputs": [],
   "source": [
    "%matplotlib inline"
   ]
  },
  {
   "cell_type": "markdown",
   "metadata": {},
   "source": [
    "\n",
    "==================================\n",
    "Fonts demo (object-oriented style)\n",
    "==================================\n",
    "\n",
    "Set font properties using setters.\n",
    "\n",
    "See :doc:`fonts_demo_kw` to achieve the same effect using kwargs.\n"
   ]
  },
  {
   "cell_type": "code",
   "execution_count": 3,
   "metadata": {},
   "outputs": [
    {
     "data": {
      "text/plain": [
       "<Figure size 432x288 with 0 Axes>"
      ]
     },
     "metadata": {},
     "output_type": "display_data"
    }
   ],
   "source": [
    "from matplotlib.font_manager import FontProperties\n",
    "import matplotlib.pyplot as plt\n",
    "\n",
    "font0 = FontProperties()\n",
    "alignment = {'horizontalalignment': 'center', 'verticalalignment': 'baseline'}\n",
    "# Show family options\n",
    "\n",
    "families = ['serif', 'sans-serif', 'cursive', 'fantasy', 'monospace']\n",
    "\n",
    "font1 = font0.copy()\n",
    "font1.set_size('large')\n",
    "\n",
    "t = plt.figtext(0.1, 0.9, 'family', fontproperties=font1, **alignment)\n",
    "\n",
    "yp = [0.8, 0.7, 0.6, 0.5, 0.4, 0.3, 0.2]\n",
    "\n",
    "for k, family in enumerate(families):\n",
    "    font = font0.copy()\n",
    "    font.set_family(family)\n",
    "    t = plt.figtext(0.1, yp[k], family, fontproperties=font, **alignment)\n",
    "\n",
    "# Show style options\n",
    "\n",
    "styles = ['normal', 'italic', 'oblique']\n",
    "\n",
    "t = plt.figtext(0.3, 0.9, 'style', fontproperties=font1, **alignment)\n",
    "\n",
    "for k, style in enumerate(styles):\n",
    "    font = font0.copy()\n",
    "    font.set_family('sans-serif')\n",
    "    font.set_style(style)\n",
    "    t = plt.figtext(0.3, yp[k], style, fontproperties=font, **alignment)\n",
    "\n",
    "# Show variant options\n",
    "\n",
    "variants = ['normal', 'small-caps']\n",
    "\n",
    "t = plt.figtext(0.5, 0.9, 'variant', fontproperties=font1, **alignment)\n",
    "\n",
    "for k, variant in enumerate(variants):\n",
    "    font = font0.copy()\n",
    "    font.set_family('serif')\n",
    "    font.set_variant(variant)\n",
    "    t = plt.figtext(0.5, yp[k], variant, fontproperties=font, **alignment)\n",
    "\n",
    "# Show weight options\n",
    "\n",
    "weights = ['light', 'normal', 'medium', 'semibold', 'bold', 'heavy', 'black']\n",
    "\n",
    "t = plt.figtext(0.7, 0.9, 'weight', fontproperties=font1, **alignment)\n",
    "\n",
    "for k, weight in enumerate(weights):\n",
    "    font = font0.copy()\n",
    "    font.set_weight(weight)\n",
    "    t = plt.figtext(0.7, yp[k], weight, fontproperties=font, **alignment)\n",
    "\n",
    "# Show size options\n",
    "\n",
    "sizes = ['xx-small', 'x-small', 'small', 'medium', 'large',\n",
    "         'x-large', 'xx-large']\n",
    "\n",
    "t = plt.figtext(0.9, 0.9, 'size', fontproperties=font1, **alignment)\n",
    "\n",
    "for k, size in enumerate(sizes):\n",
    "    font = font0.copy()\n",
    "    font.set_size(size)\n",
    "    t = plt.figtext(0.9, yp[k], size, fontproperties=font, **alignment)\n",
    "\n",
    "# Show bold italic\n",
    "\n",
    "font = font0.copy()\n",
    "font.set_style('italic')\n",
    "font.set_weight('bold')\n",
    "font.set_size('x-small')\n",
    "t = plt.figtext(0.3, 0.1, 'bold italic', fontproperties=font, **alignment)\n",
    "\n",
    "font = font0.copy()\n",
    "font.set_style('italic')\n",
    "font.set_weight('bold')\n",
    "font.set_size('medium')\n",
    "t = plt.figtext(0.3, 0.2, 'bold italic', fontproperties=font, **alignment)\n",
    "\n",
    "font = font0.copy()\n",
    "font.set_style('italic')\n",
    "font.set_weight('bold')\n",
    "font.set_size('x-large')\n",
    "t = plt.figtext(-0.4, 0.3, 'bold italic', fontproperties=font, **alignment)\n",
    "\n",
    "plt.show()"
   ]
  },
  {
   "cell_type": "code",
   "execution_count": null,
   "metadata": {},
   "outputs": [],
   "source": []
  }
 ],
 "metadata": {
  "kernelspec": {
   "display_name": "Python 3",
   "language": "python",
   "name": "python3"
  },
  "language_info": {
   "codemirror_mode": {
    "name": "ipython",
    "version": 3
   },
   "file_extension": ".py",
   "mimetype": "text/x-python",
   "name": "python",
   "nbconvert_exporter": "python",
   "pygments_lexer": "ipython3",
   "version": "3.8.5"
  }
 },
 "nbformat": 4,
 "nbformat_minor": 1
}
