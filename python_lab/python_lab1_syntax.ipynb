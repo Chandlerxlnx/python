{
 "cells": [
  {
   "cell_type": "markdown",
   "metadata": {},
   "source": [
    "# Basic Python syntax #\n",
    "\n",
    "\n",
    ">Python 是大小写区分的\n",
    "\n",
    "## multi line string or comments ##\n",
    "```python\n",
    "'''\n",
    "'''\n",
    "\"\"\"\n",
    "\"\"\"可以用作多行注释和字符串赋值\n",
    "```"
   ]
  },
  {
   "cell_type": "code",
   "execution_count": 69,
   "metadata": {},
   "outputs": [
    {
     "data": {
      "text/plain": [
       "'\\ntest\\n\\n\\n'"
      ]
     },
     "execution_count": 69,
     "metadata": {},
     "output_type": "execute_result"
    }
   ],
   "source": [
    "# 多行注释\n",
    "'''\n",
    "test\n",
    "\n",
    "\n",
    "'''"
   ]
  },
  {
   "cell_type": "code",
   "execution_count": 2,
   "metadata": {},
   "outputs": [
    {
     "name": "stdout",
     "output_type": "stream",
     "text": [
      "multi line\n",
      "  line 2\n",
      "line 3\n",
      "line 4\n",
      "\n"
     ]
    },
    {
     "data": {
      "text/plain": [
       "'multi line\\n  line 2\\nline 3\\nline 4\\n'"
      ]
     },
     "execution_count": 2,
     "metadata": {},
     "output_type": "execute_result"
    }
   ],
   "source": [
    "# multi line string\n",
    "str1='''multi line\n",
    "  line 2\n",
    "line 3\n",
    "line 4\n",
    "'''\n",
    "print(str1)\n",
    "str1"
   ]
  },
  {
   "cell_type": "markdown",
   "metadata": {},
   "source": [
    "## 语句换行\n",
    "1. 用链接符 \\\n",
    "2. 用()  --> pep 推荐\n",
    "> note :<br>    1. 两种多行都不会引入换行符\"/n\" <br>   2. 语句中有{},(),[]的都支持换行"
   ]
  },
  {
   "cell_type": "code",
   "execution_count": 70,
   "metadata": {},
   "outputs": [
    {
     "data": {
      "text/plain": [
       "'多行字符line2line3'"
      ]
     },
     "execution_count": 70,
     "metadata": {},
     "output_type": "execute_result"
    }
   ],
   "source": [
    "# multiline with \"/\\\"\n",
    "str1= '多行字符'\\\n",
    "  'line2' \\\n",
    "'line3'\n",
    "str1"
   ]
  },
  {
   "cell_type": "code",
   "execution_count": 4,
   "metadata": {},
   "outputs": [
    {
     "data": {
      "text/plain": [
       "'多行字符line2line3'"
      ]
     },
     "execution_count": 4,
     "metadata": {},
     "output_type": "execute_result"
    }
   ],
   "source": [
    "# multiline with ()\n",
    "str1=('多行字符'\n",
    "  'line2' \n",
    "'line3')\n",
    "str1"
   ]
  },
  {
   "cell_type": "markdown",
   "metadata": {},
   "source": [
    "## Conditional flow control ##"
   ]
  },
  {
   "cell_type": "code",
   "execution_count": 5,
   "metadata": {},
   "outputs": [
    {
     "name": "stdout",
     "output_type": "stream",
     "text": [
      "flase\n"
     ]
    }
   ],
   "source": [
    "# if control\n",
    "\n",
    "if 2<1:\n",
    "    print('true')\n",
    "else:\n",
    "    print('flase')\n",
    "            "
   ]
  },
  {
   "cell_type": "markdown",
   "metadata": {},
   "source": [
    "## indent rules\n",
    "  缩进必须对齐，否则会造成语法错误。\n",
    "  固定宽度的缩进，方便阅读"
   ]
  },
  {
   "cell_type": "code",
   "execution_count": 7,
   "metadata": {},
   "outputs": [
    {
     "ename": "IndentationError",
     "evalue": "unindent does not match any outer indentation level (<tokenize>, line 6)",
     "output_type": "error",
     "traceback": [
      "\u001b[1;36m  File \u001b[1;32m\"<tokenize>\"\u001b[1;36m, line \u001b[1;32m6\u001b[0m\n\u001b[1;33m    print('错误缩进1')\u001b[0m\n\u001b[1;37m    ^\u001b[0m\n\u001b[1;31mIndentationError\u001b[0m\u001b[1;31m:\u001b[0m unindent does not match any outer indentation level\n"
     ]
    }
   ],
   "source": [
    "# 错误缩进 1\n",
    "if 2<1:\n",
    "    print('true')\n",
    "else:\n",
    "        print('flase')\n",
    "    print('错误缩进1')"
   ]
  },
  {
   "cell_type": "code",
   "execution_count": null,
   "metadata": {},
   "outputs": [],
   "source": [
    "# 错误缩进 2\n",
    "if 2<1:\n",
    "    print('true')\n",
    "else:\n",
    "    print('flase')\n",
    "        print('错误缩进2')"
   ]
  },
  {
   "cell_type": "markdown",
   "metadata": {},
   "source": [
    "## variables 变量 ##\n",
    "\n",
    "variable types\n",
    "1. 数字类型\n",
    "    + int\n",
    "    + float\n",
    "    + complex\n",
    "2. 布尔类型\n",
    "    + True\n",
    "    + False\n",
    "3. 字符串类型\n",
    "4. 列表类型\n",
    "5. 元组类型\n",
    "6. 字典类型\n",
    "7. 集合\n"
   ]
  },
  {
   "cell_type": "code",
   "execution_count": null,
   "metadata": {},
   "outputs": [],
   "source": [
    "a=2\n",
    "b=3\n",
    "if a<b:\n",
    "    print('a小于b')\n",
    "else:\n",
    "    print('a大于b')"
   ]
  },
  {
   "cell_type": "markdown",
   "metadata": {},
   "source": [
    "## 字符串转换和链接\n"
   ]
  },
  {
   "cell_type": "code",
   "execution_count": null,
   "metadata": {},
   "outputs": [],
   "source": [
    "## print \n",
    "if a<b:\n",
    "    print(a+'小于'+b)# 错误语法,"
   ]
  },
  {
   "cell_type": "code",
   "execution_count": 10,
   "metadata": {},
   "outputs": [
    {
     "name": "stdout",
     "output_type": "stream",
     "text": [
      "2小于3\n"
     ]
    }
   ],
   "source": [
    "# Note: a,b need be assigned here, the error above clean the value somehow.\n",
    "a=2\n",
    "b=3\n",
    "if a<b:\n",
    "    print(str(a) + '小于' + str(b) )# 正确语法"
   ]
  },
  {
   "cell_type": "code",
   "execution_count": null,
   "metadata": {},
   "outputs": [],
   "source": [
    "a=2\n",
    "ss=str(a)"
   ]
  },
  {
   "cell_type": "markdown",
   "metadata": {},
   "source": [
    "## 标识符 ##\n",
    "标识符命名规则,建议遵守PEP规则\n",
    "1. 见名知意\n",
    "2. 驼峰式\n",
    "  > userName"
   ]
  },
  {
   "cell_type": "markdown",
   "metadata": {},
   "source": [
    "## 整型 int\n",
    "+ 二进制: 0b10110\n",
    "+ 八进制: 0o7654321\n",
    "+ 十进制: 9876543210\n",
    "+十六进制: 0xfedcba9876543210"
   ]
  },
  {
   "cell_type": "code",
   "execution_count": null,
   "metadata": {},
   "outputs": [],
   "source": [
    "# print value in decement\n",
    "print(0b10110)\n",
    "print(0o7654321)\n",
    "print(9876543210)\n",
    "print(0xfedcba9876543210)"
   ]
  },
  {
   "cell_type": "markdown",
   "metadata": {},
   "source": [
    "## 浮点型(float)\n",
    "浮点型用于表示`实数`\n",
    ">note: Python 支持超大数"
   ]
  },
  {
   "cell_type": "code",
   "execution_count": null,
   "metadata": {},
   "outputs": [],
   "source": [
    "#super large int\n",
    "99 ** 9999"
   ]
  },
  {
   "cell_type": "markdown",
   "metadata": {},
   "source": [
    "## 布尔类型 bool ##\n",
    "\n",
    "所有的空都是false, 所有的非空都是True"
   ]
  },
  {
   "cell_type": "code",
   "execution_count": null,
   "metadata": {},
   "outputs": [],
   "source": [
    "a =0\n",
    "b = -0.1\n",
    "c = ''\n",
    "d = []\n",
    "e = ()\n",
    "f = 'F'\n",
    "g = [0, 1, 2, 3]\n",
    "h = (0, 1, 2)\n",
    "i = 0.0\n",
    "\n",
    "print(bool(a))\n",
    "print(bool(b))\n",
    "print(bool(c))\n",
    "print(bool(d))\n",
    "print(bool(e))\n",
    "\n",
    "print(bool(f))\n",
    "print(bool(g))\n",
    "print(bool(h))\n",
    "\n",
    "print(bool(i))\n"
   ]
  },
  {
   "cell_type": "markdown",
   "metadata": {},
   "source": [
    "## 数据类型转换 ##\n",
    "+ int(str,base)\n",
    "+ float(x)\n",
    "+ complex(real,imag)\n"
   ]
  },
  {
   "cell_type": "code",
   "execution_count": null,
   "metadata": {},
   "outputs": [],
   "source": [
    "print(int('100',8))\n",
    "print(float(100))\n",
    "print(complex(100,20))"
   ]
  },
  {
   "cell_type": "markdown",
   "metadata": {},
   "source": [
    "## number operation ##\n",
    "\n",
    "| operator   | function       |\n",
    "|:------------|:-----------------|\n",
    "|+ - * /     | 加减乘除|\n",
    "|%         |取模|\n",
    "|**        |幂运算|\n",
    "|//        |整除运算|\n",
    "\n"
   ]
  },
  {
   "cell_type": "code",
   "execution_count": null,
   "metadata": {},
   "outputs": [],
   "source": [
    "# Mod int\n",
    "a=9\n",
    "if a%2:\n",
    "    print(\"Odd\")\n",
    "else:\n",
    "    print(\"Even\")\n",
    "print('正确的int数据mod',a,'%3=',a%3)\n",
    "\n",
    "if a%3 == 0:\n",
    "    print(str(a)+'是3的倍数')\n",
    "elif a%3 ==1:\n",
    "    print(str(a)+'与3的余数是1')\n",
    "else:\n",
    "    print(str(a)+'与3的余数是2')\n",
    "#mod float\n",
    "a =9.1\n",
    "\n",
    "if a%2==1:\n",
    "    print(\"Odd\")\n",
    "else:\n",
    "    print(\"Even\")\n",
    "\n",
    "print('不正确的float数据mod',a,'%3=',a%3)\n",
    "\n",
    "if a%3 == 0:\n",
    "    print(str(a)+'是3的倍数')\n",
    "elif a%3 ==1:\n",
    "    print(str(a)+'与3的余数是1')\n",
    "else:\n",
    "    print(str(a)+'与3的余数是2')\n",
    "    \n",
    "# divide by int\n",
    "a = 9\n",
    "print(a,'// 5=',a//5)\n",
    "\n",
    "# divide by float\n",
    "a = 9.1\n",
    "print(a,'// 5=',a//5)\n",
    "\n",
    "#exposive\n",
    "print('3**5=',3**5)\n",
    "print('3.1 ** -0.5 =',3.1**-0.5)"
   ]
  },
  {
   "cell_type": "code",
   "execution_count": null,
   "metadata": {},
   "outputs": [],
   "source": [
    "## 批量赋值\n",
    "x=2\n",
    "y=3\n",
    "x,y=y,x\n",
    "print('x=',x,'y=',y)"
   ]
  },
  {
   "cell_type": "code",
   "execution_count": null,
   "metadata": {},
   "outputs": [],
   "source": [
    "x+=y\n",
    "x,y"
   ]
  },
  {
   "cell_type": "markdown",
   "metadata": {},
   "source": [
    "## comparition ##\n",
    "\n",
    "|operator| function|\n",
    "|:-------|:--------|\n",
    "|== | Equal to |\n",
    "|!= | Not equal to|\n",
    "|> | Greator than  |\n",
    "|< | Less than     |\n",
    "|>= |Greator or equal to|\n",
    "|<= |Less or equal to|"
   ]
  },
  {
   "cell_type": "code",
   "execution_count": null,
   "metadata": {},
   "outputs": [],
   "source": [
    "a = 3\n",
    "b = 4\n",
    "\n",
    "print(a == b)\n",
    "print(a != b)\n",
    "print(a >= b)\n",
    "print(a <= b)\n",
    "print(a > b)\n",
    "print(a < b)"
   ]
  },
  {
   "cell_type": "markdown",
   "metadata": {},
   "source": [
    "## 位运算符 ##\n",
    "|operator| function|\n",
    "|:-------|:--------|\n",
    "|&     |按位与|\n",
    "|\\|    |按位或|\n",
    "|~    |按位反|\n",
    "|^   | 按位异或|\n",
    "|>>   |按位右移|\n",
    "|<<   |按位左移|\n"
   ]
  },
  {
   "cell_type": "code",
   "execution_count": 11,
   "metadata": {},
   "outputs": [
    {
     "name": "stdout",
     "output_type": "stream",
     "text": [
      "a(0d10)&b(0d12)=0b00001000\n",
      "a(0d10)|b(0d12)=0b00001110\n",
      "a(0d10)^b(0d12)=0b00000110\n",
      "~a(0d10)&b(0d12)=0b00000100\n",
      "a(0d10,00001010)>>3=0b00000001\n",
      "b(0d12,00001100)<<4=0b11000000\n"
     ]
    }
   ],
   "source": [
    "#位运算符\n",
    "\n",
    "a =10\n",
    "b =12\n",
    "print('a(0d{})&b(0d{})=0b{:08b}'.format(a,b,a&b))\n",
    "\n",
    "print('a(0d{})|b(0d{})=0b{:08b}'.format(a,b,a|b))\n",
    "print('a(0d{})^b(0d{})=0b{:08b}'.format(a,b,a^b))\n",
    "print('~a(0d{})&b(0d{})=0b{:08b}'.format(a,b,~a&b))\n",
    "print('a(0d{0},{0:08b})>>3=0b{1:08b}'.format(a,a>>3))\n",
    "print('b(0d{0},{0:08b})<<4=0b{1:08b}'.format(b,b<<4))\n",
    "\n",
    "\n",
    "\n"
   ]
  },
  {
   "cell_type": "markdown",
   "metadata": {},
   "source": [
    "## Bool to int converting ##\n",
    "int(<bool variable>)"
   ]
  },
  {
   "cell_type": "code",
   "execution_count": 12,
   "metadata": {},
   "outputs": [
    {
     "name": "stdout",
     "output_type": "stream",
     "text": [
      "True\n",
      "False\n",
      "1\n",
      "0\n"
     ]
    }
   ],
   "source": [
    "print(True)\n",
    "print(False)\n",
    "print(int(True))\n",
    "print(int(False))"
   ]
  },
  {
   "cell_type": "markdown",
   "metadata": {},
   "source": [
    "## Bool operation ##\n",
    "+ not\n",
    "+ and\n",
    "+ or\n",
    "> note: xor is not supported\n"
   ]
  },
  {
   "cell_type": "code",
   "execution_count": null,
   "metadata": {},
   "outputs": [],
   "source": [
    "a = 10\n",
    "b = 20\n",
    "print ((a and b))\n",
    "print ((a or b))\n",
    "print (not a)\n",
    "\n",
    "if (a and b):\n",
    "    print(True)\n",
    "else:\n",
    "    print (False)\n",
    "    \n",
    "if (a or b):\n",
    "    print(True)\n",
    "else:\n",
    "    print (False)"
   ]
  },
  {
   "cell_type": "markdown",
   "metadata": {},
   "source": [
    "## 列表(list)##\n",
    "* Syntax\n",
    "    + ll=[\"a\",\"b\",\"c\"]\n",
    "* slice切片 ll[start,end,step]\n",
    "    + start: 起始index\n",
    "    + end: 结尾index,不包括\n",
    "    + step: 步长\n",
    "* 列表推导式 list generator\n",
    "```python\n",
    "  list = [Expression for var in range]\n",
    "  newlist = [Expression for var in list]\n",
    "  newlist = [Expression for var in list if condition]\n",
    "\n",
    "```\n",
    "* 二维列表\n",
    "  + Syntax\n",
    "    ```python\n",
    "      ll2 = [[10,11,12],\n",
    "         [20,21,22],\n",
    "         [30,31,32]]\n",
    "    ```\n",
    "  + index ll2\\[`i`\\]\\[`j`\\], `i` 是行号， `j` 是列号\n",
    "  \n",
    "* 列表操作\n",
    "    + append()\n",
    "    + insert()\n",
    "    + remove()\n",
    "    + pop()\n",
    "    + extend()"
   ]
  },
  {
   "cell_type": "code",
   "execution_count": 49,
   "metadata": {},
   "outputs": [
    {
     "name": "stdout",
     "output_type": "stream",
     "text": [
      "[1, 2, 4, 8, 16, 32, 64, 128, 256, 512]\n",
      "the length of list ll is 10\n",
      "[1, 2, 4, 8, 16, 32, 64, 128, 256, 512, 1, 2, 4, 8, 16, 32, 64, 128, 256, 512]\n",
      "[-1, 1, 2, 4, 8, 32, 64, 128, 256, 512, -3]\n",
      "[2, 4, 8, 32]\n",
      "[2, 32, 256]\n",
      "[4, 8, 32, 64, 128, 256, 512, -3]\n",
      "-3\n",
      "[512, -3]\n"
     ]
    }
   ],
   "source": [
    "# list example\n",
    "# 用生成器产生序列，语法：[Expression for var in range]\n",
    "ll = [2**i for i in range(0,10)]\n",
    "print(ll)\n",
    "print(\"the length of list ll is\",len(ll))\n",
    "\n",
    "# generate new list by repeating ll twice\n",
    "ll2 = ll * 2\n",
    "print(ll2)\n",
    "ll.append(-3)\n",
    "# insert \"-1\" before index \"0\"\n",
    "ll.insert(0,-1)\n",
    "# delet index 5,(value is 4, because -1 is index 0 now)\n",
    "del(ll[5])\n",
    "print(ll)\n",
    "print(ll[2 : 6])\n",
    "print(ll[2::3])\n",
    "# get all elements after index 3\n",
    "print(ll[3:])\n",
    "# get the last element\n",
    "print(ll[-1])\n",
    "print(ll[-2:])"
   ]
  },
  {
   "cell_type": "code",
   "execution_count": 60,
   "metadata": {},
   "outputs": [
    {
     "name": "stdout",
     "output_type": "stream",
     "text": [
      "[[0, 1, 2, 3, 4], [0, 1, 2, 3, 4], [0, 1, 2, 3, 4], [0, 1, 2, 3, 4]]\n",
      "Example creating 2-d array by generator\n",
      " [[0, 1, 2, 3, 4], [0, 1, 2, 3, 4], [0, 1, 2, 3, 4], [0, 1, 2, 3, 4]]\n"
     ]
    }
   ],
   "source": [
    "# example of 2 decimation list, append in 2-d array\n",
    "\n",
    "arr = []\n",
    "for i in range(4):\n",
    "    arr.append([])\n",
    "    for j in range(5):\n",
    "        arr[i].append(j)\n",
    "print(arr)\n",
    "\n",
    "# example 使用列表推导式创建\n",
    "arr = [[j for j in range(5)] for i in range(4)]\n",
    "print(\"Example creating 2-d array by generator\\n\", arr)"
   ]
  },
  {
   "cell_type": "markdown",
   "metadata": {},
   "source": [
    "## 元组(tuple)## \n",
    "* 元组的内容不可以修改\n",
    "* syntax \n",
    "    + tt=(1,2,3)\n",
    "    + tt2 = tt * 2: generate new tuple with repeat tt twice"
   ]
  },
  {
   "cell_type": "code",
   "execution_count": 39,
   "metadata": {},
   "outputs": [
    {
     "name": "stdout",
     "output_type": "stream",
     "text": [
      "(1, 2, 3)\n",
      "('a', 1, 'test')\n",
      "('a', 1, 'test', 'a', 1, 'test')\n"
     ]
    }
   ],
   "source": [
    "# tuple example\n",
    "\n",
    "tt =(1,2,3)\n",
    "tt2 =(\"a\",1,\"test\")\n",
    "print(tt)\n",
    "print(tt2)\n",
    "#generate new tuple with repeat tt twice\n",
    "tt = tt2 * 2\n",
    "print(tt)"
   ]
  },
  {
   "cell_type": "markdown",
   "metadata": {},
   "source": [
    "### 元组推导式###\n",
    "元组推导式跟列表推导式，跟列表推导式类似。但元组推导式生成的不是元组，而是生成器对象。需要用tuple()再生成元组。\n",
    "生成器对象在遍历之后会消失。"
   ]
  },
  {
   "cell_type": "code",
   "execution_count": 68,
   "metadata": {},
   "outputs": [
    {
     "name": "stdout",
     "output_type": "stream",
     "text": [
      "<generator object <genexpr> at 0x000002A8BA739270>\n",
      "转换后： (31, 19, 93, 85, 15, 11, 84, 63, 60, 32)\n",
      "0\n",
      "1\n",
      "2\n",
      "()\n"
     ]
    }
   ],
   "source": [
    "#example 元组推导式\n",
    "import random\n",
    "randomnumber = (random.randint(10,100) for i in range(10))\n",
    "randomnumber_tuple=tuple(randomnumber)\n",
    "\n",
    "try:\n",
    "    print(randomnumber)\n",
    "except Error as er:\n",
    "    print('Error:'+er)\n",
    "    \n",
    "print(\"转换后：\",randomnumber_tuple)\n",
    "\n",
    "# example 推导式遍历\n",
    "\n",
    "number=(i for i in range(3))\n",
    "print(number.__next__())\n",
    "print(number.__next__())\n",
    "print(tuple(numb))\n",
    "print(number.__next__())\n",
    "number_tuple= tuple(number)\n",
    "print(number_tuple)"
   ]
  },
  {
   "cell_type": "markdown",
   "metadata": {},
   "source": [
    "## 字典(dictionary)##\n",
    "* 字典变量存的是键-值(key-value)对\n",
    "* syntax\n",
    "    + dd = {\"tom\":13,\"Ally\":14}\n",
    "    + get value of specific key: dd[key]\n",
    "* creating dict\n",
    "```python\n",
    "  name=[\"a\",'b','c']\n",
    "  age =[12,13,12]\n",
    "  students=dict(zip(name:age))\n",
    "```"
   ]
  },
  {
   "cell_type": "code",
   "execution_count": 58,
   "metadata": {},
   "outputs": [
    {
     "name": "stdout",
     "output_type": "stream",
     "text": [
      "dict_keys(['tom', 'Ally']) /n dict_values([13, 14])\n",
      "13\n",
      "{'a': 12, 'b': 13, 'c': 12}\n",
      "key  value\n",
      "tom 13\n",
      "Ally 14\n",
      "John 12\n",
      "('Ally', 14)\n",
      "('John', 12)\n"
     ]
    }
   ],
   "source": [
    "# dictionary example\n",
    "dd = {\"tom\":13,\"Ally\":14}\n",
    "print(dd.keys(),\"/n\",dd.values())\n",
    "print(dd[\"tom\"])\n",
    "\n",
    "name=(\"a\",'b','c')\n",
    "age =[12,13,12]\n",
    "students=dict(zip(name,age))\n",
    "print(students)\n",
    "\n",
    "\n",
    "\n",
    "# add new key-value in dict\n",
    "dd[\"John\"]=12\n",
    "\n",
    "print (\"key  value\")\n",
    "for key,val in dd.items():\n",
    "    print(key,val)\n",
    "\n",
    "#delete a dict item\n",
    "del(dd[\"tom\"])\n",
    "for item in dd.items():\n",
    "    print(item)\n",
    "\n"
   ]
  },
  {
   "cell_type": "markdown",
   "metadata": {},
   "source": [
    "## 集合(set)##\n",
    "集合类型等同于数学的集合。用于保存不重复的元素。语法类似于列表。把\\[\\]换成{}。\n",
    "集合有：\n",
    "* 可变集合 set()\n",
    "* 不可变集合frozenset()\n",
    "\n",
    "> note: \n",
    "    空集合不能用set1={} 产生， 要用set1=set()\n",
    "    python 序列都支持不同数据类型赋值在同一序列，但不建议！！可读性差！\n",
    "* syntax \n",
    "  + a = {\"a\",\"b\",1,2}\n",
    "  + set2 = set()\n",
    "### 集合与列表的区别 ###\n",
    "* 集合是无序的\n",
    "* 元素不重复\n",
    "\n",
    "\n",
    "### 集合操作###\n",
    "\n",
    "'操作符'\n",
    "\n",
    "| 操作符 |功能   | 例子    |\n",
    "|--------|:-------|:---------|\n",
    "|&     |交集   |c= a&b   |\n",
    "|\\|    | 并集    | c=a\\|b|\n",
    "|^    |互斥   | c=a^b|\n",
    "|-    |差集     | c = a -b|\n",
    "\n",
    "'函数'\n",
    " \n",
    " * x.add(element)\n",
    "   + add element to set x.\n",
    " * x.remove(element)\n",
    "   + remove element from set x."
   ]
  },
  {
   "cell_type": "code",
   "execution_count": 4,
   "metadata": {},
   "outputs": [
    {
     "name": "stdout",
     "output_type": "stream",
     "text": [
      "study c and python: {'tom', 'Mike', 'Stephen'}\n",
      "study c or python: {'tom', 'Mike', 'Jerry', 'Ally', 'Stephen'}\n",
      "study only one class of c or python: {'Jerry', 'Ally'}\n",
      "study python but not study c: {'Jerry'}\n"
     ]
    }
   ],
   "source": [
    "# example of set\n",
    "py_students ={'tom','Jerry','Stephen'\n",
    "             }\n",
    "c_students = {'John','Stephen','tom','Mike',\"Ally\"\n",
    "             }\n",
    "py_students.add('Mike')\n",
    "c_students.remove('John')\n",
    "print(\"study c and python:\",py_students & c_students)\n",
    "print(\"study c or python:\",py_students | c_students)\n",
    "print(\"study only one class of c or python:\",py_students ^ c_students)\n",
    "print(\"study python but not study c:\",py_students - c_students)"
   ]
  },
  {
   "cell_type": "markdown",
   "metadata": {},
   "source": [
    "## 成员运算 #\n",
    "\n",
    "|operator| function|\n",
    "|:-------|:--------|\n",
    "|in    | x is in list|\n",
    "|not in | x is not list|"
   ]
  },
  {
   "cell_type": "code",
   "execution_count": null,
   "metadata": {},
   "outputs": [],
   "source": [
    "list1=range(1,6)\n",
    "print(list1)\n",
    "print(list(list1))\n",
    "a=5\n",
    "\n",
    "if a in list1:\n",
    "    print(a, 'is in list list1')\n",
    "else:\n",
    "    print(a, \"is not in list list1\")\n",
    "   \n",
    "\n",
    "a=8\n",
    "if a in list1:\n",
    "    print(a, 'is in list list1',sep='')# demo  no separate space between args\n",
    "else:\n",
    "    print(a, \"is not in list list1\",sep='')# demo  no separate space between args"
   ]
  },
  {
   "cell_type": "code",
   "execution_count": null,
   "metadata": {},
   "outputs": [],
   "source": [
    "# string format generator\n",
    "help(format)\n",
    "help('FORMATTING')"
   ]
  },
  {
   "cell_type": "code",
   "execution_count": null,
   "metadata": {},
   "outputs": [],
   "source": []
  }
 ],
 "metadata": {
  "kernelspec": {
   "display_name": "Python 3",
   "language": "python",
   "name": "python3"
  },
  "language_info": {
   "codemirror_mode": {
    "name": "ipython",
    "version": 3
   },
   "file_extension": ".py",
   "mimetype": "text/x-python",
   "name": "python",
   "nbconvert_exporter": "python",
   "pygments_lexer": "ipython3",
   "version": "3.7.3"
  }
 },
 "nbformat": 4,
 "nbformat_minor": 4
}
