{
 "cells": [
  {
   "cell_type": "markdown",
   "metadata": {},
   "source": [
    "# Python control flow"
   ]
  },
  {
   "cell_type": "markdown",
   "metadata": {},
   "source": [
    "# 条件表达式 #\n",
    "\n",
    "* if-elif-else\n",
    "* while(true condition):\n",
    "* for i in seq:\n",
    "* break: 跳出循环\n",
    "* continue: 跳过当前循环的剩余操作，\n",
    "* pass: 占位，无任何操作。\n",
    "\n",
    "## 关系运算符 ##\n",
    "\n",
    "> python 支持连续表达\n",
    "  if (1<2<3):\n",
    "> \"=\" 是赋值！ \"==\" 是相等判断\n",
    "\n",
    "## if-elif-else ##"
   ]
  },
  {
   "cell_type": "code",
   "execution_count": 6,
   "metadata": {},
   "outputs": [
    {
     "name": "stdout",
     "output_type": "stream",
     "text": [
      "true\n",
      "False\n",
      "True\n",
      "else\n"
     ]
    }
   ],
   "source": [
    "# example\n",
    "\n",
    "if(1<2<3):\n",
    "    print(\"true\")\n",
    "print(1<2>3)\n",
    "print(2>1<3)\n",
    "\n",
    "if(1<2>3):\n",
    "    print(\"if\")\n",
    "elif(1>2>3):\n",
    "    print(\"elif\")\n",
    "else:\n",
    "    print('else')"
   ]
  },
  {
   "cell_type": "code",
   "execution_count": 8,
   "metadata": {},
   "outputs": [
    {
     "name": "stdout",
     "output_type": "stream",
     "text": [
      "Input two number:1 43\n",
      "1 43\n",
      "['1', '43']\n",
      "<class 'map'>\n"
     ]
    }
   ],
   "source": [
    "# example if\n",
    "\n",
    "# 数值输入例子\n",
    "x= input('Input two number:')\n",
    "a,b = map(int,x.split())\n",
    "\n",
    "if a > b :\n",
    "    a,b =b,a # 序列解包，交换两个变量的值\n",
    "\n",
    "print(a,b)\n",
    "\n",
    "print(x.split())\n",
    "print(type(map(int,x.split())))"
   ]
  },
  {
   "cell_type": "code",
   "execution_count": 17,
   "metadata": {},
   "outputs": [
    {
     "name": "stdout",
     "output_type": "stream",
     "text": [
      "请输入鸡兔总数和腿总数：3 10\n",
      "2.0\n",
      "鸡：1,兔：2\n",
      "鸡：1,兔：2\n",
      "鸡：1,兔：2\n"
     ]
    }
   ],
   "source": [
    "# example 鸡兔问题\n",
    "jitu, tui = map(int, input('请输入鸡兔总数和腿总数：').split())\n",
    "tu = (tui - jitu*2) / 2\n",
    "\n",
    "# the type of tu is float because of divide operation\n",
    "print(tu)\n",
    "\n",
    "#int()取整\n",
    "if int(tu) == tu:\n",
    "    print('鸡：{0},兔：{1}'.format(int(jitu - tu), int(tu)))\n",
    "else:\n",
    "    print('数据不正确，无解')\n",
    "\n",
    "# the function above doesn't cover negative value.\n",
    "\n",
    "if int(tu) == tu and tu >= 0:\n",
    "    print('鸡：'+str(int(jitu-tu))+',兔：'+str(int(tu)))\n",
    "    print('鸡：{0},兔：{1}'.format(int(jitu - tu), int(tu)))\n",
    "else:\n",
    "    print('数据不正确，或为负值。无解')\n"
   ]
  },
  {
   "cell_type": "markdown",
   "metadata": {},
   "source": [
    "## 三元运算符 ##\n",
    "\n",
    "x = <value 1> if condition else <value 2>"
   ]
  },
  {
   "cell_type": "code",
   "execution_count": 18,
   "metadata": {},
   "outputs": [
    {
     "name": "stdout",
     "output_type": "stream",
     "text": [
      "Input two number:2 4\n",
      "test False\n"
     ]
    }
   ],
   "source": [
    "x= input('Input two number:')\n",
    "a,b = map(int,x.split())\n",
    "x = 'test true' if a> b else 'test False'\n",
    "\n",
    "print(x)"
   ]
  },
  {
   "cell_type": "markdown",
   "metadata": {},
   "source": [
    "## function define ##\n",
    "\n",
    "* Syntax\n",
    "```\n",
    "def func(args):\n",
    "  function body\n",
    "```"
   ]
  },
  {
   "cell_type": "code",
   "execution_count": 23,
   "metadata": {},
   "outputs": [
    {
     "name": "stdout",
     "output_type": "stream",
     "text": [
      "C\n",
      "请输入成绩:10\n"
     ]
    },
    {
     "data": {
      "text/plain": [
       "'E'"
      ]
     },
     "execution_count": 23,
     "metadata": {},
     "output_type": "execute_result"
    }
   ],
   "source": [
    "\"\"\"\n",
    "Example function define\n",
    "@arg: score\n",
    "\"\"\"\n",
    "def func(score):\n",
    "    degree = 'DCBAAE'\n",
    "    if score > 100 or score < 0:\n",
    "        return 'wrong score.must between 0 and 100.'\n",
    "    else:\n",
    "        index = (score - 60) // 10\n",
    "        if index >= 0:\n",
    "            return degree[index]\n",
    "        else:\n",
    "            return degree[-1]\n",
    "\n",
    "print(func(70))\n",
    "\n",
    "# Error, list is not supported in func above\n",
    "# print(func([70,80,90]))\n",
    "\n",
    "func(int(input('请输入成绩:')))"
   ]
  },
  {
   "cell_type": "markdown",
   "metadata": {},
   "source": [
    "## while ##\n",
    "* syntax\n",
    "```python\n",
    "  while( condition):\n",
    "        statement\n",
    "  else:\n",
    "        statement\n",
    "```\n",
    "## For  ##\n",
    "* Syntax\n",
    "```python\n",
    "  for i in <list variable>:\n",
    "        statement\n",
    "  else:\n",
    "    statement\n",
    "```"
   ]
  },
  {
   "cell_type": "code",
   "execution_count": 29,
   "metadata": {},
   "outputs": [
    {
     "name": "stdout",
     "output_type": "stream",
     "text": [
      "1*1= 1 \n",
      "1*2= 2 2*2= 4 \n",
      "1*3= 3 2*3= 6 3*3= 9 \n",
      "1*4= 4 2*4= 8 3*4=12 4*4=16 \n",
      "1*5= 5 2*5=10 3*5=15 4*5=20 5*5=25 \n",
      "1*6= 6 2*6=12 3*6=18 4*6=24 5*6=30 6*6=36 \n",
      "1*7= 7 2*7=14 3*7=21 4*7=28 5*7=35 6*7=42 7*7=49 \n",
      "1*8= 8 2*8=16 3*8=24 4*8=32 5*8=40 6*8=48 7*8=56 8*8=64 \n",
      "1*9= 9 2*9=18 3*9=27 4*9=36 5*9=45 6*9=54 7*9=63 8*9=72 9*9=81 \n"
     ]
    }
   ],
   "source": [
    "# example multiply table\n",
    "\n",
    "for i in range(1,10):\n",
    "    for j in range(1,i+1):\n",
    "        print('{1}*{0}={2:2}'.format(i,j,i*j),end=' ')\n",
    "    print()"
   ]
  },
  {
   "cell_type": "code",
   "execution_count": 38,
   "metadata": {},
   "outputs": [
    {
     "name": "stdout",
     "output_type": "stream",
     "text": [
      "请输入乘法表大小7\n",
      "1*1= 1 \n",
      "1*2= 2 2*2= 4 \n",
      "1*3= 3 2*3= 6 3*3= 9 \n",
      "1*4= 4 2*4= 8 3*4=12 4*4=16 \n",
      "1*5= 5 2*5=10 3*5=15 4*5=20 5*5=25 \n",
      "1*6= 6 2*6=12 3*6=18 4*6=24 5*6=30 6*6=36 \n",
      "1*7= 7 2*7=14 3*7=21 4*7=28 5*7=35 6*7=42 7*7=49 \n"
     ]
    }
   ],
   "source": [
    "# Example multiply table function\n",
    "def multitab(x):\n",
    "    for i in range(1,x+1):\n",
    "        for j in range(1,i+1):\n",
    "            print('{1}*{0}={2:2}'.format(i,j,i*j),end=' ')\n",
    "        print()\n",
    "    \n",
    "multitab(int(input('请输入乘法表大小')))"
   ]
  },
  {
   "cell_type": "markdown",
   "metadata": {},
   "source": [
    "## break , continue ##\n"
   ]
  },
  {
   "cell_type": "code",
   "execution_count": 55,
   "metadata": {},
   "outputs": [
    {
     "name": "stdout",
     "output_type": "stream",
     "text": [
      "请输入numbera\n"
     ]
    },
    {
     "ename": "ValueError",
     "evalue": "invalid literal for int() with base 10: 'a'",
     "output_type": "error",
     "traceback": [
      "\u001b[1;31m---------------------------------------------------------------------------\u001b[0m",
      "\u001b[1;31mValueError\u001b[0m                                Traceback (most recent call last)",
      "\u001b[1;32m<ipython-input-55-be725a6cf553>\u001b[0m in \u001b[0;36m<module>\u001b[1;34m\u001b[0m\n\u001b[0;32m     19\u001b[0m \u001b[1;33m\u001b[0m\u001b[0m\n\u001b[0;32m     20\u001b[0m \u001b[1;33m\u001b[0m\u001b[0m\n\u001b[1;32m---> 21\u001b[1;33m \u001b[0mmaxodd\u001b[0m\u001b[1;33m(\u001b[0m\u001b[0mint\u001b[0m\u001b[1;33m(\u001b[0m\u001b[0minput\u001b[0m\u001b[1;33m(\u001b[0m\u001b[1;34m'请输入number'\u001b[0m\u001b[1;33m)\u001b[0m\u001b[1;33m)\u001b[0m\u001b[1;33m)\u001b[0m\u001b[1;33m\u001b[0m\u001b[1;33m\u001b[0m\u001b[0m\n\u001b[0m",
      "\u001b[1;31mValueError\u001b[0m: invalid literal for int() with base 10: 'a'"
     ]
    }
   ],
   "source": [
    "# 计算小于100的最大素数\n",
    "\n",
    "def maxprime(x):\n",
    "'''\n",
    "#@note: this function is not correct when value is <=3.\n",
    "'''\n",
    "    for n in range(x,1,-1):\n",
    "        if n%2 == 0:\n",
    "            continue\n",
    "        for i in range(3,int(n**0.5),2):\n",
    "            if n%i ==0:\n",
    "                break\n",
    "        if n % i == 0:\n",
    "            #debug code\n",
    "            print(n,'不是素数，可以被',i,'整除')\n",
    "            continue\n",
    "        else:\n",
    "            print(n)\n",
    "            break\n",
    "    else:\n",
    "        print(\"exception of for loop.\")\n",
    "    \n",
    "    \n",
    "maxprime(int(input('请输入number')))"
   ]
  },
  {
   "cell_type": "markdown",
   "metadata": {},
   "source": [
    "## while ##\n"
   ]
  },
  {
   "cell_type": "code",
   "execution_count": 56,
   "metadata": {},
   "outputs": [
    {
     "name": "stdout",
     "output_type": "stream",
     "text": [
      "请输入一个成绩：a\n",
      "不是合法成绩\n",
      "继续输入吗？（yes/no）n\n",
      "没有输入任何成绩\n"
     ]
    }
   ],
   "source": [
    "numbers = []\n",
    "while True:\n",
    "    x = input('请输入一个成绩：')\n",
    "    #异常处理结构，用来保证用户只能输入实数\n",
    "    try:\n",
    "        #先把x转换成实数，然后追加到列表numbers尾部\n",
    "        numbers.append(float(x))\n",
    "    except:\n",
    "        print('不是合法成绩')\n",
    "\n",
    "    #下面的循环用来限制用户只能输入任意大小写的“yes”或者“no”\n",
    "    while True:\n",
    "        flag = input('继续输入吗？（yes/no）').lower()\n",
    "        if flag not in ('yes', 'no','y','n'):\n",
    "            print('只能输入yes/y或no/n')\n",
    "        else:\n",
    "            break\n",
    "    if flag=='no' or flag =='n':\n",
    "        break\n",
    "\n",
    "#计算平均分\n",
    "if(len(numbers))!=0:\n",
    "    print(sum(numbers)/len(numbers))\n",
    "else:\n",
    "    print(\"没有输入任何成绩\")"
   ]
  },
  {
   "cell_type": "code",
   "execution_count": 58,
   "metadata": {},
   "outputs": [
    {
     "name": "stdout",
     "output_type": "stream",
     "text": [
      "                  \n",
      "        *         \n",
      "       *  *       \n",
      "     *  *  *      \n",
      "    *  *  *  *    \n",
      "  *  *  *  *  *   \n",
      " *  *  *  *  *  * \n",
      "  *  *  *  *  *   \n",
      "    *  *  *  *    \n",
      "     *  *  *      \n",
      "       *  *       \n",
      "        *         \n"
     ]
    }
   ],
   "source": [
    "def main(n):\n",
    "    for i in range(n):\n",
    "        print((' * '*i).center(n*3))\n",
    "    for i in range(n, 0, -1):\n",
    "        print((' * '*i).center(n*3))\n",
    "main(6)"
   ]
  },
  {
   "cell_type": "markdown",
   "metadata": {},
   "source": [
    "`例4-14`  编写代码，模拟决赛现场最终成绩的计算过程。有至少3个评委，打分规则为删除最高分和最低分之后计算剩余分数的平均分。\n"
   ]
  },
  {
   "cell_type": "code",
   "execution_count": 63,
   "metadata": {},
   "outputs": [
    {
     "name": "stdout",
     "output_type": "stream",
     "text": [
      "请输入评委人数：5\n",
      "请输入第1个评委的分数：100\n",
      "请输入第2个评委的分数：102\n",
      "分数错误\n",
      "请输入第2个评委的分数：99\n",
      "请输入第3个评委的分数：-1\n",
      "分数错误\n",
      "请输入第3个评委的分数：0\n",
      "请输入第4个评委的分数：50\n",
      "请输入第5个评委的分数：55.5\n",
      "max: 100.0 \tmin: 0.0\n",
      "scores: [99.0, 50.0, 55.5]\n",
      "去掉一个最高分100.0\n",
      "去掉一个最低分0.0\n",
      "最后得分68.17\n"
     ]
    }
   ],
   "source": [
    "while True:\n",
    "    try:\n",
    "        n = int(input('请输入评委人数：'))\n",
    "        if n <= 2:\n",
    "            print('评委人数太少,必须多于2个人。')\n",
    "        else:\n",
    "            break\n",
    "    except:\n",
    "        pass\n",
    "    \n",
    "scores = []\n",
    "\n",
    "for i in range(n):\n",
    "    #这个while循环用来保证用户必须输入0到100之间的数字\n",
    "    while True:\n",
    "        try:\n",
    "            score = input('请输入第{0}个评委的分数：'.format(i+1))\n",
    "            #把字符串转换为实数\n",
    "            score = float(score)\n",
    "            assert 0<=score<=100\n",
    "            scores.append(score)\n",
    "            #如果数据合法，跳出while循环，继续输入下一个评委的分数\n",
    "            break\n",
    "        except:\n",
    "            print('分数错误')\n",
    "\n",
    "#计算并删除最高分与最低分\n",
    "highest = max(scores)\n",
    "lowest = min(scores)\n",
    "print(\"max:\",highest,\"\\tmin:\",lowest)\n",
    "scores.remove(highest)\n",
    "scores.remove(lowest)\n",
    "print(\"scores:\",scores)\n",
    "finalScore = round(sum(scores)/len(scores),2)\n",
    "\n",
    "formatter = '去掉一个最高分{0}\\n去掉一个最低分{1}\\n最后得分{2}'\n",
    "print(formatter.format(highest, lowest, finalScore))\n"
   ]
  },
  {
   "cell_type": "markdown",
   "metadata": {},
   "source": [
    "## 递归 recursion ##"
   ]
  },
  {
   "cell_type": "code",
   "execution_count": 73,
   "metadata": {},
   "outputs": [
    {
     "name": "stdout",
     "output_type": "stream",
     "text": [
      "The 1times move: a==>c\n",
      "The 2times move: a==>b\n",
      "The 3times move: c==>b\n",
      "The 4times move: a==>c\n",
      "The 5times move: b==>a\n",
      "The 6times move: b==>c\n",
      "The 7times move: a==>c\n"
     ]
    }
   ],
   "source": [
    "# example recursion\n",
    "\n",
    "def hannoi(n, src,dst,temp=None):\n",
    "    global times\n",
    "    if n<1:\n",
    "        print(error)\n",
    "    if n==1:\n",
    "        print(\"The {0}times move: {1}==>{2}\".format(times,src,dst))\n",
    "        times +=1\n",
    "    else:\n",
    "        hannoi(n-1,src,temp,dst)\n",
    "        hannoi(1,src,dst)\n",
    "        hannoi(n-1,temp,dst,src)\n",
    "\n",
    "times =1;\n",
    "\n",
    "hannoi(3,'a','c','b')"
   ]
  },
  {
   "cell_type": "code",
   "execution_count": null,
   "metadata": {},
   "outputs": [],
   "source": []
  }
 ],
 "metadata": {
  "kernelspec": {
   "display_name": "Python 3",
   "language": "python",
   "name": "python3"
  },
  "language_info": {
   "codemirror_mode": {
    "name": "ipython",
    "version": 3
   },
   "file_extension": ".py",
   "mimetype": "text/x-python",
   "name": "python",
   "nbconvert_exporter": "python",
   "pygments_lexer": "ipython3",
   "version": "3.8.5"
  }
 },
 "nbformat": 4,
 "nbformat_minor": 4
}
