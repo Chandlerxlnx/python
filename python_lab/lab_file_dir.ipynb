{
 "cells": [
  {
   "cell_type": "markdown",
   "metadata": {},
   "source": [
    "# File and directory operation\n",
    "\n",
    "## OS module\n",
    "\n",
    "|method| description|\n",
    "|:-----|:----------|\n",
    "|`chdir(path)`|把目录设为当前目录|\n",
    "|curdir|返回当前目录  |\n",
    "|getcwd()| 返回当前目录|\n",
    "|listdir()| |\n",
    "|remove(path)| |\n",
    "|rename(src,dst)|重命名文件或目录，可实现文件移动，若目标文件已存在，抛出异常，不能跨磁盘分区|\n",
    "|rmdir(path)| |\n",
    "|stat(path)|返回的所有信息|\n",
    "\n",
    "## os.path module \n",
    "\n",
    "|method| description|\n",
    "|:-----|:----------|\n",
    "|isfile()| |\n",
    "|isdir()| |\n",
    "|isabs()| |\n",
    "|join(path,\\*paths)|连接两个或多个path |\n",
    "|realpath(path)||\n",
    "|relpath(path)|返回给定路径的相对路径，不能跨越磁盘驱动器或分区|\n",
    "|samefile(f1,f2)|测试f1和f2这两个路径是否引用的同一个文件!)|\n",
    "|split(path)|以路径中的最后一个斜线为分隔符把路径分隔成两部分，以元组形式返回!|\n",
    "|splittext(path)|从路径中分隔文件的扩展名|\n",
    "|splitdrive(path)|从路径中分隔驱动器的名称|\n",
    "|basename()|返回路径的最后一个元组|\n",
    "\n",
    "> Note: split(path) is equal to path.split('\\\\\\\\')\\[-1\\]\n",
    "> * splittext,splitdrive can be implemented by str.split as well.\n",
    "\n"
   ]
  },
  {
   "cell_type": "code",
   "execution_count": 3,
   "metadata": {},
   "outputs": [
    {
     "name": "stdout",
     "output_type": "stream",
     "text": [
      "['tmp2']\n",
      "dst dir doesn't exist. creating it\n",
      "[]\n",
      ".\n",
      "C:\\Users\\Zandra\\Desktop\\python_labs\\python\\python_lab\\tmp\\tmp\\tmp\n",
      "['tmp1', 'tmp2']\n",
      "['tmp2']\n"
     ]
    }
   ],
   "source": [
    "# example os operation\n",
    "\n",
    "import os\n",
    "\n",
    "import os.path\n",
    "\n",
    "print(os.listdir(r'.'))\n",
    "\n",
    "if not os.path.isdir(r'dst'):\n",
    "    print('dst dir doesn\\'t exist. creating it')\n",
    "    os.mkdir(r'dst')\n",
    "\n",
    "if os.path.isfile(r'test.txt'):\n",
    "    os.rename(r'./test.txt',r'dst/test1.txt')\n",
    "\n",
    "print(os.listdir(r'.\\dst\\\\'))\n",
    "\n",
    "os.mkdir(os.getcwd()+'\\\\tmp')\n",
    "os.chdir(os.getcwd()+'\\\\tmp')\n",
    "\n",
    "print(os.curdir)\n",
    "print(os.getcwd())\n",
    "os.mkdir('.\\\\tmp1')\n",
    "os.mkdir('.\\\\tmp2')\n",
    "\n",
    "print(os.listdir('.'))\n",
    "\n",
    "os.rmdir('tmp1')\n",
    "print(os.listdir('.'))\n",
    "\n",
    "\n",
    "    "
   ]
  },
  {
   "cell_type": "code",
   "execution_count": 12,
   "metadata": {},
   "outputs": [
    {
     "name": "stdout",
     "output_type": "stream",
     "text": [
      "['bmi.py', 'class_lab.py', 'day_cal.py', 'jieba_lab1.py', 'lab2_control.ipynb', 'lab2_ifelse.py', 'lab3_string.ipynb', 'lab_package.ipynb', 'python_lab1_syntax.ipynb', 'str_check_replace.py', 'Untitled.ipynb', 'Untitled1.ipynb', 'Untitled2.ipynb']\n",
      "[]\n"
     ]
    }
   ],
   "source": [
    "# example os\n",
    "\n",
    "import os\n",
    "import os.path\n",
    "\n",
    "print([fname for fname in os.listdir('.') \n",
    "       if fname.endswith(('.py','.ipynb'))])\n",
    "\n",
    "print([fname for fname in os.listdir('.') \n",
    "       if fname.endswith(('.txt'))])"
   ]
  },
  {
   "cell_type": "code",
   "execution_count": 24,
   "metadata": {},
   "outputs": [],
   "source": [
    "# call app\n",
    "\n",
    "os.startfile('notepad.exe')"
   ]
  },
  {
   "cell_type": "code",
   "execution_count": null,
   "metadata": {},
   "outputs": [],
   "source": [
    "### 使用递归法遍历指定目录下所有子目录和文件"
   ]
  },
  {
   "cell_type": "code",
   "execution_count": 13,
   "metadata": {},
   "outputs": [
    {
     "name": "stdout",
     "output_type": "stream",
     "text": [
      "C:\\Users\\Zandra\\Desktop\\python_labs\\python\n",
      "C:\\Users\\Zandra\\Desktop\n",
      "[('C:\\\\Users\\\\Zandra\\\\Desktop\\\\python_labs\\\\python', ['.git', '.github', 'codestyles', 'cpython', 'my_jupyter', 'python_lab', 'src', '_windows'], ['debugger.xml', 'find.xml', 'lucky.html', 'markdown.xml', 'my_python_note.ipynb', 'plugin_ui.xml', 'README.md', 'vim_settings.xml', 'words.txt']), ('C:\\\\Users\\\\Zandra\\\\Desktop\\\\python_labs\\\\python\\\\.git', ['hooks', 'info', 'logs', 'objects', 'refs'], ['COMMIT_EDITMSG', 'config', 'description', 'FETCH_HEAD', 'HEAD', 'index', 'ORIG_HEAD', 'packed-refs']), ('C:\\\\Users\\\\Zandra\\\\Desktop\\\\python_labs\\\\python\\\\.git\\\\hooks', [], ['applypatch-msg.sample', 'commit-msg.sample', 'fsmonitor-watchman.sample', 'post-update.sample', 'pre-applypatch.sample', 'pre-commit.sample', 'pre-merge-commit.sample', 'pre-push.sample', 'pre-rebase.sample', 'pre-receive.sample', 'prepare-commit-msg.sample', 'push-to-checkout.sample', 'update.sample']), ('C:\\\\Users\\\\Zandra\\\\Desktop\\\\python_labs\\\\python\\\\.git\\\\info', [], ['exclude']), ('C:\\\\Users\\\\Zandra\\\\Desktop\\\\python_labs\\\\python\\\\.git\\\\logs', ['refs'], ['HEAD']), ('C:\\\\Users\\\\Zandra\\\\Desktop\\\\python_labs\\\\python\\\\.git\\\\logs\\\\refs', ['heads', 'remotes'], []), ('C:\\\\Users\\\\Zandra\\\\Desktop\\\\python_labs\\\\python\\\\.git\\\\logs\\\\refs\\\\heads', [], ['master']), ('C:\\\\Users\\\\Zandra\\\\Desktop\\\\python_labs\\\\python\\\\.git\\\\logs\\\\refs\\\\remotes', ['origin'], []), ('C:\\\\Users\\\\Zandra\\\\Desktop\\\\python_labs\\\\python\\\\.git\\\\logs\\\\refs\\\\remotes\\\\origin', [], ['HEAD', 'master']), ('C:\\\\Users\\\\Zandra\\\\Desktop\\\\python_labs\\\\python\\\\.git\\\\objects', ['06', '10', '2b', '39', '3d', '3e', '4a', '4e', '4f', '54', '55', '6f', '72', '75', '78', '79', '7e', '7f', '84', '87', '89', '93', '95', '9f', 'a7', 'c5', 'c6', 'cf', 'd2', 'e4', 'fb', 'fd', 'info', 'pack'], []), ('C:\\\\Users\\\\Zandra\\\\Desktop\\\\python_labs\\\\python\\\\.git\\\\objects\\\\06', [], ['018f97dd33d2f665683117feb7a7e1cd01877e']), ('C:\\\\Users\\\\Zandra\\\\Desktop\\\\python_labs\\\\python\\\\.git\\\\objects\\\\10', [], ['6d33a14b8ff48e4036b4296bb11fed86e44331']), ('C:\\\\Users\\\\Zandra\\\\Desktop\\\\python_labs\\\\python\\\\.git\\\\objects\\\\2b', [], ['4aecc2b64dcb81a01db1259b31f563ebb05b75']), ('C:\\\\Users\\\\Zandra\\\\Desktop\\\\python_labs\\\\python\\\\.git\\\\objects\\\\39', [], ['e031c8ec866f73eac7c974d88acfe5df2749e4']), ('C:\\\\Users\\\\Zandra\\\\Desktop\\\\python_labs\\\\python\\\\.git\\\\objects\\\\3d', [], ['8e322acb802c7788864e3d77bd5c6f2f740092']), ('C:\\\\Users\\\\Zandra\\\\Desktop\\\\python_labs\\\\python\\\\.git\\\\objects\\\\3e', [], ['742af2abc5ae0c21542258be4351fd47b6c58d']), ('C:\\\\Users\\\\Zandra\\\\Desktop\\\\python_labs\\\\python\\\\.git\\\\objects\\\\4a', [], ['546a44776ebe4095616cb5182f77f7cec4a879']), ('C:\\\\Users\\\\Zandra\\\\Desktop\\\\python_labs\\\\python\\\\.git\\\\objects\\\\4e', [], ['a15c7c9e6079d901eb153d6a9e98318807a8bd']), ('C:\\\\Users\\\\Zandra\\\\Desktop\\\\python_labs\\\\python\\\\.git\\\\objects\\\\4f', [], ['55543d255efddcf4b048eeb9ab5d721b9deacc']), ('C:\\\\Users\\\\Zandra\\\\Desktop\\\\python_labs\\\\python\\\\.git\\\\objects\\\\54', [], ['7354de515b5677d141cccc852e0c51f3fee2d4']), ('C:\\\\Users\\\\Zandra\\\\Desktop\\\\python_labs\\\\python\\\\.git\\\\objects\\\\55', [], ['36abb764f9e68b19452878acebad42db79be8e']), ('C:\\\\Users\\\\Zandra\\\\Desktop\\\\python_labs\\\\python\\\\.git\\\\objects\\\\6f', [], ['07d696f1f582261629956223e9985182b6eeef']), ('C:\\\\Users\\\\Zandra\\\\Desktop\\\\python_labs\\\\python\\\\.git\\\\objects\\\\72', [], ['975bbc518c01350b83ec26509f36b592187bea']), ('C:\\\\Users\\\\Zandra\\\\Desktop\\\\python_labs\\\\python\\\\.git\\\\objects\\\\75', [], ['59f2b1b8660bf989c883b251818ef141c228b6']), ('C:\\\\Users\\\\Zandra\\\\Desktop\\\\python_labs\\\\python\\\\.git\\\\objects\\\\78', [], ['4b0a17ac26dd7e82bbce130d306fc9e43bca17']), ('C:\\\\Users\\\\Zandra\\\\Desktop\\\\python_labs\\\\python\\\\.git\\\\objects\\\\79', [], ['4e0db35c1a0a9f037508d1e1f875c961ffc682']), ('C:\\\\Users\\\\Zandra\\\\Desktop\\\\python_labs\\\\python\\\\.git\\\\objects\\\\7e', [], ['ca4f3728a839206169ce04c547b479054bed54']), ('C:\\\\Users\\\\Zandra\\\\Desktop\\\\python_labs\\\\python\\\\.git\\\\objects\\\\7f', [], ['ec51502cbc3200b3d0ffc6bbba1fe85e197f3d']), ('C:\\\\Users\\\\Zandra\\\\Desktop\\\\python_labs\\\\python\\\\.git\\\\objects\\\\84', [], ['2e5298d5764cae692c3622f95b3aeed0cca9c2']), ('C:\\\\Users\\\\Zandra\\\\Desktop\\\\python_labs\\\\python\\\\.git\\\\objects\\\\87', [], ['08c5d9ffdc150a1b430ae143189b456c2c7bef']), ('C:\\\\Users\\\\Zandra\\\\Desktop\\\\python_labs\\\\python\\\\.git\\\\objects\\\\89', [], ['010ed22db9adb235273d7e235312297d4f9010']), ('C:\\\\Users\\\\Zandra\\\\Desktop\\\\python_labs\\\\python\\\\.git\\\\objects\\\\93', [], ['cfc32ba1d0792e9b918b69d7dff8b55586a97b']), ('C:\\\\Users\\\\Zandra\\\\Desktop\\\\python_labs\\\\python\\\\.git\\\\objects\\\\95', [], ['682b518b2127ca64762ad45df54bcd4b141954', 'd85a7b5648ccf92a4b2599ee5e7d5b85cffbdb']), ('C:\\\\Users\\\\Zandra\\\\Desktop\\\\python_labs\\\\python\\\\.git\\\\objects\\\\9f', [], ['a887087eb4ff6091046001b9f0351a2048e137']), ('C:\\\\Users\\\\Zandra\\\\Desktop\\\\python_labs\\\\python\\\\.git\\\\objects\\\\a7', [], ['224c11cad6bedd2f5a53e6bd6de93989ac96d0']), ('C:\\\\Users\\\\Zandra\\\\Desktop\\\\python_labs\\\\python\\\\.git\\\\objects\\\\c5', [], ['34a1a096dbb2fdb73c1c599fea3e9e2e37f04c']), ('C:\\\\Users\\\\Zandra\\\\Desktop\\\\python_labs\\\\python\\\\.git\\\\objects\\\\c6', [], ['e5132574d3da2542583c91ab094c7d4794a104']), ('C:\\\\Users\\\\Zandra\\\\Desktop\\\\python_labs\\\\python\\\\.git\\\\objects\\\\cf', [], ['9a28f10c2ce0454ea3a67209ea951bd79d0cff']), ('C:\\\\Users\\\\Zandra\\\\Desktop\\\\python_labs\\\\python\\\\.git\\\\objects\\\\d2', [], ['4921ec7c4bd3629f6ed76d8775bbac722a6ba6']), ('C:\\\\Users\\\\Zandra\\\\Desktop\\\\python_labs\\\\python\\\\.git\\\\objects\\\\e4', [], ['e10f538d3f8d3a95699a5881b57e45c9a75b5f']), ('C:\\\\Users\\\\Zandra\\\\Desktop\\\\python_labs\\\\python\\\\.git\\\\objects\\\\fb', [], ['44430a312ab5df7e970e1eae9acf63435ee9fa']), ('C:\\\\Users\\\\Zandra\\\\Desktop\\\\python_labs\\\\python\\\\.git\\\\objects\\\\fd', [], ['9384b33f56c8d54f156065ec0012319f366f57']), ('C:\\\\Users\\\\Zandra\\\\Desktop\\\\python_labs\\\\python\\\\.git\\\\objects\\\\info', [], []), ('C:\\\\Users\\\\Zandra\\\\Desktop\\\\python_labs\\\\python\\\\.git\\\\objects\\\\pack', [], ['pack-6816d5fb79b19592d9dc3e37bae85bbefd2d63c9.idx', 'pack-6816d5fb79b19592d9dc3e37bae85bbefd2d63c9.pack']), ('C:\\\\Users\\\\Zandra\\\\Desktop\\\\python_labs\\\\python\\\\.git\\\\refs', ['heads', 'remotes', 'tags'], []), ('C:\\\\Users\\\\Zandra\\\\Desktop\\\\python_labs\\\\python\\\\.git\\\\refs\\\\heads', [], ['master']), ('C:\\\\Users\\\\Zandra\\\\Desktop\\\\python_labs\\\\python\\\\.git\\\\refs\\\\remotes', ['origin'], []), ('C:\\\\Users\\\\Zandra\\\\Desktop\\\\python_labs\\\\python\\\\.git\\\\refs\\\\remotes\\\\origin', [], ['HEAD', 'master']), ('C:\\\\Users\\\\Zandra\\\\Desktop\\\\python_labs\\\\python\\\\.git\\\\refs\\\\tags', [], []), ('C:\\\\Users\\\\Zandra\\\\Desktop\\\\python_labs\\\\python\\\\.github', ['workflows'], []), ('C:\\\\Users\\\\Zandra\\\\Desktop\\\\python_labs\\\\python\\\\.github\\\\workflows', [], ['pythonpackage.yml']), ('C:\\\\Users\\\\Zandra\\\\Desktop\\\\python_labs\\\\python\\\\codestyles', [], ['Default.xml']), ('C:\\\\Users\\\\Zandra\\\\Desktop\\\\python_labs\\\\python\\\\cpython', [], ['readme.md']), ('C:\\\\Users\\\\Zandra\\\\Desktop\\\\python_labs\\\\python\\\\my_jupyter', ['my_pynq', 'my_spyder', 'pandas_lab'], ['my_kaggle_note.ipynb']), ('C:\\\\Users\\\\Zandra\\\\Desktop\\\\python_labs\\\\python\\\\my_jupyter\\\\my_pynq', [], ['my_pynq_note.ipynb', 'Untitled.ipynb']), ('C:\\\\Users\\\\Zandra\\\\Desktop\\\\python_labs\\\\python\\\\my_jupyter\\\\my_spyder', [], ['favicon.ico', 'my_requests_notes.ipynb', 'Untitled.ipynb']), ('C:\\\\Users\\\\Zandra\\\\Desktop\\\\python_labs\\\\python\\\\my_jupyter\\\\pandas_lab', [], ['financial_lab.ipynb', 'lab1_express.py', 'time_series_lab1.ipynb']), ('C:\\\\Users\\\\Zandra\\\\Desktop\\\\python_labs\\\\python\\\\python_lab', ['.ipynb_checkpoints', 'dst', 'packages', 'tmp'], ['bmi.py', 'class_lab.py', 'day_cal.py', 'jieba_lab1.py', 'lab2_control.ipynb', 'lab2_ifelse.py', 'lab3_string.ipynb', 'lab_package.ipynb', 'python_lab1_syntax.ipynb', 'str_check_replace.py', 'Untitled.ipynb', 'Untitled1.ipynb', 'Untitled2.ipynb']), ('C:\\\\Users\\\\Zandra\\\\Desktop\\\\python_labs\\\\python\\\\python_lab\\\\.ipynb_checkpoints', [], ['Untitled2-checkpoint.ipynb']), ('C:\\\\Users\\\\Zandra\\\\Desktop\\\\python_labs\\\\python\\\\python_lab\\\\dst', [], ['test1.txt']), ('C:\\\\Users\\\\Zandra\\\\Desktop\\\\python_labs\\\\python\\\\python_lab\\\\packages', ['Fruit', 'geese', 'settings'], []), ('C:\\\\Users\\\\Zandra\\\\Desktop\\\\python_labs\\\\python\\\\python_lab\\\\packages\\\\Fruit', [], ['Fruit.py', '__init__.py']), ('C:\\\\Users\\\\Zandra\\\\Desktop\\\\python_labs\\\\python\\\\python_lab\\\\packages\\\\geese', [], ['__init__.py']), ('C:\\\\Users\\\\Zandra\\\\Desktop\\\\python_labs\\\\python\\\\python_lab\\\\packages\\\\settings', [], ['circle.py', 'settings.py', 'size.py', '__init__.py']), ('C:\\\\Users\\\\Zandra\\\\Desktop\\\\python_labs\\\\python\\\\python_lab\\\\tmp', ['dst', 'tmp', 'tmp2'], []), ('C:\\\\Users\\\\Zandra\\\\Desktop\\\\python_labs\\\\python\\\\python_lab\\\\tmp\\\\dst', [], []), ('C:\\\\Users\\\\Zandra\\\\Desktop\\\\python_labs\\\\python\\\\python_lab\\\\tmp\\\\tmp', ['dst', 'tmp', 'tmp2'], []), ('C:\\\\Users\\\\Zandra\\\\Desktop\\\\python_labs\\\\python\\\\python_lab\\\\tmp\\\\tmp\\\\dst', [], []), ('C:\\\\Users\\\\Zandra\\\\Desktop\\\\python_labs\\\\python\\\\python_lab\\\\tmp\\\\tmp\\\\tmp', ['tmp2'], []), ('C:\\\\Users\\\\Zandra\\\\Desktop\\\\python_labs\\\\python\\\\python_lab\\\\tmp\\\\tmp\\\\tmp\\\\tmp2', [], []), ('C:\\\\Users\\\\Zandra\\\\Desktop\\\\python_labs\\\\python\\\\python_lab\\\\tmp\\\\tmp\\\\tmp2', [], []), ('C:\\\\Users\\\\Zandra\\\\Desktop\\\\python_labs\\\\python\\\\python_lab\\\\tmp\\\\tmp2', [], []), ('C:\\\\Users\\\\Zandra\\\\Desktop\\\\python_labs\\\\python\\\\src', [], ['my_pygame.py', 'my_python_note.ipynb', 'random_ex.py']), ('C:\\\\Users\\\\Zandra\\\\Desktop\\\\python_labs\\\\python\\\\_windows', [], ['applicationLibraries.xml', 'laf.xml'])]\n"
     ]
    }
   ],
   "source": [
    "\n",
    "from os import listdir\n",
    "from os.path import join, isfile, isdir\n",
    "\n",
    "def listDirDepthFirst(directory):\n",
    "    '''深度优先遍历文件夹'''\n",
    "    #遍历文件夹，如果是文件就直接输出\n",
    "    #如果是文件夹，就输出显示，然后递归遍历该文件夹\n",
    "    for subPath in listdir(directory):\n",
    "        path = join(directory, subPath)\n",
    "        if isfile(path):\n",
    "            print(path)\n",
    "        elif isdir(path):\n",
    "            # print(path)\n",
    "            listDirDepthFirst(path)\n",
    "\n",
    "os.chdir(r'C:\\Users\\Zandra\\Desktop\\python_labs\\python')\n",
    "curdir = os.getcwd()\n",
    "print(curdir)\n",
    "os.chdir(curdir[:curdir.rindex('python_lab')])\n",
    "print(os.getcwd())\n",
    "\n",
    "listDirDepthFirst(r'C:\\Users\\Zandra\\Desktop\\python_labs\\python\\tmp')\n",
    "print([fname for fname in os.walk(r'C:\\Users\\Zandra\\Desktop\\python_labs\\python\\tmp')])"
   ]
  },
  {
   "cell_type": "code",
   "execution_count": 17,
   "metadata": {},
   "outputs": [
    {
     "name": "stdout",
     "output_type": "stream",
     "text": [
      "('C:\\\\Users\\\\Zandra\\\\Desktop\\\\python_labs', 'python')\n",
      "('C:', '\\\\Users\\\\Zandra\\\\Desktop\\\\python_labs\\\\python')\n",
      "python\n"
     ]
    }
   ],
   "source": [
    "import os\n",
    "from os import path\n",
    "print(path.split(r'C:\\Users\\Zandra\\Desktop\\python_labs\\python'))\n",
    "print(path.splitdrive(r'C:\\Users\\Zandra\\Desktop\\python_labs\\python'))\n",
    "print(path.basename(r'C:\\Users\\Zandra\\Desktop\\python_labs\\python'))"
   ]
  },
  {
   "cell_type": "markdown",
   "metadata": {},
   "source": [
    "## shutil module\n",
    "\n",
    "|method| description|\n",
    "|:-----|:----------|\n",
    "|copy(src,dst)|复制文件，新文件具有同样的文件属性，如果目标文件已存在则抛出异常|\n",
    "|copy2(src,dst)|复制文件，新文件具有原文件完全一样的属性，包括创建时间、修改时间和最后访问时间等等，如果目标文件已存在则抛出异常|\n",
    "|`copyfile(src,dst)`|复制文件，不复制文件属性，如果目标文件已存在则直接覆盖|\n",
    "|copyfileobj(fsrc,fdst)|在两个文件对象之间复制数据，例如copyfileobj(open('123.txt'), open('456.txt', 'a')|\n",
    "|copyemode(src,dst)|把src的模式位（mode bit）复制到dst上，之后二者具有相同的模式|\n",
    "|copystat(src,dst)|把src的模式位、访问时间等所有状态都复制到dst上|\n",
    "|disk_usage(path)||\n",
    "|move(src,dst)|移动文件或递归移动文件夹，也可以给文件和文件夹重命名|\n",
    "|`copytree(src,dst)`|递归复制文件夹|\n",
    "|`rmtree(path)`|递归删除件夹|\n",
    "|`make_archive(base_name, format, root_dir=None, base_dir=None)`|压缩文件|\n",
    "|`unpack_archive(filename, extract_dir=None, format=None)`|解压文件|\n"
   ]
  },
  {
   "cell_type": "code",
   "execution_count": 29,
   "metadata": {},
   "outputs": [
    {
     "name": "stdout",
     "output_type": "stream",
     "text": [
      "C:\\Users\\Zandra\\Desktop\\python_labs\\python\\python_lab\\tmp\\tmp\\CMjNmwSQfpHkVKeeQ.txt\n",
      "C:\\Users\\Zandra\\Desktop\\python_labs\\python\\python_lab\\tmp\\tmp\\tmp\\RkQtVaYqxPhdlvHrJLHl.bmp\n",
      "C:\\Users\\Zandra\\Desktop\\python_labs\\python\\python_lab\\tmp\\tmp\\tmp\\tmp2\\moBvrvzArCxdssNj.xlsx\n"
     ]
    },
    {
     "data": {
      "text/plain": [
       "['dst', 'tmp', 'tmp2']"
      ]
     },
     "execution_count": 29,
     "metadata": {},
     "output_type": "execute_result"
    }
   ],
   "source": [
    "import shutil\n",
    "\n",
    "curdir = r'C:\\Users\\Zandra\\Desktop\\python_labs\\python\\python_lab'\n",
    "os.chdir(curdir)\n",
    "\n",
    "from os import listdir\n",
    "from os.path import join, isfile, isdir, basename, splitext\n",
    "from string import ascii_letters\n",
    "from os import rename\n",
    "from random import choice, randint\n",
    "\n",
    "def RandomFileDirDepth(directory):\n",
    "    '''深度优先遍历文件夹'''\n",
    "    #遍历文件夹，如果是文件就直接输出\n",
    "    #如果是文件夹，就输出显示，然后递归遍历该文件夹\n",
    "    for subPath in listdir(directory):\n",
    "        path = join(directory, subPath)\n",
    "        if isfile(path):\n",
    "            print(path)\n",
    "            fname,ext = splitext(basename(path))\n",
    "            n = randint(5,20)\n",
    "            newName = ''.join((choice(ascii_letters) for i in range(n)))\n",
    "            rename(path,join(directory,newName+ext))\n",
    "        elif isdir(path):\n",
    "            # print(path)\n",
    "            RandomFileDirDepth(path)\n",
    "\n",
    "RandomFileDirDepth(curdir+'\\\\tmp')\n",
    "\n",
    "listdir(curdir+'\\\\tmp')"
   ]
  },
  {
   "cell_type": "markdown",
   "metadata": {},
   "source": [
    "### example calculate the size of folder, file quantity and subdir quantity\n"
   ]
  },
  {
   "cell_type": "code",
   "execution_count": null,
   "metadata": {},
   "outputs": [],
   "source": [
    "# statics on size, file number, dir number of specific folder\n",
    "\n",
    "import os\n",
    "\n",
    "def "
   ]
  }
 ],
 "metadata": {
  "kernelspec": {
   "display_name": "Python 3",
   "language": "python",
   "name": "python3"
  },
  "language_info": {
   "codemirror_mode": {
    "name": "ipython",
    "version": 3
   },
   "file_extension": ".py",
   "mimetype": "text/x-python",
   "name": "python",
   "nbconvert_exporter": "python",
   "pygments_lexer": "ipython3",
   "version": "3.8.5"
  }
 },
 "nbformat": 4,
 "nbformat_minor": 4
}
