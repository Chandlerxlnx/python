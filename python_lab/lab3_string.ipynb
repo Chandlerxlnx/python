{
 "cells": [
  {
   "cell_type": "markdown",
   "metadata": {},
   "source": [
    "# String #"
   ]
  },
  {
   "cell_type": "markdown",
   "metadata": {},
   "source": [
    "## encoding ##\n",
    "\n",
    "在Python 中，有两种常用的字符串类型：\n",
    "1. str\n",
    "  * str表示Unicode字符(ASCII或其他)\n",
    "2. byte\n",
    "  * byte表示二进制数据(包括编码的文本)\n",
    "  \n",
    " `note`: str 在内存中以Unicode表示，1个字符对应若干字节。\n",
    "   在__网络__上或__磁盘__上，需要把**str**转换成**byte(字节)**.\n",
    "### encoding protocol ##\n",
    "\n",
    "1. ASCII\n",
    "2. GBK (中文标准，2字节/中文)\n",
    "3. GB2312(中文标准，2字节/中文)\n",
    "4. UTF-8(国际通用标准，3字节/中文，1字节/英文)\n",
    "\n",
    " |str     |我 |爱 |p|y|t|h|o|n|3|\n",
    " |----------|---|---|-|-|-|-|-|-|-|\n",
    " |str index |0  |1  |2|3|4|5|6|7|8|\n",
    " |utf-8 byte|012|345|6|7|8|9|10|11|12|\n",
    "\n",
    "在python程序中可以指定编码格式。语法：\n",
    "```python\n",
    "# -*- coding: utf-8 -*-\n",
    "\n",
    "print(\"hello world\")\n",
    "```\n",
    "* python 3 代码缺省是Unicode, utf-8\n",
    " \n"
   ]
  },
  {
   "cell_type": "code",
   "execution_count": 47,
   "metadata": {},
   "outputs": [
    {
     "name": "stdout",
     "output_type": "stream",
     "text": [
      "9\n",
      "原字符串： 我爱python3\n",
      "GBK转换后： b'\\xce\\xd2\\xb0\\xaepython3'\n",
      "GBK转换后长度: 11\n",
      "原字符串： 我爱python3\n",
      "UTF-8转换后： b'\\xe6\\x88\\x91\\xe7\\x88\\xb1python3'\n",
      "UTF-8转换后长度: 13\n",
      "UTF-8汉字字符字节数:( 我 ) 3\n",
      "GBK  汉字字符字节数:( 我 ) 2\n",
      "UTF-8英文字符字节数:( p ) 1\n"
     ]
    }
   ],
   "source": [
    "#example string encoding\n",
    "verse='我爱python3'\n",
    "print(len(verse))\n",
    "\n",
    "byte=verse.encode('GBK') # 采用GBK编码转换成二进制，不处理异常\n",
    "print(\"原字符串：\",verse)\n",
    "print(\"GBK转换后：\",byte)\n",
    "print(\"GBK转换后长度:\",len(byte))\n",
    "\n",
    "byte=verse.encode() # 采用UTF-8编码转换成二进制，不处理异常,default protocol\n",
    "print(\"原字符串：\",verse)\n",
    "print(\"UTF-8转换后：\",byte)\n",
    "print(\"UTF-8转换后长度:\",len(byte))\n",
    "\n",
    "print(\"UTF-8汉字字符字节数:(\",verse[0],')',len(verse[0].encode()))\n",
    "print(\"GBK  汉字字符字节数:(\",verse[0],')',len(verse[0].encode('GBK')))\n",
    "print(\"UTF-8英文字符字节数:(\",verse[2],')',len(verse[2].encode()))\n"
   ]
  },
  {
   "cell_type": "code",
   "execution_count": 48,
   "metadata": {},
   "outputs": [
    {
     "name": "stdout",
     "output_type": "stream",
     "text": [
      "9\n",
      "解码后: 我爱python3\n",
      "length: 9\n"
     ]
    }
   ],
   "source": [
    "#example string decoding\n",
    "verse='我爱python3'\n",
    "print(len(verse))\n",
    "\n",
    "byte=verse.encode('GBK') # 采用GBK编码转换成二进制，不处理异常\n",
    "\n",
    "print(\"解码后:\",byte.decode('GBK'))\n",
    "print('length:',len(byte.decode('GBK')))"
   ]
  },
  {
   "cell_type": "markdown",
   "metadata": {},
   "source": [
    "## 截取字符 ##\n",
    "字符串也属于序列，所以可以用切片方法截取字符\n",
    "* syntax\n",
    "```python\n",
    "  string[start:end:step]\n",
    "```\n",
    "\n",
    "    - [x] string: 要截取的字符串\n",
    "    - [x] start: 要截取的第一个字符索引(包括该字符),不指定为默认值0\n",
    "    - [x] end: 要截取的最后一个字符索引(不包括该字符),不指定，则位默认字符串长度\n",
    "    - [x] step: 切片步长，默认为1"
   ]
  },
  {
   "cell_type": "code",
   "execution_count": 49,
   "metadata": {},
   "outputs": [
    {
     "name": "stdout",
     "output_type": "stream",
     "text": [
      "生\n",
      "我用python\n",
      "人生苦短，\n",
      "苦短，\n",
      "生短我pto\n"
     ]
    }
   ],
   "source": [
    "# example of str slicing\n",
    "\n",
    "str1='人生苦短，我用python'\n",
    "print(str1[1])\n",
    "print(str1[5:])\n",
    "print(str1[:5])\n",
    "print(str1[2:5])\n",
    "print(str1[1::2])"
   ]
  },
  {
   "cell_type": "markdown",
   "metadata": {},
   "source": [
    "## 查找位置 ##\n",
    "find()\n",
    "rfind() ： 右查找\n",
    "\n",
    "index()\n",
    "rindex()：右查找\n",
    "\n",
    "> prefer index()/rindex(), 运算效率更高。"
   ]
  },
  {
   "cell_type": "code",
   "execution_count": 2,
   "metadata": {},
   "outputs": [
    {
     "name": "stdout",
     "output_type": "stream",
     "text": [
      "hello \\teacher\n",
      "c:\\users\\administrator\\ \n"
     ]
    }
   ],
   "source": [
    "print(r'hello \\teacher')\n",
    "print(r'c:\\users\\administrator\\ ')\n",
    "      \n"
   ]
  },
  {
   "cell_type": "code",
   "execution_count": 84,
   "metadata": {},
   "outputs": [
    {
     "name": "stdout",
     "output_type": "stream",
     "text": [
      "2\n",
      "7\n",
      "2\n",
      "7\n",
      "-1\n",
      "-1\n",
      "cda is not found in abcdefccgh\n",
      "cda is not found by rindex in abcdefccgh\n"
     ]
    }
   ],
   "source": [
    "str1='abcdefccgh'\n",
    "str2='c'\n",
    "print(str1.find(str2))\n",
    "print(str1.rfind(str2))\n",
    "print(str1.index(str2))\n",
    "print(str1.rindex(str2))\n",
    "\n",
    "str2='cda'\n",
    "print(str1.find(str2))\n",
    "print(str1.rfind(str2))\n",
    "\n",
    "try:\n",
    "    print(str1.index(str2))\n",
    "except:\n",
    "    print(\"%s is not found in %s\"%(str2,str1))\n",
    "\n",
    "# need process exception\n",
    "#print(str1.rindex(str2))\n",
    "try:\n",
    "    print(str1.rindex(str2))\n",
    "except:\n",
    "    print(\"%s is not found by rindex in %s\"%(str2,str1))\n"
   ]
  },
  {
   "cell_type": "markdown",
   "metadata": {},
   "source": [
    "## format ##\n",
    "\n",
    "### 使用 % ###\n",
    "* Syntax\n",
    "  + '%\\[-\\]\\[+\\]\\[0\\]\\[m\\]\\[.n\\]format'**%**exp\n",
    "  \n",
    "  \n",
    "   - [x] __-__:可选参数，指定左对齐，正数前方无符号，负数前方加负号\n",
    "   - [x] __+__:可选参数，指定右对齐，正数前方加正号，负数前方加负号\n",
    "   - [x] __0__:可选参数，指定右对齐，正数前方无正号，负数前方加负号，用0填空白(一般与m参数一起用)\n",
    "   - [x] __m__:可选参数，指定占用宽度\n",
    "   - [x] __+__:可选参数，指定小数点后保留位数\n",
    "   - [x] __format__:指定类型\n",
    " \n",
    " 常用格式化字符(format)\n",
    " |格式化字符|说明          |\n",
    " |:---------|:-----------------|\n",
    " |%s     |字符串(采用str()显示)|\n",
    " |%c     |单个字符 char    |\n",
    " |%d , %i  | 十进制整数     |\n",
    " |%x     | 十六进制整数    |\n",
    " |%r     |字符串(采用repr()显示)|\n",
    " |%o     | 八进制整数     |\n",
    " |%e     | 指数(基底为e)    |\n",
    " |%E     | 指数(基底为E)    |\n",
    " |%%     | 字符%         |\n",
    " \n",
    " >note: 在x,o前面加#，显示为0x，0O\n",
    " \n",
    " ### 使用字符串对象的format()方法 ###\n",
    " * syntax\n",
    "   str.format(args)\n",
    "   - str: 指定字符串的显示样式(模板)\n",
    "   - agrs: 指定要转换的项，多项用','分割\n",
    "   \n",
    "   模板语法(formatting syntax)\n",
    "   ```\n",
    "   {[index][:[[fill]align][sign][#][width][.precision][type]]}\n",
    "   ```\n",
    "     + [x] **index**: optional, 指定设置格式的对象在参数列表中的索引位置，从0 开始，默认按值先后顺序自动分配。\n",
    "     + [x] **fill**: optional,指定空白处填充的字符\n",
    "     + [x] **align**: optional,对齐方式\n",
    "         - < : 左对齐\n",
    "         - \\> : 右对齐\n",
    "         - = ：右对齐，符号放在填充内容的最左侧\n",
    "         - ^ : 居中对齐，与width 一起用\n",
    "     + [x] **sign**: optional, 用于指定有符号数\n",
    "     + [x] **#**: optional,对二/八/十六进制数，加'#'会显示0b/0o/0x前缀\n",
    "     + [x] **width**: optional,指定占据宽度\n",
    "     + [x] **.precision**: optional,指定小数位数\n",
    "     + [x] **type**: optional,指定类型\n",
    " 常用格式化字符(format)\n",
    " |格式化字符|说明          |\n",
    " |:---------|:-----------------|\n",
    " |s     |字符串(采用str()显示)|\n",
    " |c     |单个字符 char    |\n",
    " |d     | 十进制整数     |\n",
    " |x     | 十六进制整数    |\n",
    " |b     | 二进制整数    |\n",
    " |o     | 八进制整数     |\n",
    " |e，E   | 指数(基底为e或E)    |\n",
    " |f,F   | 浮点型    |\n",
    " |g,G   |自动在e,f或E，F之间切换|\n",
    " |%     | 显示百分比(默认小数点后6位)         |\n",
    " \n",
    " > NOTE: dangerous！  当用g/G并指定精度时，精度变成了输出数值的总位数。！见下例"
   ]
  },
  {
   "cell_type": "code",
   "execution_count": 77,
   "metadata": {},
   "outputs": [
    {
     "name": "stdout",
     "output_type": "stream",
     "text": [
      "test multi args string ss=test, a=0xf, (0o17),(15)\n",
      "float value 2.143     \n",
      "指数 value -2.143e-02\n",
      "ss format:********test********\n",
      "ss format:\n",
      "xxxxxxxxtestxxxxxxxx\n",
      "*************+2.1429\n",
      "ss format:\n",
      "xxxxxxxxtestxxxxxxxx\n",
      "*********+2.1429E+00\n",
      "+++G format test++++\n",
      "***************2.143\n",
      "2.143E+04***********\n",
      "*************2.14286\n",
      "*************21428.6\n"
     ]
    }
   ],
   "source": [
    "a = 15\n",
    "ss ='test'\n",
    "\n",
    "str1='test multi args string ss=%s, a=%#x, (%#o),(%#i)'%(ss,a,a,a)\n",
    "print(str1)\n",
    "print('float value %-010.3F'%(a/7))\n",
    "print('指数 value %-010.3e'%(a/-700))\n",
    "\n",
    "print('ss format:{0:*^20s}'.format(ss))\n",
    "print('ss format:\\n{0:x^20s}\\n{1:*>+20.4F}'.format(ss,a/7))\n",
    "print('ss format:\\n{0:x^20s}\\n{1:*>+20.4E}'.format(ss,a/7))\n",
    "\n",
    "# 当用g/G并指定精度时，精度变成了输出数值的总位数。！！！！\n",
    "print('{0:+^20s}'.format('G format test'))\n",
    "\n",
    "print('{0:*=20.4G}'.format(a/7))\n",
    "print('{0:*<-20.4G}'.format((a/7)*10000))\n",
    "print('{0:*>20G}'.format(a/7))\n",
    "print('{0:*>20G}'.format((a/7)*10000))\n"
   ]
  },
  {
   "cell_type": "markdown",
   "metadata": {},
   "source": [
    "## 字符串分割 ##\n",
    "* split()\n",
    "* rsplit()\n",
    "* partition()\n",
    "* rpartition()"
   ]
  },
  {
   "cell_type": "markdown",
   "metadata": {},
   "source": [
    "## 字符串拼接 ##\n",
    "str1 + str2"
   ]
  },
  {
   "cell_type": "code",
   "execution_count": 80,
   "metadata": {},
   "outputs": [
    {
     "name": "stdout",
     "output_type": "stream",
     "text": [
      "hello,dummy!\n"
     ]
    }
   ],
   "source": [
    "str1='hello,'\n",
    "str2='dummy!'\n",
    "print(str1+str2)"
   ]
  },
  {
   "cell_type": "markdown",
   "metadata": {},
   "source": [
    "## 连接 ##\n",
    "'\\<join char\\>'.join(\\<stringlist\\>)"
   ]
  },
  {
   "cell_type": "code",
   "execution_count": 11,
   "metadata": {},
   "outputs": [
    {
     "name": "stdout",
     "output_type": "stream",
     "text": [
      "20-1-6\n",
      "[21, 1, 16]\n",
      "['21', '1', '16']\n",
      "21/1/16\n"
     ]
    }
   ],
   "source": [
    "ll =[20, 1, 6]\n",
    "ss = map(str,ll)\n",
    "ss = '-'.join(ss)\n",
    "print('covertated to string list:',ss)\n",
    "\n",
    "date = '21-1-16'\n",
    "\n",
    "year,mon,day=date.split('-')\n",
    "listdate = date.split('-')\n",
    "print(list(map(int,listdate)))\n",
    "print(listdate)\n",
    "print('/'.join(listdate))\n"
   ]
  },
  {
   "cell_type": "markdown",
   "metadata": {},
   "source": [
    "## startswith(),endswith()\n"
   ]
  },
  {
   "cell_type": "code",
   "execution_count": 14,
   "metadata": {},
   "outputs": [
    {
     "name": "stdout",
     "output_type": "stream",
     "text": [
      "True\n",
      "False\n",
      "True\n",
      "True\n",
      "False\n"
     ]
    }
   ],
   "source": [
    "s = 'Beautiful string'\n",
    "print(s.startswith('Be'))\n",
    "print(s.startswith('Be',5))\n",
    "print(s.endswith('ing'))\n",
    "print(s.endswith('ing',5))\n",
    "print(s.endswith('ing',-2))\n"
   ]
  },
  {
   "cell_type": "markdown",
   "metadata": {},
   "source": [
    "## is* check #\n",
    "* isalnum()\n",
    "* isalpha()\n",
    "* isdigit()\n",
    "* isspace()\n",
    "* isupper()\n",
    "* islower()"
   ]
  },
  {
   "cell_type": "code",
   "execution_count": 17,
   "metadata": {},
   "outputs": [
    {
     "name": "stdout",
     "output_type": "stream",
     "text": [
      "True\n",
      "False\n",
      "False\n",
      "False\n",
      "True\n"
     ]
    }
   ],
   "source": [
    "s ='123abcd'\n",
    "\n",
    "print(s.isalnum())\n",
    "print(s.isalpha())\n",
    "print(s.isdigit())\n",
    "print(s.isupper())\n",
    "print(s.islower())\n"
   ]
  },
  {
   "cell_type": "markdown",
   "metadata": {},
   "source": [
    "## 对齐 ##\n",
    "* center()\n",
    "* ljust()\n",
    "* rjust()"
   ]
  },
  {
   "cell_type": "code",
   "execution_count": 16,
   "metadata": {},
   "outputs": [
    {
     "name": "stdout",
     "output_type": "stream",
     "text": [
      "----Hello world-----\n",
      "Hello world=========\n",
      "*********Hello world\n"
     ]
    }
   ],
   "source": [
    "s='Hello world'\n",
    "print(s.center(20,'-'))\n",
    "print(s.ljust(20,'='))\n",
    "print(s.rjust(20,'*'))\n"
   ]
  },
  {
   "cell_type": "markdown",
   "metadata": {},
   "source": [
    "##字符串的集合操作\n",
    "* syntax\n",
    "  s in s2"
   ]
  },
  {
   "cell_type": "code",
   "execution_count": 21,
   "metadata": {},
   "outputs": [
    {
     "name": "stdout",
     "output_type": "stream",
     "text": [
      "True\n",
      "False\n"
     ]
    }
   ],
   "source": [
    "s='Hello world'\n",
    "print(('H' in s))\n",
    "print(('He' not in s))"
   ]
  },
  {
   "cell_type": "markdown",
   "metadata": {},
   "source": [
    "## example check illegal containts ##"
   ]
  },
  {
   "cell_type": "code",
   "execution_count": 30,
   "metadata": {},
   "outputs": [
    {
     "name": "stdout",
     "output_type": "stream",
     "text": [
      "请输入检查内容：这句话里有非法内容\n",
      "这句话里有**内容\n"
     ]
    }
   ],
   "source": [
    "words = ('测试',\n",
    "         '非法',\n",
    "         '暴力')\n",
    "text ='这句话里有非法内容'\n",
    "text = input('请输入检查内容：')\n",
    "for word in words:\n",
    "    if word in text:\n",
    "        print('非法')\n",
    "        break\n",
    "else: # else of for loop\n",
    "    print('正常')\n",
    "    "
   ]
  },
  {
   "cell_type": "markdown",
   "metadata": {},
   "source": [
    "## replace"
   ]
  },
  {
   "cell_type": "code",
   "execution_count": 32,
   "metadata": {},
   "outputs": [
    {
     "name": "stdout",
     "output_type": "stream",
     "text": [
      "请输入检查内容：这句话里有非法内容，黄色的瓜很暴力\n",
      "这句话里有**内容，黄色的瓜很**\n"
     ]
    }
   ],
   "source": [
    "words = ('测试',\n",
    "         '非法',\n",
    "         '暴力',\n",
    "        '黄瓜')\n",
    "text ='这句话里有非法内容'\n",
    "\n",
    "text = input('请输入检查内容：')\n",
    "\n",
    "for word in words:\n",
    "    if word in text:\n",
    "        text=text.replace(word,'**')\n",
    "        #break\n",
    "\n",
    "print(text)"
   ]
  },
  {
   "cell_type": "code",
   "execution_count": null,
   "metadata": {},
   "outputs": [],
   "source": [
    "x='hello world'\n",
    "\n",
    "sorted(x)\n",
    "list(reversed(x))\n",
    "#eval 把任意字符串转成python表达式计算\n",
    "eval('3+4')"
   ]
  },
  {
   "cell_type": "code",
   "execution_count": 33,
   "metadata": {},
   "outputs": [],
   "source": [
    "## 中英文分词"
   ]
  },
  {
   "cell_type": "code",
   "execution_count": 34,
   "metadata": {},
   "outputs": [
    {
     "ename": "ModuleNotFoundError",
     "evalue": "No module named 'jieba'",
     "output_type": "error",
     "traceback": [
      "\u001b[1;31m---------------------------------------------------------------------------\u001b[0m",
      "\u001b[1;31mModuleNotFoundError\u001b[0m                       Traceback (most recent call last)",
      "\u001b[1;32m<ipython-input-34-328609283dae>\u001b[0m in \u001b[0;36m<module>\u001b[1;34m\u001b[0m\n\u001b[0;32m      1\u001b[0m \u001b[1;31m#中英文分词\u001b[0m\u001b[1;33m\u001b[0m\u001b[1;33m\u001b[0m\u001b[1;33m\u001b[0m\u001b[0m\n\u001b[0;32m      2\u001b[0m \u001b[1;33m\u001b[0m\u001b[0m\n\u001b[1;32m----> 3\u001b[1;33m \u001b[1;32mimport\u001b[0m \u001b[0mjieba\u001b[0m\u001b[1;33m\u001b[0m\u001b[1;33m\u001b[0m\u001b[0m\n\u001b[0m\u001b[0;32m      4\u001b[0m \u001b[0mx\u001b[0m\u001b[1;33m=\u001b[0m\u001b[1;34m'分词的准确度直接影响后续文本处理精度'\u001b[0m\u001b[1;33m\u001b[0m\u001b[1;33m\u001b[0m\u001b[0m\n",
      "\u001b[1;31mModuleNotFoundError\u001b[0m: No module named 'jieba'"
     ]
    }
   ],
   "source": [
    "#中英文分词\n",
    "\n",
    "import jieba\n",
    "x='分词的准确度直接影响后续文本处理精度'\n",
    "\n",
    "jieba.x.cut()\n"
   ]
  },
  {
   "cell_type": "code",
   "execution_count": null,
   "metadata": {},
   "outputs": [],
   "source": [
    "# example\n",
    "\n",
    "from collections import Counter\n",
    "from jieba import cut\n",
    "\n",
    "def feq(text):\n",
    "    return Counter(cut(text))\n",
    "\n",
    "x = '''\n",
    " 八百标兵奔北坡，北坡八百炮兵炮。\n",
    " 标兵怕碰炮兵炮，炮兵怕把标兵碰\n",
    " '''\n",
    "\n",
    "print(freq(x))"
   ]
  },
  {
   "cell_type": "markdown",
   "metadata": {},
   "source": [
    "## 加密解密 ##\n",
    "crypt()"
   ]
  },
  {
   "cell_type": "markdown",
   "metadata": {},
   "source": [
    "## string的集合\n",
    "* string.digits\n",
    "* string.ascii_lowercase\n",
    "* string.ascii_uppercase"
   ]
  },
  {
   "cell_type": "code",
   "execution_count": null,
   "metadata": {},
   "outputs": [],
   "source": [
    "# example password weakness check\n"
   ]
  }
 ],
 "metadata": {
  "kernelspec": {
   "display_name": "Python 3",
   "language": "python",
   "name": "python3"
  },
  "language_info": {
   "codemirror_mode": {
    "name": "ipython",
    "version": 3
   },
   "file_extension": ".py",
   "mimetype": "text/x-python",
   "name": "python",
   "nbconvert_exporter": "python",
   "pygments_lexer": "ipython3",
   "version": "3.8.5"
  }
 },
 "nbformat": 4,
 "nbformat_minor": 4
}
