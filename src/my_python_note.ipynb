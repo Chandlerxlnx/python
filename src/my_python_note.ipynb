{
 "cells": [
  {
   "cell_type": "markdown",
   "metadata": {},
   "source": [
    "# my python note#\n",
    "this is my python exercises."
   ]
  },
  {
   "cell_type": "code",
   "execution_count": 1,
   "metadata": {
    "scrolled": false
   },
   "outputs": [
    {
     "name": "stdout",
     "output_type": "stream",
     "text": [
      "1\n",
      "2\n",
      "3\n",
      "4\n",
      "5\n",
      "6\n",
      "7\n",
      "8\n",
      "9\n",
      "range(1, 10) 9\n"
     ]
    }
   ],
   "source": [
    "\n",
    "a = range(1,10,1)\n",
    "for aa in a:\n",
    "    print(aa)\n",
    "print(a,len(a))"
   ]
  },
  {
   "cell_type": "code",
   "execution_count": 2,
   "metadata": {},
   "outputs": [
    {
     "name": "stdout",
     "output_type": "stream",
     "text": [
      "range(1, 10)\n"
     ]
    }
   ],
   "source": [
    "a = range(1,10,1)\n",
    "b = range(31,40)\n",
    "type(a)\n",
    "c = a \n",
    "#d = a * b\n",
    "print (c)\n",
    "#print(d)"
   ]
  },
  {
   "cell_type": "code",
   "execution_count": 7,
   "metadata": {},
   "outputs": [
    {
     "ename": "SyntaxError",
     "evalue": "invalid syntax (<ipython-input-7-e2337609d3de>, line 7)",
     "traceback": [
      "\u001b[1;36m  File \u001b[1;32m\"<ipython-input-7-e2337609d3de>\"\u001b[1;36m, line \u001b[1;32m7\u001b[0m\n\u001b[1;33m    d = b .* 2\u001b[0m\n\u001b[1;37m           ^\u001b[0m\n\u001b[1;31mSyntaxError\u001b[0m\u001b[1;31m:\u001b[0m invalid syntax\n"
     ],
     "output_type": "error"
    }
   ],
   "source": [
    "#list operation\n",
    "a = [1,2,3,4]\n",
    "b = [4,5,6,7]\n",
    "try:\n",
    "    #c= a - b # unsupported operand type for -: \"list\"\n",
    "    d = b * 2\n",
    "except Exception as e:\n",
    "    print(e)\n",
    "print(d)"
   ]
  },
  {
   "cell_type": "code",
   "execution_count": 4,
   "metadata": {},
   "outputs": [
    {
     "name": "stdout",
     "output_type": "stream",
     "text": [
      "(1, 2, 3, 4, 1, 2, 3, 4)\n"
     ]
    }
   ],
   "source": [
    "#tuple operation\n",
    "a = (1,2,3,4)\n",
    "try:\n",
    "    #b = a/2\n",
    "    c = a * 2\n",
    "except Exception as e:\n",
    "    print (e)\n",
    "print(c)"
   ]
  },
  {
   "cell_type": "markdown",
   "metadata": {},
   "source": [
    "# array operating"
   ]
  },
  {
   "cell_type": "code",
   "execution_count": 23,
   "metadata": {},
   "outputs": [
    {
     "name": "stdout",
     "output_type": "stream",
     "text": [
      "[1 2 3 4] [0 1 2 3]\n",
      "[1 3 5 7]\n",
      "[ 0  2  6 12]\n",
      "e*f=[[1 2]\n",
      " [0 8]]\n",
      "===array_dot==\n",
      "[[ 1  5]\n",
      " [ 3 11]]\n"
     ]
    }
   ],
   "source": [
    "#array\n",
    "from numpy import *\n",
    "a=array([1,2,3,4])\n",
    "b=arange(4)\n",
    "print(a,b)\n",
    "c=a+b\n",
    "print(c)\n",
    "d= a * b\n",
    "print(d)\n",
    "e=array([[1,2],[3,4]])\n",
    "f=array([[1,1],[0,2]])\n",
    "h=e*f\n",
    "array_dot = dot(e,f)\n",
    "print(\"e*f={}\".format(h))\n",
    "print (\"===array_dot==\")\n",
    "print(array_dot)"
   ]
  },
  {
   "cell_type": "code",
   "execution_count": null,
   "metadata": {},
   "outputs": [],
   "source": []
  }
 ],
 "metadata": {
  "kernelspec": {
   "display_name": "Python 3",
   "language": "python",
   "name": "python3"
  },
  "language_info": {
   "codemirror_mode": {
    "name": "ipython",
    "version": 3
   },
   "file_extension": ".py",
   "mimetype": "text/x-python",
   "name": "python",
   "nbconvert_exporter": "python",
   "pygments_lexer": "ipython3",
   "version": "3.7.0"
  }
 },
 "nbformat": 4,
 "nbformat_minor": 1
}
