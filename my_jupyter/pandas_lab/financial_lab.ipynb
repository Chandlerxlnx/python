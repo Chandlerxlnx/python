{
 "metadata": {
  "language_info": {
   "codemirror_mode": {
    "name": "ipython",
    "version": 3
   },
   "file_extension": ".py",
   "mimetype": "text/x-python",
   "name": "python",
   "nbconvert_exporter": "python",
   "pygments_lexer": "ipython3",
   "version": "3.7.3-final"
  },
  "orig_nbformat": 2,
  "kernelspec": {
   "name": "python3",
   "display_name": "Python 3"
  }
 },
 "nbformat": 4,
 "nbformat_minor": 2,
 "cells": [
  {
   "source": [
    "# Finantial Analysis with Pandas and Series"
   ],
   "cell_type": "markdown",
   "metadata": {}
  },
  {
   "source": [
    "## yahoo web IO\n",
    "yahoo finance: module yfinance.\n",
    "* install yfinance\n",
    "  - pip install yfinance --upgrade --no-cache-dir\n",
    "\n",
    "pandas_datareader: submodule of pandas. \n",
    "* install pandas_datareader\n",
    "  - pip install pandas_datareader"
   ],
   "cell_type": "markdown",
   "metadata": {}
  },
  {
   "cell_type": "code",
   "execution_count": 2,
   "metadata": {},
   "outputs": [
    {
     "output_type": "execute_result",
     "data": {
      "text/plain": "Date\n2020-09-29    114.089996\n2020-09-30    115.809998\n2020-10-01    116.790001\n2020-10-02    113.019997\n2020-10-05    116.500000\nName: Adj Close, dtype: float64"
     },
     "metadata": {},
     "execution_count": 2
    }
   ],
   "source": [
    "import pandas as pd \n",
    "#import pandas.io.data as web\n",
    "import yfinance as yf\n",
    "import pandas_datareader.data as web\n",
    "price = web.get_data_yahoo('AAPL','2011-01-01')['Adj Close']\n",
    "\n",
    "price[-5:]"
   ]
  },
  {
   "source": [
    "计算2个时间点之间的累计百分比回报"
   ],
   "cell_type": "markdown",
   "metadata": {}
  },
  {
   "cell_type": "code",
   "execution_count": 3,
   "metadata": {},
   "outputs": [
    {
     "output_type": "execute_result",
     "data": {
      "text/plain": "0.07239964628813089"
     },
     "metadata": {},
     "execution_count": 3
    }
   ],
   "source": [
    "price['2011-10-03']/price['2011-3-01'] -1"
   ]
  },
  {
   "cell_type": "code",
   "execution_count": 7,
   "metadata": {},
   "outputs": [
    {
     "output_type": "execute_result",
     "data": {
      "text/plain": "Date\n2010-12-31     1.000000\n2011-01-03     1.021732\n2011-01-04     1.027065\n2011-01-05     1.035467\n2011-01-06     1.034629\n2011-01-07     1.042039\n2011-01-10     1.061663\n2011-01-11     1.059152\n2011-01-12     1.067770\n2011-01-13     1.071677\n2011-01-14     1.080357\n2011-01-18     1.056083\n2011-01-19     1.050471\n2011-01-20     1.031374\n2011-01-21     1.012897\n2011-01-24     1.046162\n2011-01-25     1.058408\n2011-01-26     1.066003\n2011-01-27     1.064019\n2011-01-28     1.041977\n2011-01-31     1.051960\n2011-02-01     1.069662\n2011-02-02     1.067460\n2011-02-03     1.064733\n2011-02-04     1.074219\n2011-02-07     1.090898\n2011-02-08     1.101191\n2011-02-09     1.110367\n2011-02-10     1.099144\n2011-02-11     1.106306\n                ...    \n2020-08-24    12.642791\n2020-08-25    12.539073\n2020-08-26    12.709592\n2020-08-27    12.557657\n2020-08-28    12.537315\n2020-08-31    12.962483\n2020-09-01    13.478812\n2020-09-02    13.199552\n2020-09-03    12.142785\n2020-09-04    12.150821\n2020-09-08    11.333132\n2020-09-09    11.785172\n2020-09-10    11.400436\n2020-09-11    11.250760\n2020-09-14    11.588283\n2020-09-15    11.606365\n2020-09-16    11.263819\n2020-09-17    11.084008\n2020-09-18    10.732422\n2020-09-21    11.057890\n2020-09-22    11.231674\n2020-09-23    10.760549\n2020-09-24    10.871047\n2020-09-25    11.278887\n2020-09-28    11.548102\n2020-09-29    11.460707\n2020-09-30    11.633487\n2020-10-01    11.731931\n2020-10-02    11.353222\n2020-10-05    11.702800\nName: Adj Close, Length: 2457, dtype: float64"
     },
     "metadata": {},
     "execution_count": 7
    }
   ],
   "source": [
    "returns = price.pct_change()\n",
    "returns\n",
    "ret_index = (1 +returns).cumprod()\n",
    "ret_index[0]=1\n",
    "ret_index"
   ]
  },
  {
   "source": [
    "利用收益指数，计算指定时期内的累计收益\n",
    "按月计算收益。"
   ],
   "cell_type": "code",
   "metadata": {},
   "execution_count": null,
   "outputs": []
  },
  {
   "cell_type": "code",
   "execution_count": 8,
   "metadata": {},
   "outputs": [
    {
     "output_type": "execute_result",
     "data": {
      "text/plain": "Date\n2012-01-31    0.127111\n2012-02-29    0.188310\n2012-03-30    0.105283\n2012-04-30   -0.025970\n2012-05-31   -0.010702\n2012-06-29    0.010853\n2012-07-31    0.045822\n2012-08-31    0.093876\n2012-09-28    0.002796\n2012-10-31   -0.107600\n2012-11-30   -0.012374\n2012-12-31   -0.090743\nFreq: BM, Name: Adj Close, dtype: float64"
     },
     "metadata": {},
     "execution_count": 8
    }
   ],
   "source": [
    "m_returns = ret_index.resample('BM',how='last').pct_change()\n",
    "m_returns['2012']"
   ]
  },
  {
   "source": [
    "## 通过重采样聚合，从日百分比变化中得到月收益，结果同上"
   ],
   "cell_type": "markdown",
   "metadata": {}
  },
  {
   "cell_type": "code",
   "execution_count": 10,
   "metadata": {},
   "outputs": [
    {
     "output_type": "execute_result",
     "data": {
      "text/plain": "Date\n2012-01    0.127111\n2012-02    0.188310\n2012-03    0.105283\n2012-04   -0.025970\n2012-05   -0.010702\n2012-06    0.010853\n2012-07    0.045822\n2012-08    0.093876\n2012-09    0.002796\n2012-10   -0.107600\n2012-11   -0.012374\n2012-12   -0.090743\nFreq: M, Name: Adj Close, dtype: float64"
     },
     "metadata": {},
     "execution_count": 10
    }
   ],
   "source": [
    "m_rets = (1 + returns).resample('M',how='prod',kind='period')-1\n",
    "m_rets['2012']"
   ]
  },
  {
   "source": [
    "## 如果知道股息派发日和支付率，就可以它们计入每日总收益。如下:\n",
    "```python\n",
    "returns[dividend_dates] += dividend_pcts\n",
    "```"
   ],
   "cell_type": "code",
   "metadata": {},
   "execution_count": null,
   "outputs": []
  },
  {
   "source": [
    "# 分组变换和分析\n",
    "\n",
    "下面一组假想得股票投资组合为例。首先随机生成1000个股票代码："
   ],
   "cell_type": "markdown",
   "metadata": {}
  },
  {
   "cell_type": "code",
   "execution_count": 19,
   "metadata": {},
   "outputs": [
    {
     "output_type": "execute_result",
     "data": {
      "text/plain": "array([&#39;MYNBI&#39;, &#39;QPMZJ&#39;, &#39;PLSGQ&#39;, &#39;EJEYD&#39;, &#39;TZIRW&#39;, &#39;ZTEJD&#39;, &#39;XCVKP&#39;,\n       &#39;RDLNK&#39;, &#39;TUGRP&#39;, &#39;OQIBZ&#39;, &#39;RACXM&#39;, &#39;WZVUA&#39;, &#39;TPKHX&#39;, &#39;KWCGS&#39;,\n       &#39;HHZEZ&#39;, &#39;ROCCK&#39;, &#39;QPDJR&#39;, &#39;JWDRK&#39;, &#39;RGZTR&#39;, &#39;SJOCT&#39;, &#39;ZMKSH&#39;,\n       &#39;JFGFB&#39;, &#39;TVIPC&#39;, &#39;CVYEE&#39;, &#39;BCWRV&#39;, &#39;MWQIQ&#39;, &#39;ZHGVS&#39;, &#39;NSIOP&#39;,\n       &#39;VUWZL&#39;, &#39;CKTDP&#39;, &#39;SUKGH&#39;, &#39;AXIDW&#39;, &#39;HLZFK&#39;, &#39;NBDZE&#39;, &#39;WHBSU&#39;,\n       &#39;RTVCA&#39;, &#39;DUGTS&#39;, &#39;DMCLD&#39;, &#39;BTAGF&#39;, &#39;WDPGX&#39;, &#39;ZBVAR&#39;, &#39;NTDIC&#39;,\n       &#39;HCUJL&#39;, &#39;NFBQO&#39;, &#39;BTDWM&#39;, &#39;GILXP&#39;, &#39;SFWVG&#39;, &#39;YBZVF&#39;, &#39;FKQID&#39;,\n       &#39;TOVFA&#39;, &#39;PVNSQ&#39;, &#39;JULMV&#39;, &#39;IERWA&#39;, &#39;OXCKX&#39;, &#39;BRIEH&#39;, &#39;YPLTJ&#39;,\n       &#39;VLSUT&#39;, &#39;EWJMX&#39;, &#39;NUCAT&#39;, &#39;GWKFH&#39;, &#39;HUOMW&#39;, &#39;VSNBM&#39;, &#39;WSNYV&#39;,\n       &#39;WBFOC&#39;, &#39;IWFOQ&#39;, &#39;PRTYA&#39;, &#39;BPKJO&#39;, &#39;BZZNG&#39;, &#39;RUCXE&#39;, &#39;AMVNK&#39;,\n       &#39;AGAWY&#39;, &#39;AVQTD&#39;, &#39;GDTUG&#39;, &#39;JIWFD&#39;, &#39;PMUCA&#39;, &#39;IOZZD&#39;, &#39;IEUQU&#39;,\n       &#39;ULDEI&#39;, &#39;ABBGV&#39;, &#39;IRKLS&#39;, &#39;BXWTU&#39;, &#39;PWUOU&#39;, &#39;NLRFG&#39;, &#39;MSJAE&#39;,\n       &#39;EIKKZ&#39;, &#39;LWCKY&#39;, &#39;TBBIF&#39;, &#39;ESJLM&#39;, &#39;REJDP&#39;, &#39;XHBJF&#39;, &#39;QXCJM&#39;,\n       &#39;KJNDD&#39;, &#39;RPPKZ&#39;, &#39;ZKDPD&#39;, &#39;WPNBJ&#39;, &#39;KXVEF&#39;, &#39;USMZU&#39;, &#39;CCZCG&#39;,\n       &#39;XHBMA&#39;, &#39;DMRQJ&#39;, &#39;OPZSW&#39;, &#39;VGNCL&#39;, &#39;HISYF&#39;, &#39;NGLDC&#39;, &#39;WAQOY&#39;,\n       &#39;VGDPM&#39;, &#39;IGUBZ&#39;, &#39;GTEDG&#39;, &#39;OMLRE&#39;, &#39;DTPES&#39;, &#39;MUVNQ&#39;, &#39;PVKPP&#39;,\n       &#39;UVGRT&#39;, &#39;HAKWX&#39;, &#39;KKBQE&#39;, &#39;ITZEM&#39;, &#39;SJWWZ&#39;, &#39;PCZCQ&#39;, &#39;BCHEB&#39;,\n       &#39;JAYOK&#39;, &#39;FZEUO&#39;, &#39;LQMQQ&#39;, &#39;BSCVZ&#39;, &#39;ZQYTC&#39;, &#39;XNYGJ&#39;, &#39;RTNPZ&#39;,\n       &#39;MTSHZ&#39;, &#39;AVAXF&#39;, &#39;JQSIK&#39;, &#39;CPIJY&#39;, &#39;NMZMB&#39;, &#39;FUEHJ&#39;, &#39;XKBBP&#39;,\n       &#39;NEPTW&#39;, &#39;CVWEZ&#39;, &#39;LNBTO&#39;, &#39;MOBDP&#39;, &#39;YEABT&#39;, &#39;TEUKD&#39;, &#39;WRULG&#39;,\n       &#39;MZYYP&#39;, &#39;DBTWO&#39;, &#39;TUKUD&#39;, &#39;VWTJZ&#39;, &#39;EMZJX&#39;, &#39;VZDQZ&#39;, &#39;GBZMO&#39;,\n       &#39;LYGOL&#39;, &#39;ZUCBB&#39;, &#39;PIAQV&#39;, &#39;SSGHC&#39;, &#39;YUYQW&#39;, &#39;QNQJD&#39;, &#39;ENSNC&#39;,\n       &#39;DNCDN&#39;, &#39;YEXAZ&#39;, &#39;ONVNA&#39;, &#39;PKXIC&#39;, &#39;LCDLW&#39;, &#39;ALLFA&#39;, &#39;HLCTE&#39;,\n       &#39;GAGVV&#39;, &#39;XDXAJ&#39;, &#39;LWATH&#39;, &#39;EFODP&#39;, &#39;LWIEA&#39;, &#39;GLKPJ&#39;, &#39;JRUKF&#39;,\n       &#39;SCDRS&#39;, &#39;JFMEE&#39;, &#39;ZHKQH&#39;, &#39;HYFJL&#39;, &#39;NVBET&#39;, &#39;AMCWC&#39;, &#39;ENJRN&#39;,\n       &#39;XESNJ&#39;, &#39;ULCHO&#39;, &#39;ULUQB&#39;, &#39;MNANX&#39;, &#39;KOGLJ&#39;, &#39;PCFZD&#39;, &#39;IDRTW&#39;,\n       &#39;EZWOM&#39;, &#39;FYNNF&#39;, &#39;HOKQE&#39;, &#39;LOUUC&#39;, &#39;PYGJA&#39;, &#39;WOTOA&#39;, &#39;GJDYU&#39;,\n       &#39;JRTEN&#39;, &#39;WYPCV&#39;, &#39;PYHRY&#39;, &#39;MIUAD&#39;, &#39;IVBAI&#39;, &#39;MQSWM&#39;, &#39;ODXIL&#39;,\n       &#39;JYVGT&#39;, &#39;CBCZI&#39;, &#39;JRKDQ&#39;, &#39;HYFCN&#39;, &#39;JJQES&#39;, &#39;QUGRD&#39;, &#39;NURMX&#39;,\n       &#39;YZIJO&#39;, &#39;LSUEF&#39;, &#39;DWDMM&#39;, &#39;SOERV&#39;, &#39;JLUPX&#39;, &#39;NGPPW&#39;, &#39;QKPUB&#39;,\n       &#39;OJEXP&#39;, &#39;BTGAL&#39;, &#39;PMAQC&#39;, &#39;VCVXV&#39;, &#39;MALBD&#39;, &#39;TAIUW&#39;, &#39;JXHEY&#39;,\n       &#39;SJGDN&#39;, &#39;OWKMF&#39;, &#39;KNUVN&#39;, &#39;EOWEQ&#39;, &#39;KEGFO&#39;, &#39;LZMNZ&#39;, &#39;PMXHZ&#39;,\n       &#39;GOGSW&#39;, &#39;BMBHU&#39;, &#39;CFLBX&#39;, &#39;UVFHT&#39;, &#39;JTCWQ&#39;, &#39;YJYLN&#39;, &#39;OBUWQ&#39;,\n       &#39;VURXN&#39;, &#39;SOPIW&#39;, &#39;PGKIB&#39;, &#39;BBFLA&#39;, &#39;JUAEC&#39;, &#39;ZNVHT&#39;, &#39;MRHOG&#39;,\n       &#39;KTDTC&#39;, &#39;ZKKRO&#39;, &#39;KIAQB&#39;, &#39;GLCGQ&#39;, &#39;LGGIV&#39;, &#39;XXJJQ&#39;, &#39;MIPLW&#39;,\n       &#39;HBJRC&#39;, &#39;AOPXO&#39;, &#39;BZNPO&#39;, &#39;ODCCH&#39;, &#39;DYENG&#39;, &#39;OTCNR&#39;, &#39;YMBFH&#39;,\n       &#39;PHEIL&#39;, &#39;KNDRJ&#39;, &#39;TRZGW&#39;, &#39;JYOQT&#39;, &#39;ORUII&#39;, &#39;HADTZ&#39;, &#39;WDFXN&#39;,\n       &#39;HGJXV&#39;, &#39;AXRQN&#39;, &#39;BDMUI&#39;, &#39;DXSLH&#39;, &#39;VWWRV&#39;, &#39;JHXHC&#39;, &#39;QJVKH&#39;,\n       &#39;LUPJS&#39;, &#39;FEZAR&#39;, &#39;QKLSU&#39;, &#39;AZEME&#39;, &#39;FQCEY&#39;, &#39;GZYPS&#39;, &#39;YWGHX&#39;,\n       &#39;EHYML&#39;, &#39;TSEUP&#39;, &#39;DTAQT&#39;, &#39;LPOJA&#39;, &#39;HRUFV&#39;, &#39;PZXPR&#39;, &#39;KWCIE&#39;,\n       &#39;TMWGK&#39;, &#39;ZJMBG&#39;, &#39;BKXXH&#39;, &#39;KOVXV&#39;, &#39;VHILV&#39;, &#39;FJALS&#39;, &#39;RBXUE&#39;,\n       &#39;LAPUB&#39;, &#39;AHBAH&#39;, &#39;UKCBL&#39;, &#39;VNEGO&#39;, &#39;NELJF&#39;, &#39;UKXZX&#39;, &#39;NMANI&#39;,\n       &#39;RRZXV&#39;, &#39;WOYBS&#39;, &#39;DNMFA&#39;, &#39;QETVQ&#39;, &#39;XWECK&#39;, &#39;HFHAZ&#39;, &#39;FXZVR&#39;,\n       &#39;FWCNT&#39;, &#39;DTUOW&#39;, &#39;ETTBI&#39;, &#39;KZXXM&#39;, &#39;AUBPC&#39;, &#39;LJVEO&#39;, &#39;HQLFX&#39;,\n       &#39;YMKIZ&#39;, &#39;PMAJQ&#39;, &#39;JRPBY&#39;, &#39;RSRIV&#39;, &#39;BOMXD&#39;, &#39;MLPBA&#39;, &#39;IXBIV&#39;,\n       &#39;VSWYJ&#39;, &#39;VYGYQ&#39;, &#39;QKMIG&#39;, &#39;DSKZH&#39;, &#39;SVXRV&#39;, &#39;LFEKX&#39;, &#39;ASBSE&#39;,\n       &#39;LLJUJ&#39;, &#39;KPZMT&#39;, &#39;NFAZE&#39;, &#39;SBOEK&#39;, &#39;AXPVV&#39;, &#39;YIXTG&#39;, &#39;CRNIF&#39;,\n       &#39;QFCVU&#39;, &#39;FSDQU&#39;, &#39;ZRTMY&#39;, &#39;NIJJA&#39;, &#39;NYWII&#39;, &#39;RQRKK&#39;, &#39;GWZNZ&#39;,\n       &#39;EAYQE&#39;, &#39;ZVWZS&#39;, &#39;MLOBR&#39;, &#39;NUTZZ&#39;, &#39;YHALQ&#39;, &#39;FVGUL&#39;, &#39;UWPAX&#39;,\n       &#39;XHSHI&#39;, &#39;FYNCS&#39;, &#39;OHXWO&#39;, &#39;QZZWD&#39;, &#39;GFOCN&#39;, &#39;UMIIN&#39;, &#39;YYLTK&#39;,\n       &#39;CJAPA&#39;, &#39;YIGYM&#39;, &#39;MNYUU&#39;, &#39;VMWBS&#39;, &#39;OLSES&#39;, &#39;WIKAM&#39;, &#39;PQEBC&#39;,\n       &#39;SLLAC&#39;, &#39;GWDVR&#39;, &#39;PBKAK&#39;, &#39;MEYUI&#39;, &#39;NVETE&#39;, &#39;MJQBF&#39;, &#39;EEPWU&#39;,\n       &#39;WYXBX&#39;, &#39;QBRWX&#39;, &#39;WUMFL&#39;, &#39;ZSCCR&#39;, &#39;FIGZI&#39;, &#39;KWWIZ&#39;, &#39;IQOEY&#39;,\n       &#39;OREBU&#39;, &#39;SFUQB&#39;, &#39;YKCGU&#39;, &#39;ZOTHZ&#39;, &#39;OQFWK&#39;, &#39;UEPYR&#39;, &#39;BRCQK&#39;,\n       &#39;AYCDN&#39;, &#39;TLSOK&#39;, &#39;MQLUD&#39;, &#39;EKAFX&#39;, &#39;EAKTG&#39;, &#39;BNUBW&#39;, &#39;JZMBT&#39;,\n       &#39;YZWFL&#39;, &#39;CNBOL&#39;, &#39;TTYIV&#39;, &#39;JSZON&#39;, &#39;FAOZI&#39;, &#39;GMCLD&#39;, &#39;DALAF&#39;,\n       &#39;MTWUA&#39;, &#39;KOZRX&#39;, &#39;WPPCB&#39;, &#39;RMZZI&#39;, &#39;AUQDC&#39;, &#39;KLDPB&#39;, &#39;EQUZJ&#39;,\n       &#39;BAMKF&#39;, &#39;RWEFF&#39;, &#39;YFUVH&#39;, &#39;TKAPU&#39;, &#39;VMBHH&#39;, &#39;UJKFH&#39;, &#39;LHFNO&#39;,\n       &#39;LSEMS&#39;, &#39;YAFSA&#39;, &#39;VMWZF&#39;, &#39;EAAKQ&#39;, &#39;ABBYD&#39;, &#39;STEYE&#39;, &#39;VZMZA&#39;,\n       &#39;NNSVK&#39;, &#39;WHELQ&#39;, &#39;GRMCE&#39;, &#39;NSVLD&#39;, &#39;NNHPM&#39;, &#39;HMHUP&#39;, &#39;MSCII&#39;,\n       &#39;QLRAT&#39;, &#39;TYPHI&#39;, &#39;BTKZM&#39;, &#39;UDRBE&#39;, &#39;WMAYN&#39;, &#39;XMNDW&#39;, &#39;OTOFF&#39;,\n       &#39;KPNFS&#39;, &#39;JYQDL&#39;, &#39;LEULY&#39;, &#39;PUQYB&#39;, &#39;GIFXS&#39;, &#39;KJMUB&#39;, &#39;JRNBV&#39;,\n       &#39;NIMXG&#39;, &#39;LEEDT&#39;, &#39;LFANS&#39;, &#39;MOCUW&#39;, &#39;WVCYN&#39;, &#39;RXREF&#39;, &#39;EGFHA&#39;,\n       &#39;QEPLT&#39;, &#39;XJWZK&#39;, &#39;VDZNY&#39;, &#39;IFKUQ&#39;, &#39;KRWEM&#39;, &#39;XXRJH&#39;, &#39;MLMPQ&#39;,\n       &#39;JNNDV&#39;, &#39;EEAST&#39;, &#39;UWQDW&#39;, &#39;YUWGT&#39;, &#39;UTQDI&#39;, &#39;WXTFM&#39;, &#39;CZBAD&#39;,\n       &#39;LXPKD&#39;, &#39;VOLSW&#39;, &#39;IVPZY&#39;, &#39;HFRRC&#39;, &#39;YQFAU&#39;, &#39;FQNTV&#39;, &#39;GOWVM&#39;,\n       &#39;IASEM&#39;, &#39;FOSBM&#39;, &#39;ZCUSM&#39;, &#39;KHQOB&#39;, &#39;PTDIQ&#39;, &#39;PRUMP&#39;, &#39;IFHRL&#39;,\n       &#39;FJTEO&#39;, &#39;CCPMS&#39;, &#39;NRCIP&#39;, &#39;HDJEL&#39;, &#39;ZDEVB&#39;, &#39;VESRG&#39;, &#39;ABMRW&#39;,\n       &#39;YTPWW&#39;, &#39;DPRLY&#39;, &#39;KDVAH&#39;, &#39;HPJIH&#39;, &#39;APLQK&#39;, &#39;CCJSN&#39;, &#39;HXLMY&#39;,\n       &#39;EHJGX&#39;, &#39;YPVZL&#39;, &#39;JMTEY&#39;, &#39;DMLQP&#39;, &#39;HUWLU&#39;, &#39;LNILM&#39;, &#39;YYWJD&#39;,\n       &#39;PJDOE&#39;, &#39;LHXFK&#39;, &#39;PHDVM&#39;, &#39;MOQOS&#39;, &#39;THVMQ&#39;, &#39;JPHKQ&#39;, &#39;VACPK&#39;,\n       &#39;MHNBS&#39;, &#39;YBNCI&#39;, &#39;GXKFD&#39;, &#39;FZWLA&#39;, &#39;HBAMR&#39;, &#39;AEDTT&#39;, &#39;GCXOG&#39;,\n       &#39;AQTNC&#39;, &#39;RFHHN&#39;, &#39;MPZAN&#39;, &#39;GMYBT&#39;, &#39;IASLW&#39;, &#39;LKVOU&#39;, &#39;ETQCI&#39;,\n       &#39;DWDIA&#39;, &#39;WETYV&#39;, &#39;EMGSV&#39;, &#39;KGNQQ&#39;, &#39;DRDWP&#39;, &#39;DQOPF&#39;, &#39;ORKEN&#39;,\n       &#39;IMCSQ&#39;, &#39;KHOHL&#39;, &#39;PYNAO&#39;, &#39;XARMY&#39;, &#39;YOHNH&#39;, &#39;IPPEH&#39;, &#39;OJLUP&#39;,\n       &#39;TEQVC&#39;, &#39;GJQUV&#39;, &#39;DBEKB&#39;, &#39;KTZFY&#39;, &#39;OMVGN&#39;, &#39;PGFMB&#39;, &#39;ZZYKY&#39;,\n       &#39;VQGXK&#39;, &#39;FQRWT&#39;, &#39;SNEUW&#39;, &#39;TPVSG&#39;, &#39;TOBHP&#39;, &#39;TKRXG&#39;, &#39;ABBEH&#39;,\n       &#39;OVTHV&#39;, &#39;VDYQN&#39;, &#39;UUJVK&#39;, &#39;PVGFL&#39;, &#39;RLWOM&#39;, &#39;OVKOC&#39;, &#39;EHYDY&#39;,\n       &#39;EMOWR&#39;, &#39;GLWBA&#39;, &#39;MGCNS&#39;, &#39;SZNRG&#39;, &#39;UAVEQ&#39;, &#39;UPJMR&#39;, &#39;RCCTX&#39;,\n       &#39;PYAGN&#39;, &#39;TYLJC&#39;, &#39;XAYZH&#39;, &#39;TASQL&#39;, &#39;EOIDS&#39;, &#39;OIHMM&#39;, &#39;XQKHS&#39;,\n       &#39;ICBEK&#39;, &#39;USSPC&#39;, &#39;QPNKM&#39;, &#39;XADNT&#39;, &#39;VEYEA&#39;, &#39;DWNHB&#39;, &#39;UIIMD&#39;,\n       &#39;LJLTZ&#39;, &#39;UGXRR&#39;, &#39;BKQRA&#39;, &#39;FPAUI&#39;, &#39;KELDT&#39;, &#39;RNZYC&#39;, &#39;ISDQC&#39;,\n       &#39;SEPBQ&#39;, &#39;ZHLDR&#39;, &#39;WGFWV&#39;, &#39;HMGTW&#39;, &#39;XOLFI&#39;, &#39;XLRGG&#39;, &#39;OKEIR&#39;,\n       &#39;VYYAC&#39;, &#39;VKJWZ&#39;, &#39;KBCTA&#39;, &#39;JZDFW&#39;, &#39;IGQRL&#39;, &#39;OCNQR&#39;, &#39;NDCSO&#39;,\n       &#39;KFJHU&#39;, &#39;NVWJB&#39;, &#39;AAUIC&#39;, &#39;VKKRU&#39;, &#39;JBZWH&#39;, &#39;WQEIT&#39;, &#39;BZMNI&#39;,\n       &#39;SHIKZ&#39;, &#39;RPOWD&#39;, &#39;NLFQB&#39;, &#39;HWZPM&#39;, &#39;AHCJD&#39;, &#39;FEOAY&#39;, &#39;LQNDQ&#39;,\n       &#39;HPJIM&#39;, &#39;NPWBF&#39;, &#39;WQLGH&#39;, &#39;EHZJZ&#39;, &#39;EFRIR&#39;, &#39;AFHXN&#39;, &#39;WFHYR&#39;,\n       &#39;ESVFX&#39;, &#39;HQYJZ&#39;, &#39;ZWXAX&#39;, &#39;OZGBN&#39;, &#39;FMQMG&#39;, &#39;MRQPD&#39;, &#39;ECRAC&#39;,\n       &#39;AXHXM&#39;, &#39;OVINL&#39;, &#39;VMIXC&#39;, &#39;YFSHX&#39;, &#39;GBYBQ&#39;, &#39;ZCWOH&#39;, &#39;OWYYV&#39;,\n       &#39;ETUQJ&#39;, &#39;ATELV&#39;, &#39;LLJQU&#39;, &#39;WIEAP&#39;, &#39;ZXGTM&#39;, &#39;KPJOE&#39;, &#39;PJZWK&#39;,\n       &#39;LUTMM&#39;, &#39;SMWQJ&#39;, &#39;VYSHG&#39;, &#39;NGIQF&#39;, &#39;QEZTQ&#39;, &#39;YRYQU&#39;, &#39;PKINJ&#39;,\n       &#39;OUQBZ&#39;, &#39;XGIOW&#39;, &#39;CAGTD&#39;, &#39;IZAGF&#39;, &#39;TFVLT&#39;, &#39;ZIAVV&#39;, &#39;AATFJ&#39;,\n       &#39;HMPXL&#39;, &#39;LCSNZ&#39;, &#39;DWAYF&#39;, &#39;ATRIL&#39;, &#39;XGMGK&#39;, &#39;FZFPV&#39;, &#39;ETSQN&#39;,\n       &#39;SUHAB&#39;, &#39;NTBUU&#39;, &#39;UEQCN&#39;, &#39;JKUUT&#39;, &#39;GWBKE&#39;, &#39;KVXIP&#39;, &#39;PTKIU&#39;,\n       &#39;COZYF&#39;, &#39;DQIRW&#39;, &#39;MTONV&#39;, &#39;FTNYE&#39;, &#39;VVYZD&#39;, &#39;SYDFX&#39;, &#39;PJVXD&#39;,\n       &#39;VYNII&#39;, &#39;ZDULQ&#39;, &#39;RZCAB&#39;, &#39;TAYED&#39;, &#39;NMZPA&#39;, &#39;KUECW&#39;, &#39;MUSXH&#39;,\n       &#39;BGNAB&#39;, &#39;TZMER&#39;, &#39;XWJNM&#39;, &#39;RBXOR&#39;, &#39;EREUG&#39;, &#39;SFCSP&#39;, &#39;JIIGM&#39;,\n       &#39;VAUBQ&#39;, &#39;YYCAU&#39;, &#39;JEYEY&#39;, &#39;QEDKA&#39;, &#39;XKEKS&#39;, &#39;YCCLG&#39;, &#39;IOKVP&#39;,\n       &#39;PRQCC&#39;, &#39;KOMYM&#39;, &#39;RPRNQ&#39;, &#39;CHEUM&#39;, &#39;QKECE&#39;, &#39;EBMUS&#39;, &#39;DVCQI&#39;,\n       &#39;SJLVX&#39;, &#39;PMSKX&#39;, &#39;VTOQL&#39;, &#39;HYQBX&#39;, &#39;MZLKZ&#39;, &#39;QAHSC&#39;, &#39;PDLNY&#39;,\n       &#39;THRAQ&#39;, &#39;QDBSL&#39;, &#39;BLFKI&#39;, &#39;PPYNA&#39;, &#39;ZUYHU&#39;, &#39;UPXXL&#39;, &#39;VZZXF&#39;,\n       &#39;BYXPQ&#39;, &#39;VFMWJ&#39;, &#39;VSPGA&#39;, &#39;WOTTV&#39;, &#39;FTOKS&#39;, &#39;KNSYU&#39;, &#39;EQNMH&#39;,\n       &#39;LMJHG&#39;, &#39;IHRSL&#39;, &#39;OHTKT&#39;, &#39;UEKHE&#39;, &#39;YIRFR&#39;, &#39;WWTDO&#39;, &#39;PGWFT&#39;,\n       &#39;LTHWZ&#39;, &#39;CRPGJ&#39;, &#39;MIQGL&#39;, &#39;NKXAB&#39;, &#39;GGTFR&#39;, &#39;OCIQJ&#39;, &#39;WPNKV&#39;,\n       &#39;XWWMB&#39;, &#39;DBKFY&#39;, &#39;ITXRO&#39;, &#39;JRNPL&#39;, &#39;HVCXC&#39;, &#39;ZUCQA&#39;, &#39;VSQKX&#39;,\n       &#39;TDSHA&#39;, &#39;BZDXJ&#39;, &#39;CSMWE&#39;, &#39;YSTQG&#39;, &#39;IJFFS&#39;, &#39;HEEHI&#39;, &#39;PZJEX&#39;,\n       &#39;TIGCE&#39;, &#39;VNFGS&#39;, &#39;ALRVP&#39;, &#39;VEYXI&#39;, &#39;CXWTW&#39;, &#39;IZTXH&#39;, &#39;AEGXS&#39;,\n       &#39;VANEE&#39;, &#39;PRBQK&#39;, &#39;HVFOK&#39;, &#39;VOHUU&#39;, &#39;XIVWG&#39;, &#39;DLPIL&#39;, &#39;RSJGJ&#39;,\n       &#39;RMCFM&#39;, &#39;DSUDQ&#39;, &#39;EWOEN&#39;, &#39;IXRGY&#39;, &#39;ZFXCI&#39;, &#39;OKMQB&#39;, &#39;LMXXM&#39;,\n       &#39;REYWW&#39;, &#39;RSEUB&#39;, &#39;JTOQY&#39;, &#39;SNGOG&#39;, &#39;MCDRM&#39;, &#39;DQVOX&#39;, &#39;UFBGH&#39;,\n       &#39;HDTMN&#39;, &#39;CRGQG&#39;, &#39;GPCGD&#39;, &#39;QETGR&#39;, &#39;SQUTN&#39;, &#39;TMUIV&#39;, &#39;ZPUUT&#39;,\n       &#39;ZALLY&#39;, &#39;ZGWUB&#39;, &#39;GOGQV&#39;, &#39;GAEHO&#39;, &#39;PCTIU&#39;, &#39;JMKXX&#39;, &#39;VWJVC&#39;,\n       &#39;TDPLT&#39;, &#39;TUCHE&#39;, &#39;NHAPJ&#39;, &#39;EQULX&#39;, &#39;VEDQK&#39;, &#39;KVXCL&#39;, &#39;ZGGJQ&#39;,\n       &#39;WNUXX&#39;, &#39;MMBEO&#39;, &#39;CJUVE&#39;, &#39;QGTPL&#39;, &#39;ESESN&#39;, &#39;IXGDF&#39;, &#39;EORNF&#39;,\n       &#39;BJYPS&#39;, &#39;CVLUD&#39;, &#39;DPHQB&#39;, &#39;AWVZS&#39;, &#39;COIXS&#39;, &#39;IWRZM&#39;, &#39;FHUDV&#39;,\n       &#39;SXYQF&#39;, &#39;PUUHA&#39;, &#39;HEWTV&#39;, &#39;YEUEY&#39;, &#39;ZSTFC&#39;, &#39;DIDIT&#39;, &#39;OSYIS&#39;,\n       &#39;NBWCE&#39;, &#39;OBLKI&#39;, &#39;UNMAJ&#39;, &#39;UHGYC&#39;, &#39;SXEHQ&#39;, &#39;GOKAY&#39;, &#39;INSQR&#39;,\n       &#39;EWKWS&#39;, &#39;URMGJ&#39;, &#39;DOUUI&#39;, &#39;HZUIY&#39;, &#39;JCLEO&#39;, &#39;AMUOB&#39;, &#39;UYYJQ&#39;,\n       &#39;TYNOT&#39;, &#39;SXQGF&#39;, &#39;AIDMW&#39;, &#39;IGPPI&#39;, &#39;QMETP&#39;, &#39;IFWAG&#39;, &#39;KIWWD&#39;,\n       &#39;VANJK&#39;, &#39;TXGKN&#39;, &#39;YEUDH&#39;, &#39;LYXPO&#39;, &#39;FVLNN&#39;, &#39;NLSDC&#39;, &#39;RZOED&#39;,\n       &#39;AZQWM&#39;, &#39;UPHMU&#39;, &#39;XDNBV&#39;, &#39;JTFJI&#39;, &#39;QDRVV&#39;, &#39;KAEAC&#39;, &#39;KYKOG&#39;,\n       &#39;HLVSO&#39;, &#39;IRFOM&#39;, &#39;ADADK&#39;, &#39;XGJRD&#39;, &#39;QYJCD&#39;, &#39;RTJXB&#39;, &#39;HDVFO&#39;,\n       &#39;FFOIW&#39;, &#39;FOWSA&#39;, &#39;RMADD&#39;, &#39;JCUYM&#39;, &#39;GIXMH&#39;, &#39;OUTQR&#39;, &#39;LFNUZ&#39;,\n       &#39;ASNTH&#39;, &#39;JLQKP&#39;, &#39;UYXOX&#39;, &#39;WILIY&#39;, &#39;FFHOK&#39;, &#39;UALPT&#39;, &#39;ZWJVH&#39;,\n       &#39;ADOXQ&#39;, &#39;FGMWT&#39;, &#39;KREBP&#39;, &#39;NOZOL&#39;, &#39;AGSGC&#39;, &#39;PEVCX&#39;, &#39;QWVRM&#39;,\n       &#39;TIGCN&#39;, &#39;ARPWX&#39;, &#39;KXAGT&#39;, &#39;JYYZN&#39;, &#39;OWQWJ&#39;, &#39;CBCLM&#39;, &#39;UNMZU&#39;,\n       &#39;WYUYH&#39;, &#39;JPMRA&#39;, &#39;UNUJV&#39;, &#39;PEMVN&#39;, &#39;MWYSX&#39;, &#39;TJPRL&#39;, &#39;JNSUY&#39;,\n       &#39;FLBNO&#39;, &#39;OJCVH&#39;, &#39;KHMAT&#39;, &#39;KEFPC&#39;, &#39;YDFTB&#39;, &#39;HUFAU&#39;, &#39;QVNVN&#39;,\n       &#39;FJMOJ&#39;, &#39;RBFPF&#39;, &#39;DVDPX&#39;, &#39;JXZJJ&#39;, &#39;MBSIK&#39;, &#39;YOCBY&#39;, &#39;UWJHO&#39;,\n       &#39;UJRGM&#39;, &#39;CNBBZ&#39;, &#39;CLAJJ&#39;, &#39;BABTB&#39;, &#39;ETFPU&#39;, &#39;CSEAX&#39;, &#39;REZDC&#39;,\n       &#39;WCTYV&#39;, &#39;DGDPN&#39;, &#39;CDPWO&#39;, &#39;QXFRD&#39;, &#39;ELXNQ&#39;, &#39;ECUQB&#39;, &#39;XRHDX&#39;,\n       &#39;ZMLQK&#39;, &#39;RWSRM&#39;, &#39;JHSWC&#39;, &#39;ETMYL&#39;, &#39;XJLQL&#39;, &#39;AAAEI&#39;, &#39;XVWGU&#39;,\n       &#39;EFDPX&#39;, &#39;PVEII&#39;, &#39;EBFVL&#39;, &#39;XKGUD&#39;, &#39;QZPEU&#39;, &#39;IKGUD&#39;, &#39;TVWHL&#39;,\n       &#39;ZMYDI&#39;, &#39;YMRLB&#39;, &#39;UKHMB&#39;, &#39;YNRIY&#39;, &#39;ZFIBX&#39;, &#39;IXCKU&#39;, &#39;NAYVI&#39;,\n       &#39;HUYWF&#39;, &#39;ILQUD&#39;, &#39;FPGST&#39;, &#39;SCNJW&#39;, &#39;VBIAA&#39;, &#39;ZTFKF&#39;, &#39;MHSRG&#39;,\n       &#39;BURYG&#39;, &#39;ORVOS&#39;, &#39;TKLLD&#39;, &#39;YZANL&#39;, &#39;FPHXV&#39;, &#39;XUZXX&#39;, &#39;UMYTA&#39;,\n       &#39;VGTXP&#39;, &#39;NYMFE&#39;, &#39;VNMOX&#39;, &#39;XUXGI&#39;, &#39;CWFSA&#39;, &#39;JXFDE&#39;, &#39;IFMIQ&#39;,\n       &#39;UNKRX&#39;, &#39;NPODI&#39;, &#39;TKIIX&#39;, &#39;JMTQA&#39;, &#39;PUQQG&#39;, &#39;NIXUY&#39;, &#39;NXBAN&#39;,\n       &#39;RCZIW&#39;, &#39;ZAAPV&#39;, &#39;ZMRLR&#39;, &#39;PQORX&#39;, &#39;XWPSF&#39;, &#39;ZSYAT&#39;, &#39;LGJNC&#39;,\n       &#39;HDFZT&#39;, &#39;OUEPK&#39;, &#39;OWEPZ&#39;, &#39;IPKWQ&#39;, &#39;XZHYB&#39;, &#39;LQIMR&#39;, &#39;UTDJE&#39;,\n       &#39;QEECK&#39;, &#39;GBAPP&#39;, &#39;CSQBE&#39;, &#39;UOSES&#39;, &#39;ICJLE&#39;, &#39;OLBKD&#39;, &#39;DTVDJ&#39;,\n       &#39;VJSLF&#39;, &#39;YAVYP&#39;, &#39;MMUGC&#39;, &#39;NIPNV&#39;, &#39;PMENZ&#39;, &#39;GYNUY&#39;, &#39;GICZE&#39;,\n       &#39;OKLJZ&#39;, &#39;ZOKHF&#39;, &#39;OEWKZ&#39;, &#39;HPEDR&#39;, &#39;STOXK&#39;, &#39;FCVKF&#39;], dtype=&#39;&lt;U5&#39;)"
     },
     "metadata": {},
     "execution_count": 19
    }
   ],
   "source": [
    "import random\n",
    "import numpy as np\n",
    "random.seed(0)\n",
    "import string\n",
    "N = 1000\n",
    "\n",
    "def xrange (x):\n",
    "    return iter(range(x))\n",
    "\n",
    "def rands (n):\n",
    "    choices = string.ascii_uppercase\n",
    "    return(''.join([random.choice(choices) for _ in xrange(n)]))\n",
    "\n",
    "tickers = np.array([rands(5) for _ in range(N)])\n",
    "tickers"
   ]
  },
  {
   "source": [
    "创建一个含有3列的DataFrame来承载这些假想数据，不过只选择股票组成投资组合：\n"
   ],
   "cell_type": "markdown",
   "metadata": {}
  },
  {
   "cell_type": "code",
   "execution_count": 21,
   "metadata": {},
   "outputs": [],
   "source": [
    "M = 500\n",
    "df = pd.DataFrame({'Momentum':np.random.randn(M)/200 + 0.03,'Value':np.random.randn(M)/200 + 0.08,'ShortInterest':np.random.randn(M)/200 - 0.02},index = tickers[:M])\n"
   ]
  },
  {
   "cell_type": "code",
   "execution_count": 23,
   "metadata": {},
   "outputs": [],
   "source": [
    "ind_names = np.array(['FINANCIAL','TECH'])\n",
    "sampler = np.random.randint(0,len(ind_names),N)\n",
    "industries = pd.Series(ind_names[sampler],index=tickers,name='industry')"
   ]
  },
  {
   "cell_type": "code",
   "execution_count": 24,
   "metadata": {},
   "outputs": [
    {
     "output_type": "execute_result",
     "data": {
      "text/plain": "           Momentum     Value  ShortInterest\nindustry                                    \nFINANCIAL  0.029713  0.079534      -0.020076\nTECH       0.029868  0.080348      -0.020046",
      "text/html": "<div>\n<style scoped>\n    .dataframe tbody tr th:only-of-type {\n        vertical-align: middle;\n    }\n\n    .dataframe tbody tr th {\n        vertical-align: top;\n    }\n\n    .dataframe thead th {\n        text-align: right;\n    }\n</style>\n<table border=\"1\" class=\"dataframe\">\n  <thead>\n    <tr style=\"text-align: right;\">\n      <th></th>\n      <th>Momentum</th>\n      <th>Value</th>\n      <th>ShortInterest</th>\n    </tr>\n    <tr>\n      <th>industry</th>\n      <th></th>\n      <th></th>\n      <th></th>\n    </tr>\n  </thead>\n  <tbody>\n    <tr>\n      <th>FINANCIAL</th>\n      <td>0.029713</td>\n      <td>0.079534</td>\n      <td>-0.020076</td>\n    </tr>\n    <tr>\n      <th>TECH</th>\n      <td>0.029868</td>\n      <td>0.080348</td>\n      <td>-0.020046</td>\n    </tr>\n  </tbody>\n</table>\n</div>"
     },
     "metadata": {},
     "execution_count": 24
    }
   ],
   "source": [
    "by_industry = df.groupby(industries)\n",
    "by_industry.mean()"
   ]
  },
  {
   "cell_type": "code",
   "execution_count": 25,
   "metadata": {},
   "outputs": [
    {
     "output_type": "execute_result",
     "data": {
      "text/plain": "          Momentum                                                    \\\n             count      mean       std       min       25%       50%   \nindustry                                                               \nFINANCIAL    275.0  0.029713  0.004806  0.016449  0.026608  0.029602   \nTECH         225.0  0.029868  0.004646  0.016933  0.026395  0.029882   \n\n                               Value            ...                      \\\n                75%       max  count      mean  ...       75%       max   \nindustry                                        ...                       \nFINANCIAL  0.032923  0.042686  275.0  0.079534  ...  0.082892  0.091088   \nTECH       0.033095  0.043160  225.0  0.080348  ...  0.083441  0.090566   \n\n          ShortInterest                                                    \\\n                  count      mean       std       min       25%       50%   \nindustry                                                                    \nFINANCIAL         275.0 -0.020076  0.005329 -0.040690 -0.024073 -0.019775   \nTECH              225.0 -0.020046  0.004957 -0.033882 -0.023369 -0.019693   \n\n                               \n                75%       max  \nindustry                       \nFINANCIAL -0.016516 -0.003102  \nTECH      -0.017182 -0.005322  \n\n[2 rows x 24 columns]",
      "text/html": "<div>\n<style scoped>\n    .dataframe tbody tr th:only-of-type {\n        vertical-align: middle;\n    }\n\n    .dataframe tbody tr th {\n        vertical-align: top;\n    }\n\n    .dataframe thead tr th {\n        text-align: left;\n    }\n\n    .dataframe thead tr:last-of-type th {\n        text-align: right;\n    }\n</style>\n<table border=\"1\" class=\"dataframe\">\n  <thead>\n    <tr>\n      <th></th>\n      <th colspan=\"8\" halign=\"left\">Momentum</th>\n      <th colspan=\"5\" halign=\"left\">Value</th>\n      <th colspan=\"8\" halign=\"left\">ShortInterest</th>\n    </tr>\n    <tr>\n      <th></th>\n      <th>count</th>\n      <th>mean</th>\n      <th>std</th>\n      <th>min</th>\n      <th>25%</th>\n      <th>50%</th>\n      <th>75%</th>\n      <th>max</th>\n      <th>count</th>\n      <th>mean</th>\n      <th>...</th>\n      <th>75%</th>\n      <th>max</th>\n      <th>count</th>\n      <th>mean</th>\n      <th>std</th>\n      <th>min</th>\n      <th>25%</th>\n      <th>50%</th>\n      <th>75%</th>\n      <th>max</th>\n    </tr>\n    <tr>\n      <th>industry</th>\n      <th></th>\n      <th></th>\n      <th></th>\n      <th></th>\n      <th></th>\n      <th></th>\n      <th></th>\n      <th></th>\n      <th></th>\n      <th></th>\n      <th></th>\n      <th></th>\n      <th></th>\n      <th></th>\n      <th></th>\n      <th></th>\n      <th></th>\n      <th></th>\n      <th></th>\n      <th></th>\n      <th></th>\n    </tr>\n  </thead>\n  <tbody>\n    <tr>\n      <th>FINANCIAL</th>\n      <td>275.0</td>\n      <td>0.029713</td>\n      <td>0.004806</td>\n      <td>0.016449</td>\n      <td>0.026608</td>\n      <td>0.029602</td>\n      <td>0.032923</td>\n      <td>0.042686</td>\n      <td>275.0</td>\n      <td>0.079534</td>\n      <td>...</td>\n      <td>0.082892</td>\n      <td>0.091088</td>\n      <td>275.0</td>\n      <td>-0.020076</td>\n      <td>0.005329</td>\n      <td>-0.040690</td>\n      <td>-0.024073</td>\n      <td>-0.019775</td>\n      <td>-0.016516</td>\n      <td>-0.003102</td>\n    </tr>\n    <tr>\n      <th>TECH</th>\n      <td>225.0</td>\n      <td>0.029868</td>\n      <td>0.004646</td>\n      <td>0.016933</td>\n      <td>0.026395</td>\n      <td>0.029882</td>\n      <td>0.033095</td>\n      <td>0.043160</td>\n      <td>225.0</td>\n      <td>0.080348</td>\n      <td>...</td>\n      <td>0.083441</td>\n      <td>0.090566</td>\n      <td>225.0</td>\n      <td>-0.020046</td>\n      <td>0.004957</td>\n      <td>-0.033882</td>\n      <td>-0.023369</td>\n      <td>-0.019693</td>\n      <td>-0.017182</td>\n      <td>-0.005322</td>\n    </tr>\n  </tbody>\n</table>\n<p>2 rows × 24 columns</p>\n</div>"
     },
     "metadata": {},
     "execution_count": 25
    }
   ],
   "source": [
    "by_industry.describe()"
   ]
  },
  {
   "source": [
    "## 行业内标准化处理\n",
    "处理之后，各行业的平均值为0，标准差为1."
   ],
   "cell_type": "code",
   "metadata": {},
   "execution_count": null,
   "outputs": []
  },
  {
   "cell_type": "code",
   "execution_count": 26,
   "metadata": {},
   "outputs": [
    {
     "output_type": "execute_result",
     "data": {
      "text/plain": "       Momentum     Value  ShortInterest\nMYNBI -0.614375  0.156323       0.295420\nQPMZJ -0.606876  1.316692      -0.911886\nPLSGQ -1.548529 -0.314280      -0.322062\nEJEYD -0.583110  0.348036       0.063849\nTZIRW -1.796371 -0.802052       0.469845\nZTEJD  0.248576 -0.555548      -0.364557\nXCVKP  0.120115 -1.186730      -1.209107\nRDLNK -0.067744 -0.449589      -1.111426\nTUGRP  0.701134 -1.401017      -1.173777\nOQIBZ  0.518925 -0.808910      -0.760090\nRACXM  0.009691  0.681251       0.056525\nWZVUA  0.172687  1.276689       0.815830\nTPKHX  1.557312 -0.380216      -0.163841\nKWCGS -1.013726 -0.542370       3.185439\nHHZEZ  0.594137  1.046174       0.305927\nROCCK  0.002549 -1.400950       1.127238\nQPDJR -0.703569 -0.462525       0.719742\nJWDRK -1.349740 -0.111255      -0.159144\nRGZTR -0.187767 -0.896879      -0.123891\nSJOCT  1.041280  0.797046      -0.326539\nZMKSH  0.511861  0.756023       0.208647\nJFGFB  0.726901 -0.426709      -0.805019\nTVIPC  1.234201 -0.644524       0.097817\nCVYEE  0.087182 -0.334708      -2.705591\nBCWRV -0.354905  0.941175      -0.829211\nMWQIQ  1.052314  0.685332      -1.046034\nZHGVS  0.253510  0.530531       0.416736\nNSIOP  1.619360  2.477630       1.218829\nVUWZL  1.474471 -0.061458       1.085112\nCKTDP -0.056464  0.715981      -0.052781\n...         ...       ...            ...\nCCPMS  0.665430  1.086888      -0.132355\nNRCIP -0.895350  1.230952      -0.150573\nHDJEL  0.865429 -0.718214       0.882635\nZDEVB  1.327346  2.003453       0.664302\nVESRG  0.751089  0.301256       0.616664\nABMRW -0.184545  0.294536       0.057773\nYTPWW  1.533780  0.933739       0.721401\nDPRLY -0.525240  0.697149      -0.583559\nKDVAH -0.879446 -0.287424      -0.671048\nHPJIH  0.011918  0.937672       0.714106\nAPLQK  1.141205 -0.300816       0.136982\nCCJSN  1.672678  1.675707      -0.094108\nHXLMY  0.178835 -2.120193      -0.319424\nEHJGX  0.507182 -0.414003       0.492464\nYPVZL -1.185842  0.999791       0.862876\nJMTEY  0.375252 -1.559265       1.602006\nDMLQP -0.421522  0.858441      -1.909247\nHUWLU  0.510369 -0.247625       0.024807\nLNILM -0.907284  1.496089       0.990266\nYYWJD -0.783226 -0.086440       0.811268\nPJDOE -0.343186 -1.559072       0.624387\nLHXFK  0.241814 -0.652475      -0.146501\nPHDVM -0.374259  0.031225      -1.560652\nMOQOS -1.605153 -1.676218       1.330105\nTHVMQ -0.967493  0.733026       1.227141\nJPHKQ -0.502641 -0.308374       1.429310\nVACPK  0.997279  1.524039       0.071056\nMHNBS -0.857446  0.017603       0.561082\nYBNCI -0.322475 -1.065219       0.075182\nGXKFD  0.390374  1.034606       1.213898\n\n[500 rows x 3 columns]",
      "text/html": "<div>\n<style scoped>\n    .dataframe tbody tr th:only-of-type {\n        vertical-align: middle;\n    }\n\n    .dataframe tbody tr th {\n        vertical-align: top;\n    }\n\n    .dataframe thead th {\n        text-align: right;\n    }\n</style>\n<table border=\"1\" class=\"dataframe\">\n  <thead>\n    <tr style=\"text-align: right;\">\n      <th></th>\n      <th>Momentum</th>\n      <th>Value</th>\n      <th>ShortInterest</th>\n    </tr>\n  </thead>\n  <tbody>\n    <tr>\n      <th>MYNBI</th>\n      <td>-0.614375</td>\n      <td>0.156323</td>\n      <td>0.295420</td>\n    </tr>\n    <tr>\n      <th>QPMZJ</th>\n      <td>-0.606876</td>\n      <td>1.316692</td>\n      <td>-0.911886</td>\n    </tr>\n    <tr>\n      <th>PLSGQ</th>\n      <td>-1.548529</td>\n      <td>-0.314280</td>\n      <td>-0.322062</td>\n    </tr>\n    <tr>\n      <th>EJEYD</th>\n      <td>-0.583110</td>\n      <td>0.348036</td>\n      <td>0.063849</td>\n    </tr>\n    <tr>\n      <th>TZIRW</th>\n      <td>-1.796371</td>\n      <td>-0.802052</td>\n      <td>0.469845</td>\n    </tr>\n    <tr>\n      <th>ZTEJD</th>\n      <td>0.248576</td>\n      <td>-0.555548</td>\n      <td>-0.364557</td>\n    </tr>\n    <tr>\n      <th>XCVKP</th>\n      <td>0.120115</td>\n      <td>-1.186730</td>\n      <td>-1.209107</td>\n    </tr>\n    <tr>\n      <th>RDLNK</th>\n      <td>-0.067744</td>\n      <td>-0.449589</td>\n      <td>-1.111426</td>\n    </tr>\n    <tr>\n      <th>TUGRP</th>\n      <td>0.701134</td>\n      <td>-1.401017</td>\n      <td>-1.173777</td>\n    </tr>\n    <tr>\n      <th>OQIBZ</th>\n      <td>0.518925</td>\n      <td>-0.808910</td>\n      <td>-0.760090</td>\n    </tr>\n    <tr>\n      <th>RACXM</th>\n      <td>0.009691</td>\n      <td>0.681251</td>\n      <td>0.056525</td>\n    </tr>\n    <tr>\n      <th>WZVUA</th>\n      <td>0.172687</td>\n      <td>1.276689</td>\n      <td>0.815830</td>\n    </tr>\n    <tr>\n      <th>TPKHX</th>\n      <td>1.557312</td>\n      <td>-0.380216</td>\n      <td>-0.163841</td>\n    </tr>\n    <tr>\n      <th>KWCGS</th>\n      <td>-1.013726</td>\n      <td>-0.542370</td>\n      <td>3.185439</td>\n    </tr>\n    <tr>\n      <th>HHZEZ</th>\n      <td>0.594137</td>\n      <td>1.046174</td>\n      <td>0.305927</td>\n    </tr>\n    <tr>\n      <th>ROCCK</th>\n      <td>0.002549</td>\n      <td>-1.400950</td>\n      <td>1.127238</td>\n    </tr>\n    <tr>\n      <th>QPDJR</th>\n      <td>-0.703569</td>\n      <td>-0.462525</td>\n      <td>0.719742</td>\n    </tr>\n    <tr>\n      <th>JWDRK</th>\n      <td>-1.349740</td>\n      <td>-0.111255</td>\n      <td>-0.159144</td>\n    </tr>\n    <tr>\n      <th>RGZTR</th>\n      <td>-0.187767</td>\n      <td>-0.896879</td>\n      <td>-0.123891</td>\n    </tr>\n    <tr>\n      <th>SJOCT</th>\n      <td>1.041280</td>\n      <td>0.797046</td>\n      <td>-0.326539</td>\n    </tr>\n    <tr>\n      <th>ZMKSH</th>\n      <td>0.511861</td>\n      <td>0.756023</td>\n      <td>0.208647</td>\n    </tr>\n    <tr>\n      <th>JFGFB</th>\n      <td>0.726901</td>\n      <td>-0.426709</td>\n      <td>-0.805019</td>\n    </tr>\n    <tr>\n      <th>TVIPC</th>\n      <td>1.234201</td>\n      <td>-0.644524</td>\n      <td>0.097817</td>\n    </tr>\n    <tr>\n      <th>CVYEE</th>\n      <td>0.087182</td>\n      <td>-0.334708</td>\n      <td>-2.705591</td>\n    </tr>\n    <tr>\n      <th>BCWRV</th>\n      <td>-0.354905</td>\n      <td>0.941175</td>\n      <td>-0.829211</td>\n    </tr>\n    <tr>\n      <th>MWQIQ</th>\n      <td>1.052314</td>\n      <td>0.685332</td>\n      <td>-1.046034</td>\n    </tr>\n    <tr>\n      <th>ZHGVS</th>\n      <td>0.253510</td>\n      <td>0.530531</td>\n      <td>0.416736</td>\n    </tr>\n    <tr>\n      <th>NSIOP</th>\n      <td>1.619360</td>\n      <td>2.477630</td>\n      <td>1.218829</td>\n    </tr>\n    <tr>\n      <th>VUWZL</th>\n      <td>1.474471</td>\n      <td>-0.061458</td>\n      <td>1.085112</td>\n    </tr>\n    <tr>\n      <th>CKTDP</th>\n      <td>-0.056464</td>\n      <td>0.715981</td>\n      <td>-0.052781</td>\n    </tr>\n    <tr>\n      <th>...</th>\n      <td>...</td>\n      <td>...</td>\n      <td>...</td>\n    </tr>\n    <tr>\n      <th>CCPMS</th>\n      <td>0.665430</td>\n      <td>1.086888</td>\n      <td>-0.132355</td>\n    </tr>\n    <tr>\n      <th>NRCIP</th>\n      <td>-0.895350</td>\n      <td>1.230952</td>\n      <td>-0.150573</td>\n    </tr>\n    <tr>\n      <th>HDJEL</th>\n      <td>0.865429</td>\n      <td>-0.718214</td>\n      <td>0.882635</td>\n    </tr>\n    <tr>\n      <th>ZDEVB</th>\n      <td>1.327346</td>\n      <td>2.003453</td>\n      <td>0.664302</td>\n    </tr>\n    <tr>\n      <th>VESRG</th>\n      <td>0.751089</td>\n      <td>0.301256</td>\n      <td>0.616664</td>\n    </tr>\n    <tr>\n      <th>ABMRW</th>\n      <td>-0.184545</td>\n      <td>0.294536</td>\n      <td>0.057773</td>\n    </tr>\n    <tr>\n      <th>YTPWW</th>\n      <td>1.533780</td>\n      <td>0.933739</td>\n      <td>0.721401</td>\n    </tr>\n    <tr>\n      <th>DPRLY</th>\n      <td>-0.525240</td>\n      <td>0.697149</td>\n      <td>-0.583559</td>\n    </tr>\n    <tr>\n      <th>KDVAH</th>\n      <td>-0.879446</td>\n      <td>-0.287424</td>\n      <td>-0.671048</td>\n    </tr>\n    <tr>\n      <th>HPJIH</th>\n      <td>0.011918</td>\n      <td>0.937672</td>\n      <td>0.714106</td>\n    </tr>\n    <tr>\n      <th>APLQK</th>\n      <td>1.141205</td>\n      <td>-0.300816</td>\n      <td>0.136982</td>\n    </tr>\n    <tr>\n      <th>CCJSN</th>\n      <td>1.672678</td>\n      <td>1.675707</td>\n      <td>-0.094108</td>\n    </tr>\n    <tr>\n      <th>HXLMY</th>\n      <td>0.178835</td>\n      <td>-2.120193</td>\n      <td>-0.319424</td>\n    </tr>\n    <tr>\n      <th>EHJGX</th>\n      <td>0.507182</td>\n      <td>-0.414003</td>\n      <td>0.492464</td>\n    </tr>\n    <tr>\n      <th>YPVZL</th>\n      <td>-1.185842</td>\n      <td>0.999791</td>\n      <td>0.862876</td>\n    </tr>\n    <tr>\n      <th>JMTEY</th>\n      <td>0.375252</td>\n      <td>-1.559265</td>\n      <td>1.602006</td>\n    </tr>\n    <tr>\n      <th>DMLQP</th>\n      <td>-0.421522</td>\n      <td>0.858441</td>\n      <td>-1.909247</td>\n    </tr>\n    <tr>\n      <th>HUWLU</th>\n      <td>0.510369</td>\n      <td>-0.247625</td>\n      <td>0.024807</td>\n    </tr>\n    <tr>\n      <th>LNILM</th>\n      <td>-0.907284</td>\n      <td>1.496089</td>\n      <td>0.990266</td>\n    </tr>\n    <tr>\n      <th>YYWJD</th>\n      <td>-0.783226</td>\n      <td>-0.086440</td>\n      <td>0.811268</td>\n    </tr>\n    <tr>\n      <th>PJDOE</th>\n      <td>-0.343186</td>\n      <td>-1.559072</td>\n      <td>0.624387</td>\n    </tr>\n    <tr>\n      <th>LHXFK</th>\n      <td>0.241814</td>\n      <td>-0.652475</td>\n      <td>-0.146501</td>\n    </tr>\n    <tr>\n      <th>PHDVM</th>\n      <td>-0.374259</td>\n      <td>0.031225</td>\n      <td>-1.560652</td>\n    </tr>\n    <tr>\n      <th>MOQOS</th>\n      <td>-1.605153</td>\n      <td>-1.676218</td>\n      <td>1.330105</td>\n    </tr>\n    <tr>\n      <th>THVMQ</th>\n      <td>-0.967493</td>\n      <td>0.733026</td>\n      <td>1.227141</td>\n    </tr>\n    <tr>\n      <th>JPHKQ</th>\n      <td>-0.502641</td>\n      <td>-0.308374</td>\n      <td>1.429310</td>\n    </tr>\n    <tr>\n      <th>VACPK</th>\n      <td>0.997279</td>\n      <td>1.524039</td>\n      <td>0.071056</td>\n    </tr>\n    <tr>\n      <th>MHNBS</th>\n      <td>-0.857446</td>\n      <td>0.017603</td>\n      <td>0.561082</td>\n    </tr>\n    <tr>\n      <th>YBNCI</th>\n      <td>-0.322475</td>\n      <td>-1.065219</td>\n      <td>0.075182</td>\n    </tr>\n    <tr>\n      <th>GXKFD</th>\n      <td>0.390374</td>\n      <td>1.034606</td>\n      <td>1.213898</td>\n    </tr>\n  </tbody>\n</table>\n<p>500 rows × 3 columns</p>\n</div>"
     },
     "metadata": {},
     "execution_count": 26
    }
   ],
   "source": [
    "#行业内标准化处理\n",
    "def zscore(group):\n",
    "    return(group-group.mean())/group.std()\n",
    "df_stand = by_industry.apply(zscore)\n",
    "df_stand"
   ]
  },
  {
   "cell_type": "code",
   "execution_count": 27,
   "metadata": {},
   "outputs": [
    {
     "output_type": "execute_result",
     "data": {
      "text/plain": "               Momentum              Value      ShortInterest     \n                   mean  std          mean  std          mean  std\nindustry                                                          \nFINANCIAL  9.475249e-16  1.0 -8.202731e-15  1.0 -6.055762e-16  1.0\nTECH       1.764514e-15  1.0  1.320749e-15  1.0 -2.541177e-16  1.0",
      "text/html": "<div>\n<style scoped>\n    .dataframe tbody tr th:only-of-type {\n        vertical-align: middle;\n    }\n\n    .dataframe tbody tr th {\n        vertical-align: top;\n    }\n\n    .dataframe thead tr th {\n        text-align: left;\n    }\n\n    .dataframe thead tr:last-of-type th {\n        text-align: right;\n    }\n</style>\n<table border=\"1\" class=\"dataframe\">\n  <thead>\n    <tr>\n      <th></th>\n      <th colspan=\"2\" halign=\"left\">Momentum</th>\n      <th colspan=\"2\" halign=\"left\">Value</th>\n      <th colspan=\"2\" halign=\"left\">ShortInterest</th>\n    </tr>\n    <tr>\n      <th></th>\n      <th>mean</th>\n      <th>std</th>\n      <th>mean</th>\n      <th>std</th>\n      <th>mean</th>\n      <th>std</th>\n    </tr>\n    <tr>\n      <th>industry</th>\n      <th></th>\n      <th></th>\n      <th></th>\n      <th></th>\n      <th></th>\n      <th></th>\n    </tr>\n  </thead>\n  <tbody>\n    <tr>\n      <th>FINANCIAL</th>\n      <td>9.475249e-16</td>\n      <td>1.0</td>\n      <td>-8.202731e-15</td>\n      <td>1.0</td>\n      <td>-6.055762e-16</td>\n      <td>1.0</td>\n    </tr>\n    <tr>\n      <th>TECH</th>\n      <td>1.764514e-15</td>\n      <td>1.0</td>\n      <td>1.320749e-15</td>\n      <td>1.0</td>\n      <td>-2.541177e-16</td>\n      <td>1.0</td>\n    </tr>\n  </tbody>\n</table>\n</div>"
     },
     "metadata": {},
     "execution_count": 27
    }
   ],
   "source": [
    "df_stand.groupby(industries).agg(['mean','std'])"
   ]
  },
  {
   "cell_type": "code",
   "execution_count": null,
   "metadata": {},
   "outputs": [],
   "source": []
  }
 ]
}