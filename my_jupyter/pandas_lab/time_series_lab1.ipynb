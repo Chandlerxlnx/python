{
 "metadata": {
  "language_info": {
   "codemirror_mode": {
    "name": "ipython",
    "version": 3
   },
   "file_extension": ".py",
   "mimetype": "text/x-python",
   "name": "python",
   "nbconvert_exporter": "python",
   "pygments_lexer": "ipython3",
   "version": "3.7.3-final"
  },
  "orig_nbformat": 2,
  "kernelspec": {
   "name": "python3",
   "display_name": "Python 3"
  }
 },
 "nbformat": 4,
 "nbformat_minor": 2,
 "cells": [
  {
   "source": [
    "# Time series\n",
    "## cross-section: \n",
    " 某个时间点的数据\n",
    "## panel\\(面板)\n",
    " 多个数据项在多个时间点界面构成的一个面板。panel"
   ],
   "cell_type": "markdown",
   "metadata": {}
  },
  {
   "cell_type": "code",
   "execution_count": 23,
   "metadata": {},
   "outputs": [],
   "source": [
    "import numpy as np \n",
    "import pandas as pd \n",
    "# prices"
   ]
  },
  {
   "cell_type": "code",
   "execution_count": null,
   "metadata": {},
   "outputs": [],
   "source": [
    "# python Std lib of date and time includes, datetime, time an calendar."
   ]
  },
  {
   "cell_type": "code",
   "execution_count": 11,
   "metadata": {},
   "outputs": [
    {
     "output_type": "execute_result",
     "data": {
      "text/plain": "(2020, 10, 4)"
     },
     "metadata": {},
     "execution_count": 11
    }
   ],
   "source": [
    "from datetime import datetime\n",
    "now =datetime.now()\n",
    "now\n",
    "now.year , now.month, now.day"
   ]
  },
  {
   "cell_type": "code",
   "execution_count": 12,
   "metadata": {},
   "outputs": [
    {
     "output_type": "execute_result",
     "data": {
      "text/plain": "(2020, 10, 4)"
     },
     "metadata": {},
     "execution_count": 12
    }
   ],
   "source": [
    "now.year, now.month, now.day"
   ]
  },
  {
   "cell_type": "code",
   "execution_count": 15,
   "metadata": {},
   "outputs": [
    {
     "output_type": "execute_result",
     "data": {
      "text/plain": "datetime.timedelta(days=926, seconds=56700)"
     },
     "metadata": {},
     "execution_count": 15
    }
   ],
   "source": [
    "delta = datetime(2011,1,7) -datetime(2008,6,24,8,15)\n",
    "delta"
   ]
  },
  {
   "cell_type": "code",
   "execution_count": 21,
   "metadata": {},
   "outputs": [
    {
     "output_type": "execute_result",
     "data": {
      "text/plain": "926"
     },
     "metadata": {},
     "execution_count": 21
    }
   ],
   "source": [
    "delta.days\n",
    "\n"
   ]
  },
  {
   "cell_type": "code",
   "execution_count": 22,
   "metadata": {},
   "outputs": [
    {
     "output_type": "execute_result",
     "data": {
      "text/plain": "56700"
     },
     "metadata": {},
     "execution_count": 22
    }
   ],
   "source": [
    "delta.seconds"
   ]
  },
  {
   "cell_type": "code",
   "execution_count": 28,
   "metadata": {},
   "outputs": [
    {
     "output_type": "execute_result",
     "data": {
      "text/plain": "datetime.datetime(2011, 1, 19, 0, 0)"
     },
     "metadata": {},
     "execution_count": 28
    }
   ],
   "source": [
    "from datetime import timedelta\n",
    "start = datetime(2011,1,7)\n",
    "start + timedelta(12)\n"
   ]
  },
  {
   "cell_type": "code",
   "execution_count": 27,
   "metadata": {},
   "outputs": [
    {
     "output_type": "execute_result",
     "data": {
      "text/plain": "datetime.datetime(2010, 12, 14, 0, 0)"
     },
     "metadata": {},
     "execution_count": 27
    }
   ],
   "source": [
    "start - 2 * timedelta(12)"
   ]
  },
  {
   "source": [
    "# 字符串和datetime相互转换"
   ],
   "cell_type": "markdown",
   "metadata": {}
  },
  {
   "cell_type": "code",
   "execution_count": 29,
   "metadata": {},
   "outputs": [
    {
     "output_type": "execute_result",
     "data": {
      "text/plain": "'2011-01-03 00:00:00'"
     },
     "metadata": {},
     "execution_count": 29
    }
   ],
   "source": [
    "stamp = datetime(2011,1,3)\n",
    "str(stamp)"
   ]
  },
  {
   "cell_type": "code",
   "execution_count": 30,
   "metadata": {},
   "outputs": [
    {
     "output_type": "execute_result",
     "data": {
      "text/plain": "'2011-01-03'"
     },
     "metadata": {},
     "execution_count": 30
    }
   ],
   "source": [
    "stamp.strftime('%Y-%m-%d')"
   ]
  },
  {
   "cell_type": "code",
   "execution_count": 32,
   "metadata": {},
   "outputs": [
    {
     "output_type": "execute_result",
     "data": {
      "text/plain": "[datetime.datetime(2011, 7, 6, 0, 0), datetime.datetime(2011, 8, 6, 0, 0)]"
     },
     "metadata": {},
     "execution_count": 32
    }
   ],
   "source": [
    "value = '2011-01-03'\n",
    "datetime.strptime(value,'%Y-%m-%d')\n"
   ]
  },
  {
   "cell_type": "code",
   "execution_count": null,
   "metadata": {},
   "outputs": [],
   "source": [
    "datestrs = ['7/6/2011','8/6/2011']\n",
    "[datetime.strptime(x, '%m/%d/%Y') for x in datestrs]"
   ]
  },
  {
   "source": [
    "#parser.parse\n",
    "\n",
    " datetime.Strptime 是通过已知格式进行日期解析的最佳方法，但每次都要编写格式定义，很麻烦。常见的日期格式可以用dateutil 第三方包中的 parser.parse"
   ],
   "cell_type": "markdown",
   "metadata": {}
  },
  {
   "cell_type": "code",
   "execution_count": 34,
   "metadata": {},
   "outputs": [
    {
     "output_type": "execute_result",
     "data": {
      "text/plain": "datetime.datetime(2011, 1, 3, 0, 0)"
     },
     "metadata": {},
     "execution_count": 34
    }
   ],
   "source": [
    "from dateutil.parser import parse\n",
    "parse('2011-01-03')"
   ]
  },
  {
   "cell_type": "code",
   "execution_count": 35,
   "metadata": {},
   "outputs": [
    {
     "output_type": "execute_result",
     "data": {
      "text/plain": "datetime.datetime(1997, 1, 31, 22, 45)"
     },
     "metadata": {},
     "execution_count": 35
    }
   ],
   "source": [
    "parse('Jan 31, 1997 10:45 PM')"
   ]
  },
  {
   "source": [
    "# 处理缺失值(None, 空字符串)"
   ],
   "cell_type": "markdown",
   "metadata": {}
  },
  {
   "cell_type": "code",
   "execution_count": 36,
   "metadata": {},
   "outputs": [
    {
     "output_type": "execute_result",
     "data": {
      "text/plain": "DatetimeIndex(['2011-07-06', '2011-08-06', 'NaT'], dtype='datetime64[ns]', freq=None)"
     },
     "metadata": {},
     "execution_count": 36
    }
   ],
   "source": [
    "idx = pd.to_datetime(datestrs + [None])\n",
    "idx"
   ]
  },
  {
   "cell_type": "code",
   "execution_count": 37,
   "metadata": {},
   "outputs": [
    {
     "output_type": "execute_result",
     "data": {
      "text/plain": "array([False, False,  True])"
     },
     "metadata": {},
     "execution_count": 37
    }
   ],
   "source": [
    "pd.isnull(idx)"
   ]
  },
  {
   "source": [
    "# 时间序列基础\n",
    "\n",
    "pandas 最基本的时间序列类型就是以时间戳(通常一python字符串或datatime对象表示)为索引的series"
   ],
   "cell_type": "markdown",
   "metadata": {}
  },
  {
   "cell_type": "code",
   "execution_count": 41,
   "metadata": {},
   "outputs": [
    {
     "output_type": "execute_result",
     "data": {
      "text/plain": "2011-01-02   -1.034799\n2011-01-05   -0.174347\n2011-01-07   -0.777245\n2011-01-08   -1.068196\n2011-01-10   -1.309266\n2011-01-12    0.702646\ndtype: float64"
     },
     "metadata": {},
     "execution_count": 41
    }
   ],
   "source": [
    "from datetime import datetime\n",
    "from pandas import Series\n",
    "dates = [datetime(2011,1,2),datetime(2011,1,5),datetime(2011,1,7),datetime(2011,1,8),datetime(2011,1,10),datetime(2011,1,12)]\n",
    "ts = Series(np.random.randn(6),index=dates)\n",
    "ts"
   ]
  },
  {
   "cell_type": "code",
   "execution_count": 43,
   "metadata": {},
   "outputs": [
    {
     "output_type": "execute_result",
     "data": {
      "text/plain": "DatetimeIndex(['2011-01-02', '2011-01-05', '2011-01-07', '2011-01-08',\n               '2011-01-10', '2011-01-12'],\n              dtype='datetime64[ns]', freq=None)"
     },
     "metadata": {},
     "execution_count": 43
    }
   ],
   "source": [
    "type(ts)\n",
    "ts.index"
   ]
  },
  {
   "cell_type": "code",
   "execution_count": 45,
   "metadata": {},
   "outputs": [
    {
     "output_type": "execute_result",
     "data": {
      "text/plain": "2011-01-02   -1.034799\n2011-01-07   -0.777245\n2011-01-10   -1.309266\ndtype: float64"
     },
     "metadata": {},
     "execution_count": 45
    }
   ],
   "source": [
    "ts[::2]"
   ]
  },
  {
   "cell_type": "code",
   "execution_count": 42,
   "metadata": {},
   "outputs": [
    {
     "output_type": "execute_result",
     "data": {
      "text/plain": "2011-01-02   -2.069598\n2011-01-05         NaN\n2011-01-07   -1.554490\n2011-01-08         NaN\n2011-01-10   -2.618532\n2011-01-12         NaN\ndtype: float64"
     },
     "metadata": {},
     "execution_count": 42
    }
   ],
   "source": [
    "ts + ts[::2]"
   ]
  },
  {
   "cell_type": "code",
   "execution_count": 48,
   "metadata": {},
   "outputs": [
    {
     "output_type": "execute_result",
     "data": {
      "text/plain": "Timestamp('2011-01-02 00:00:00')"
     },
     "metadata": {},
     "execution_count": 48
    }
   ],
   "source": [
    "ts.index.dtype\n",
    "stamp = ts.index[0]\n",
    "stamp"
   ]
  },
  {
   "source": [
    "# series operation\n",
    "## 索引\n",
    "## 选取\n",
    "## 子集构造"
   ],
   "cell_type": "markdown",
   "metadata": {}
  },
  {
   "cell_type": "code",
   "execution_count": 49,
   "metadata": {},
   "outputs": [
    {
     "output_type": "execute_result",
     "data": {
      "text/plain": "-0.7772448688676059"
     },
     "metadata": {},
     "execution_count": 49
    }
   ],
   "source": [
    "stamp = ts.index[2]\n",
    "ts[stamp]"
   ]
  },
  {
   "cell_type": "code",
   "execution_count": 50,
   "metadata": {},
   "outputs": [
    {
     "output_type": "execute_result",
     "data": {
      "text/plain": "-1.309265935468168"
     },
     "metadata": {},
     "execution_count": 50
    }
   ],
   "source": [
    "ts['1/10/2011']"
   ]
  },
  {
   "cell_type": "code",
   "execution_count": 51,
   "metadata": {},
   "outputs": [
    {
     "output_type": "execute_result",
     "data": {
      "text/plain": "-1.309265935468168"
     },
     "metadata": {},
     "execution_count": 51
    }
   ],
   "source": [
    "ts['20110110']"
   ]
  },
  {
   "cell_type": "code",
   "execution_count": 52,
   "metadata": {},
   "outputs": [
    {
     "output_type": "execute_result",
     "data": {
      "text/plain": "2000-01-01    0.006676\n2000-01-02   -0.802983\n2000-01-03   -0.523848\n2000-01-04    0.494694\n2000-01-05    0.799992\n2000-01-06    0.507520\n2000-01-07    0.164783\n2000-01-08    0.879887\n2000-01-09   -0.033883\n2000-01-10   -1.129043\n2000-01-11    0.164304\n2000-01-12   -0.812047\n2000-01-13   -1.549517\n2000-01-14    0.173945\n2000-01-15    0.771053\n2000-01-16   -0.097297\n2000-01-17   -1.109570\n2000-01-18   -0.095805\n2000-01-19    1.106983\n2000-01-20   -0.251418\n2000-01-21   -0.853559\n2000-01-22    0.360944\n2000-01-23   -0.814275\n2000-01-24   -0.742613\n2000-01-25    0.906634\n2000-01-26   -0.592690\n2000-01-27    0.680213\n2000-01-28   -0.898437\n2000-01-29    1.017804\n2000-01-30    0.681437\n                ...   \n2002-08-28    0.314840\n2002-08-29   -0.840584\n2002-08-30   -0.397653\n2002-08-31    0.743620\n2002-09-01   -0.710794\n2002-09-02    0.050213\n2002-09-03    0.101828\n2002-09-04    0.253245\n2002-09-05   -0.977856\n2002-09-06   -0.592771\n2002-09-07    0.354885\n2002-09-08    0.665309\n2002-09-09    0.330504\n2002-09-10   -1.267980\n2002-09-11   -1.052471\n2002-09-12   -1.381489\n2002-09-13   -0.498960\n2002-09-14    0.996524\n2002-09-15    0.019843\n2002-09-16   -0.502092\n2002-09-17    0.207006\n2002-09-18   -0.647581\n2002-09-19    0.636864\n2002-09-20    0.053512\n2002-09-21   -1.806654\n2002-09-22    0.077207\n2002-09-23    0.918564\n2002-09-24    0.739067\n2002-09-25   -1.865379\n2002-09-26   -0.691028\nFreq: D, Length: 1000, dtype: float64"
     },
     "metadata": {},
     "execution_count": 52
    }
   ],
   "source": [
    "longer_ts =Series(np.random.randn(1000),\n",
    "        index = pd.date_range('1/1/2000',periods=1000))\n",
    "longer_ts"
   ]
  },
  {
   "source": [
    "#通过日期进行切片的方式只对Series有效"
   ],
   "cell_type": "markdown",
   "metadata": {}
  },
  {
   "cell_type": "code",
   "execution_count": 53,
   "metadata": {},
   "outputs": [
    {
     "output_type": "execute_result",
     "data": {
      "text/plain": "2001-01-01   -0.773005\n2001-01-02   -0.530420\n2001-01-03    0.435352\n2001-01-04    0.375991\n2001-01-05    0.370774\n2001-01-06    0.404213\n2001-01-07   -2.270026\n2001-01-08   -0.175019\n2001-01-09   -0.017038\n2001-01-10    0.637493\n2001-01-11    0.053254\n2001-01-12   -2.998082\n2001-01-13    0.614295\n2001-01-14   -0.284521\n2001-01-15   -0.742941\n2001-01-16    1.072706\n2001-01-17    1.056702\n2001-01-18    0.875386\n2001-01-19    1.616360\n2001-01-20   -1.319117\n2001-01-21    0.690881\n2001-01-22    0.908516\n2001-01-23   -0.855132\n2001-01-24    2.374253\n2001-01-25   -0.223169\n2001-01-26    1.492595\n2001-01-27    1.232023\n2001-01-28    0.126258\n2001-01-29    0.269012\n2001-01-30   -0.677871\n                ...   \n2001-12-02   -0.203375\n2001-12-03   -0.937027\n2001-12-04    1.302603\n2001-12-05    0.001406\n2001-12-06    0.590517\n2001-12-07    0.970053\n2001-12-08   -0.145453\n2001-12-09    1.018818\n2001-12-10    1.131762\n2001-12-11    0.171499\n2001-12-12   -0.564270\n2001-12-13    0.301926\n2001-12-14   -1.612584\n2001-12-15   -0.491226\n2001-12-16   -0.568740\n2001-12-17    1.218990\n2001-12-18    0.328368\n2001-12-19   -1.139161\n2001-12-20    0.770745\n2001-12-21    2.754798\n2001-12-22    0.026578\n2001-12-23    2.533802\n2001-12-24   -0.223180\n2001-12-25   -2.029252\n2001-12-26   -0.468142\n2001-12-27   -0.579857\n2001-12-28    0.637229\n2001-12-29    0.778276\n2001-12-30    0.426158\n2001-12-31    2.053402\nFreq: D, Length: 365, dtype: float64"
     },
     "metadata": {},
     "execution_count": 53
    }
   ],
   "source": [
    "longer_ts['2001']"
   ]
  },
  {
   "cell_type": "code",
   "execution_count": 54,
   "metadata": {},
   "outputs": [
    {
     "output_type": "execute_result",
     "data": {
      "text/plain": "2011-01-07   -0.777245\n2011-01-08   -1.068196\n2011-01-10   -1.309266\n2011-01-12    0.702646\ndtype: float64"
     },
     "metadata": {},
     "execution_count": 54
    }
   ],
   "source": [
    "ts[datetime(2011,1,7):]"
   ]
  },
  {
   "cell_type": "code",
   "execution_count": 55,
   "metadata": {},
   "outputs": [
    {
     "output_type": "execute_result",
     "data": {
      "text/plain": "2011-01-07   -0.777245\n2011-01-08   -1.068196\n2011-01-10   -1.309266\ndtype: float64"
     },
     "metadata": {},
     "execution_count": 55
    }
   ],
   "source": [
    "ts['1/6/2011':'1/11/2011']"
   ]
  },
  {
   "source": [
    "## 对Series的操作对DataFrame也有效"
   ],
   "cell_type": "markdown",
   "metadata": {}
  },
  {
   "cell_type": "code",
   "execution_count": 59,
   "metadata": {},
   "outputs": [
    {
     "output_type": "execute_result",
     "data": {
      "text/plain": "            Colorado     Texas  New York      Ohio\n2001-05-02  0.405972 -0.391432  0.905204 -0.317189\n2001-05-09 -0.598313  0.831846 -0.288473 -0.263525\n2001-05-16 -0.219882  1.281259 -1.311883 -1.325860\n2001-05-23 -0.814612  0.202593  0.136648  0.434776\n2001-05-30  1.649286  0.408544 -0.588518  0.322627",
      "text/html": "<div>\n<style scoped>\n    .dataframe tbody tr th:only-of-type {\n        vertical-align: middle;\n    }\n\n    .dataframe tbody tr th {\n        vertical-align: top;\n    }\n\n    .dataframe thead th {\n        text-align: right;\n    }\n</style>\n<table border=\"1\" class=\"dataframe\">\n  <thead>\n    <tr style=\"text-align: right;\">\n      <th></th>\n      <th>Colorado</th>\n      <th>Texas</th>\n      <th>New York</th>\n      <th>Ohio</th>\n    </tr>\n  </thead>\n  <tbody>\n    <tr>\n      <th>2001-05-02</th>\n      <td>0.405972</td>\n      <td>-0.391432</td>\n      <td>0.905204</td>\n      <td>-0.317189</td>\n    </tr>\n    <tr>\n      <th>2001-05-09</th>\n      <td>-0.598313</td>\n      <td>0.831846</td>\n      <td>-0.288473</td>\n      <td>-0.263525</td>\n    </tr>\n    <tr>\n      <th>2001-05-16</th>\n      <td>-0.219882</td>\n      <td>1.281259</td>\n      <td>-1.311883</td>\n      <td>-1.325860</td>\n    </tr>\n    <tr>\n      <th>2001-05-23</th>\n      <td>-0.814612</td>\n      <td>0.202593</td>\n      <td>0.136648</td>\n      <td>0.434776</td>\n    </tr>\n    <tr>\n      <th>2001-05-30</th>\n      <td>1.649286</td>\n      <td>0.408544</td>\n      <td>-0.588518</td>\n      <td>0.322627</td>\n    </tr>\n  </tbody>\n</table>\n</div>"
     },
     "metadata": {},
     "execution_count": 59
    }
   ],
   "source": [
    "from pandas import DataFrame\n",
    "dates = pd.date_range('1/1/2000',periods=100,freq='W-WED')\n",
    "long_df = DataFrame(np.random.randn(100,4),index=dates,columns=['Colorado','Texas','New York','Ohio'])\n",
    "long_df.ix['5-2001']"
   ]
  },
  {
   "source": [
    "## 时间点是否重复"
   ],
   "cell_type": "markdown",
   "metadata": {}
  },
  {
   "cell_type": "code",
   "execution_count": 60,
   "metadata": {},
   "outputs": [
    {
     "output_type": "execute_result",
     "data": {
      "text/plain": "True"
     },
     "metadata": {},
     "execution_count": 60
    }
   ],
   "source": [
    "long_df.index.is_unique"
   ]
  },
  {
   "source": [
    "# 日期的范围，频率，移动 #\n",
    "## pandas 有一整套标准时间序列频率以及用于重采样，频率推断，生成固定频率日期范围的工具"
   ],
   "cell_type": "markdown",
   "metadata": {}
  },
  {
   "cell_type": "code",
   "execution_count": 65,
   "metadata": {},
   "outputs": [
    {
     "output_type": "execute_result",
     "data": {
      "text/plain": "DatetimeIndexResampler [freq=<Day>, axis=0, closed=left, label=left, convention=start, base=0]"
     },
     "metadata": {},
     "execution_count": 65
    }
   ],
   "source": [
    "ts\n",
    "ts.resample('D')"
   ]
  },
  {
   "cell_type": "code",
   "execution_count": 67,
   "metadata": {},
   "outputs": [
    {
     "output_type": "execute_result",
     "data": {
      "text/plain": "<Hour>"
     },
     "metadata": {},
     "execution_count": 67
    }
   ],
   "source": [
    "from pandas.tseries.offsets import Hour, Minute\n",
    "hour = Hour()\n",
    "hour"
   ]
  },
  {
   "cell_type": "code",
   "execution_count": 68,
   "metadata": {},
   "outputs": [
    {
     "output_type": "execute_result",
     "data": {
      "text/plain": "<4 * Hours>"
     },
     "metadata": {},
     "execution_count": 68
    }
   ],
   "source": [
    "four_hours =Hour(4)\n",
    "four_hours"
   ]
  },
  {
   "cell_type": "code",
   "execution_count": 69,
   "metadata": {},
   "outputs": [
    {
     "output_type": "execute_result",
     "data": {
      "text/plain": "DatetimeIndex(['2000-01-01 00:00:00', '2000-01-01 04:00:00',\n               '2000-01-01 08:00:00', '2000-01-01 12:00:00',\n               '2000-01-01 16:00:00', '2000-01-01 20:00:00',\n               '2000-01-02 00:00:00', '2000-01-02 04:00:00',\n               '2000-01-02 08:00:00', '2000-01-02 12:00:00',\n               '2000-01-02 16:00:00', '2000-01-02 20:00:00',\n               '2000-01-03 00:00:00', '2000-01-03 04:00:00',\n               '2000-01-03 08:00:00', '2000-01-03 12:00:00',\n               '2000-01-03 16:00:00', '2000-01-03 20:00:00'],\n              dtype='datetime64[ns]', freq='4H')"
     },
     "metadata": {},
     "execution_count": 69
    }
   ],
   "source": [
    "pd.date_range('1/1/2000','1/3/2000 23:59',\n",
    "        freq='4h')"
   ]
  },
  {
   "source": [
    "# WOM 日期"
   ],
   "cell_type": "markdown",
   "metadata": {}
  },
  {
   "cell_type": "code",
   "execution_count": 70,
   "metadata": {},
   "outputs": [
    {
     "output_type": "execute_result",
     "data": {
      "text/plain": "DatetimeIndex(['2012-01-20', '2012-02-17', '2012-03-16', '2012-04-20',\n               '2012-05-18', '2012-06-15', '2012-07-20', '2012-08-17'],\n              dtype='datetime64[ns]', freq='WOM-3FRI')"
     },
     "metadata": {},
     "execution_count": 70
    }
   ],
   "source": [
    "rng = pd.date_range('1/1/2012','9/1/2012', freq = 'WOM-3FRI')\n",
    "rng"
   ]
  },
  {
   "source": [
    "# 移动（超前 和 滞后） 数据"
   ],
   "cell_type": "markdown",
   "metadata": {}
  },
  {
   "cell_type": "code",
   "execution_count": 77,
   "metadata": {
    "tags": []
   },
   "outputs": [
    {
     "output_type": "stream",
     "name": "stdout",
     "text": "2000-01-31   -0.530028\n2000-02-29   -0.058283\n2000-03-31    0.781311\n2000-04-30    0.839480\nFreq: M, dtype: float64 2000-01-31         NaN\n2000-02-29         NaN\n2000-03-31   -0.530028\n2000-04-30   -0.058283\nFreq: M, dtype: float64 2000-01-31    0.781311\n2000-02-29    0.839480\n2000-03-31         NaN\n2000-04-30         NaN\nFreq: M, dtype: float64\n"
    }
   ],
   "source": [
    "ts = Series(np.random.randn(4),index = pd.date_range('1/1/2000',periods=4,freq='M'))\n",
    "ts\n",
    "ts.shift(2) \n",
    "ts.shift(-2)\n",
    "print(ts,ts.shift(2),ts.shift(-2))"
   ]
  },
  {
   "cell_type": "code",
   "execution_count": 78,
   "metadata": {},
   "outputs": [
    {
     "output_type": "execute_result",
     "data": {
      "text/plain": "2000-01-31          NaN\n2000-02-29    -0.890037\n2000-03-31   -14.405366\n2000-04-30     0.074451\nFreq: M, dtype: float64"
     },
     "metadata": {},
     "execution_count": 78
    }
   ],
   "source": [
    "ts/ts.shift(1) -1"
   ]
  },
  {
   "cell_type": "code",
   "execution_count": 79,
   "metadata": {},
   "outputs": [
    {
     "output_type": "execute_result",
     "data": {
      "text/plain": "2000-03-31   -0.530028\n2000-04-30   -0.058283\n2000-05-31    0.781311\n2000-06-30    0.839480\nFreq: M, dtype: float64"
     },
     "metadata": {},
     "execution_count": 79
    }
   ],
   "source": [
    "# 只移动时间戳，不对数据移动\n",
    "ts.shift(2,freq='M')"
   ]
  },
  {
   "source": [
    "# 通过偏移量对日期进行位移"
   ],
   "cell_type": "markdown",
   "metadata": {}
  },
  {
   "cell_type": "code",
   "execution_count": 87,
   "metadata": {},
   "outputs": [],
   "source": [
    "from pandas.tseries.offsets import Day, MonthEnd"
   ]
  },
  {
   "source": [
    "#groupby"
   ],
   "cell_type": "markdown",
   "metadata": {}
  },
  {
   "cell_type": "code",
   "execution_count": 88,
   "metadata": {},
   "outputs": [
    {
     "output_type": "execute_result",
     "data": {
      "text/plain": "2000-01-31   -0.530028\n2000-02-29   -0.058283\n2000-03-31    0.781311\n2000-04-30    0.839480\ndtype: float64"
     },
     "metadata": {},
     "execution_count": 88
    }
   ],
   "source": [
    "longer_ts =Series(np.random.randn(20),\n",
    "        index = pd.date_range('1/15/2000',periods=20,freq = '4d'))\n",
    "offset =MonthEnd()\n",
    "ts.groupby(offset.rollforward).mean()"
   ]
  },
  {
   "source": [
    "## resample"
   ],
   "cell_type": "markdown",
   "metadata": {}
  },
  {
   "cell_type": "code",
   "execution_count": 84,
   "metadata": {},
   "outputs": [
    {
     "output_type": "execute_result",
     "data": {
      "text/plain": "2000-01-31    0.84883\n2000-02-29    0.19999\n2000-03-31    0.98677\nFreq: M, dtype: float64"
     },
     "metadata": {},
     "execution_count": 84
    }
   ],
   "source": [
    "\n",
    "longer_ts.resample('M',how='mean')"
   ]
  },
  {
   "source": [
    "# 时区处理"
   ],
   "cell_type": "markdown",
   "metadata": {}
  },
  {
   "cell_type": "code",
   "execution_count": 89,
   "metadata": {},
   "outputs": [
    {
     "output_type": "execute_result",
     "data": {
      "text/plain": "['US/Eastern', 'US/Hawaii', 'US/Mountain', 'US/Pacific', 'UTC']"
     },
     "metadata": {},
     "execution_count": 89
    }
   ],
   "source": [
    "import pytz\n",
    "pytz.common_timezones[-5:]\n"
   ]
  },
  {
   "source": [
    "默认情况下，pandas中的时间序列是单纯的时区。时区字段为None"
   ],
   "cell_type": "markdown",
   "metadata": {}
  },
  {
   "cell_type": "code",
   "execution_count": 90,
   "metadata": {
    "tags": []
   },
   "outputs": [
    {
     "output_type": "stream",
     "name": "stdout",
     "text": "None\n"
    }
   ],
   "source": [
    "print(longer_ts.index.tz)"
   ]
  },
  {
   "source": [
    "生成日期范围时可以加上时区集"
   ],
   "cell_type": "markdown",
   "metadata": {}
  },
  {
   "cell_type": "code",
   "execution_count": 91,
   "metadata": {},
   "outputs": [
    {
     "output_type": "execute_result",
     "data": {
      "text/plain": "DatetimeIndex(['2012-03-09 09:30:00+00:00', '2012-03-10 09:30:00+00:00',\n               '2012-03-11 09:30:00+00:00', '2012-03-12 09:30:00+00:00',\n               '2012-03-13 09:30:00+00:00', '2012-03-14 09:30:00+00:00',\n               '2012-03-15 09:30:00+00:00', '2012-03-16 09:30:00+00:00',\n               '2012-03-17 09:30:00+00:00', '2012-03-18 09:30:00+00:00'],\n              dtype='datetime64[ns, UTC]', freq='D')"
     },
     "metadata": {},
     "execution_count": 91
    }
   ],
   "source": [
    "pd.date_range('3/9/2012 9:30',periods =10, freq='D',tz='UTC')"
   ]
  },
  {
   "source": [
    "默认的单纯序列可以本地化加时区"
   ],
   "cell_type": "markdown",
   "metadata": {}
  },
  {
   "cell_type": "code",
   "execution_count": 92,
   "metadata": {
    "tags": []
   },
   "outputs": [
    {
     "output_type": "stream",
     "name": "stdout",
     "text": "2000-01-15 00:00:00+00:00    0.697989\n2000-01-19 00:00:00+00:00    2.420390\n2000-01-23 00:00:00+00:00    0.088986\n2000-01-27 00:00:00+00:00    0.258478\n2000-01-31 00:00:00+00:00    0.376049\nFreq: 4D, dtype: float64 DatetimeIndex(['2000-01-15 00:00:00+00:00', '2000-01-19 00:00:00+00:00',\n               '2000-01-23 00:00:00+00:00', '2000-01-27 00:00:00+00:00',\n               '2000-01-31 00:00:00+00:00', '2000-02-04 00:00:00+00:00',\n               '2000-02-08 00:00:00+00:00', '2000-02-12 00:00:00+00:00',\n               '2000-02-16 00:00:00+00:00', '2000-02-20 00:00:00+00:00',\n               '2000-02-24 00:00:00+00:00', '2000-02-28 00:00:00+00:00',\n               '2000-03-03 00:00:00+00:00', '2000-03-07 00:00:00+00:00',\n               '2000-03-11 00:00:00+00:00', '2000-03-15 00:00:00+00:00',\n               '2000-03-19 00:00:00+00:00', '2000-03-23 00:00:00+00:00',\n               '2000-03-27 00:00:00+00:00', '2000-03-31 00:00:00+00:00'],\n              dtype='datetime64[ns, UTC]', freq='4D')\n"
    }
   ],
   "source": [
    "ts_utc= longer_ts.tz_localize('UTC')\n",
    "print(ts_utc.head(5),ts_utc.index)"
   ]
  },
  {
   "source": [
    "## 转换到别的时区"
   ],
   "cell_type": "markdown",
   "metadata": {}
  },
  {
   "cell_type": "code",
   "execution_count": 93,
   "metadata": {},
   "outputs": [
    {
     "output_type": "execute_result",
     "data": {
      "text/plain": "2000-01-14 19:00:00-05:00    0.697989\n2000-01-18 19:00:00-05:00    2.420390\n2000-01-22 19:00:00-05:00    0.088986\n2000-01-26 19:00:00-05:00    0.258478\n2000-01-30 19:00:00-05:00    0.376049\n2000-02-03 19:00:00-05:00    1.499308\n2000-02-07 19:00:00-05:00    1.040684\n2000-02-11 19:00:00-05:00   -0.849078\n2000-02-15 19:00:00-05:00   -0.750757\n2000-02-19 19:00:00-05:00    1.258315\n2000-02-23 19:00:00-05:00   -0.772719\n2000-02-27 19:00:00-05:00    0.111656\n2000-03-02 19:00:00-05:00   -1.865491\n2000-03-06 19:00:00-05:00   -0.532028\n2000-03-10 19:00:00-05:00    0.433285\n2000-03-14 19:00:00-05:00    0.523924\n2000-03-18 19:00:00-05:00    0.680625\n2000-03-22 19:00:00-05:00   -0.873737\n2000-03-26 19:00:00-05:00    0.463285\n2000-03-30 19:00:00-05:00   -1.096731\nFreq: 4D, dtype: float64"
     },
     "metadata": {},
     "execution_count": 93
    }
   ],
   "source": [
    "ts_utc.tz_convert('US/Eastern')"
   ]
  },
  {
   "source": [
    "# 时间及其算术运算"
   ],
   "cell_type": "markdown",
   "metadata": {}
  },
  {
   "cell_type": "code",
   "execution_count": 94,
   "metadata": {},
   "outputs": [
    {
     "output_type": "execute_result",
     "data": {
      "text/plain": "Period('2007', 'A-DEC')"
     },
     "metadata": {},
     "execution_count": 94
    }
   ],
   "source": [
    "p=pd.Period(2007,freq='A-DEC')\n",
    "p"
   ]
  },
  {
   "cell_type": "code",
   "execution_count": 95,
   "metadata": {},
   "outputs": [
    {
     "output_type": "execute_result",
     "data": {
      "text/plain": "Period('2012', 'A-DEC')"
     },
     "metadata": {},
     "execution_count": 95
    }
   ],
   "source": [
    "# 加5年\n",
    "p + 5"
   ]
  },
  {
   "cell_type": "code",
   "execution_count": 97,
   "metadata": {},
   "outputs": [
    {
     "output_type": "execute_result",
     "data": {
      "text/plain": "Period('2005', 'A-DEC')"
     },
     "metadata": {},
     "execution_count": 97
    }
   ],
   "source": [
    "# 减2年\n",
    "p - 2"
   ]
  },
  {
   "source": [
    "* 如果两个period对象拥有相同的频率，则他们的差就是它们之间的单位数量"
   ],
   "cell_type": "markdown",
   "metadata": {}
  },
  {
   "cell_type": "code",
   "execution_count": 98,
   "metadata": {},
   "outputs": [
    {
     "output_type": "execute_result",
     "data": {
      "text/plain": "<7 * YearEnds: month=12>"
     },
     "metadata": {},
     "execution_count": 98
    }
   ],
   "source": [
    "pd.Period('2014',freq='A-DEC') - p"
   ]
  },
  {
   "source": [
    "## Period_range函数可用于创建规则的时期范围"
   ],
   "cell_type": "markdown",
   "metadata": {}
  },
  {
   "cell_type": "code",
   "execution_count": 99,
   "metadata": {},
   "outputs": [
    {
     "output_type": "execute_result",
     "data": {
      "text/plain": "PeriodIndex(['2000-01', '2000-02', '2000-03', '2000-04', '2000-05', '2000-06'], dtype='period[M]', freq='M')"
     },
     "metadata": {},
     "execution_count": 99
    }
   ],
   "source": [
    "rng  = pd.period_range('1/1/2000','6/30/2000',freq='M')\n",
    "rng"
   ]
  },
  {
   "source": [
    "## PeriodIndex类保存了一组Period,它可以在任何pandas数据结构中被用作轴索引"
   ],
   "cell_type": "markdown",
   "metadata": {}
  },
  {
   "cell_type": "code",
   "execution_count": 100,
   "metadata": {},
   "outputs": [
    {
     "output_type": "execute_result",
     "data": {
      "text/plain": "2000-01    1.522387\n2000-02   -1.350217\n2000-03   -0.950691\n2000-04    0.072384\n2000-05    0.082178\n2000-06    1.254562\nFreq: M, dtype: float64"
     },
     "metadata": {},
     "execution_count": 100
    }
   ],
   "source": [
    "Series(np.random.randn(6),index=rng)"
   ]
  },
  {
   "source": [
    "## 使用字符串构造period 函数"
   ],
   "cell_type": "markdown",
   "metadata": {}
  },
  {
   "cell_type": "code",
   "execution_count": 102,
   "metadata": {},
   "outputs": [
    {
     "output_type": "execute_result",
     "data": {
      "text/plain": "PeriodIndex(['2001Q3', '2002Q2', '2003Q1'], dtype='period[Q-DEC]', freq='Q-DEC')"
     },
     "metadata": {},
     "execution_count": 102
    }
   ],
   "source": [
    "values = ['2001Q3','2002Q2','2003Q1']\n",
    "index = pd.PeriodIndex(values,freq='Q-DEC')\n",
    "index"
   ]
  },
  {
   "source": [
    "# 时间的频率转换"
   ],
   "cell_type": "markdown",
   "metadata": {}
  },
  {
   "cell_type": "code",
   "execution_count": 103,
   "metadata": {},
   "outputs": [
    {
     "output_type": "execute_result",
     "data": {
      "text/plain": "Period('2007-01', 'M')"
     },
     "metadata": {},
     "execution_count": 103
    }
   ],
   "source": [
    "p = pd.Period('2007',freq='A-DEC')\n",
    "p.asfreq('M',how='start')"
   ]
  },
  {
   "cell_type": "code",
   "execution_count": 104,
   "metadata": {},
   "outputs": [
    {
     "output_type": "execute_result",
     "data": {
      "text/plain": "Period('2006-07', 'M')"
     },
     "metadata": {},
     "execution_count": 104
    }
   ],
   "source": [
    "p = pd.Period('2007',freq='A-JUN')\n",
    "p.asfreq('M','start')"
   ]
  },
  {
   "cell_type": "code",
   "execution_count": 105,
   "metadata": {},
   "outputs": [
    {
     "output_type": "execute_result",
     "data": {
      "text/plain": "Period('2007-06', 'M')"
     },
     "metadata": {},
     "execution_count": 105
    }
   ],
   "source": [
    "p.asfreq('M','end')"
   ]
  },
  {
   "source": [
    "# 重采样 及 频率转换\n",
    "## 重采样： 时间序列从一个频率转换到另一个频率的处理。"
   ],
   "cell_type": "code",
   "metadata": {},
   "execution_count": null,
   "outputs": []
  },
  {
   "cell_type": "code",
   "execution_count": 108,
   "metadata": {},
   "outputs": [
    {
     "output_type": "execute_result",
     "data": {
      "text/plain": "2000-01-31   -0.094934\n2000-02-29    0.014446\n2000-03-31   -0.132855\n2000-04-30   -0.419081\nFreq: M, dtype: float64"
     },
     "metadata": {},
     "execution_count": 108
    }
   ],
   "source": [
    "rng = pd.date_range('1/1/2000',periods = 100,freq='D')\n",
    "ts = Series(np.random.randn(len(rng)),index=rng)\n",
    "ts.resample('M',how='mean')"
   ]
  },
  {
   "cell_type": "code",
   "execution_count": 109,
   "metadata": {},
   "outputs": [
    {
     "output_type": "execute_result",
     "data": {
      "text/plain": "2000-01   -0.094934\n2000-02    0.014446\n2000-03   -0.132855\n2000-04   -0.419081\nFreq: M, dtype: float64"
     },
     "metadata": {},
     "execution_count": 109
    }
   ],
   "source": [
    "ts.resample('M',how='mean',kind='period')"
   ]
  },
  {
   "source": [
    "## 降采样\n",
    "将数据聚合到规整的低频率，"
   ],
   "cell_type": "markdown",
   "metadata": {}
  },
  {
   "cell_type": "code",
   "execution_count": 110,
   "metadata": {},
   "outputs": [
    {
     "output_type": "execute_result",
     "data": {
      "text/plain": "2000-01-01 00:00:00     0\n2000-01-01 00:01:00     1\n2000-01-01 00:02:00     2\n2000-01-01 00:03:00     3\n2000-01-01 00:04:00     4\n2000-01-01 00:05:00     5\n2000-01-01 00:06:00     6\n2000-01-01 00:07:00     7\n2000-01-01 00:08:00     8\n2000-01-01 00:09:00     9\n2000-01-01 00:10:00    10\n2000-01-01 00:11:00    11\nFreq: T, dtype: int32"
     },
     "metadata": {},
     "execution_count": 110
    }
   ],
   "source": [
    "# 1 min data\n",
    "rng = pd.date_range('1/1/2000',periods=12,freq='T')\n",
    "ts = Series(np.arange(12),index=rng)\n",
    "ts"
   ]
  },
  {
   "cell_type": "code",
   "execution_count": 111,
   "metadata": {},
   "outputs": [
    {
     "output_type": "execute_result",
     "data": {
      "text/plain": "2000-01-01 00:00:00    10\n2000-01-01 00:05:00    35\n2000-01-01 00:10:00    21\nFreq: 5T, dtype: int32"
     },
     "metadata": {},
     "execution_count": 111
    }
   ],
   "source": [
    "#聚合到\"5分钟\"\n",
    "ts.resample('5min',how='sum')"
   ]
  },
  {
   "cell_type": "code",
   "execution_count": 112,
   "metadata": {},
   "outputs": [
    {
     "output_type": "execute_result",
     "data": {
      "text/plain": "                     open  high  low  close\n2000-01-01 00:00:00     0     4    0      4\n2000-01-01 00:05:00     5     9    5      9\n2000-01-01 00:10:00    10    11   10     11",
      "text/html": "<div>\n<style scoped>\n    .dataframe tbody tr th:only-of-type {\n        vertical-align: middle;\n    }\n\n    .dataframe tbody tr th {\n        vertical-align: top;\n    }\n\n    .dataframe thead th {\n        text-align: right;\n    }\n</style>\n<table border=\"1\" class=\"dataframe\">\n  <thead>\n    <tr style=\"text-align: right;\">\n      <th></th>\n      <th>open</th>\n      <th>high</th>\n      <th>low</th>\n      <th>close</th>\n    </tr>\n  </thead>\n  <tbody>\n    <tr>\n      <th>2000-01-01 00:00:00</th>\n      <td>0</td>\n      <td>4</td>\n      <td>0</td>\n      <td>4</td>\n    </tr>\n    <tr>\n      <th>2000-01-01 00:05:00</th>\n      <td>5</td>\n      <td>9</td>\n      <td>5</td>\n      <td>9</td>\n    </tr>\n    <tr>\n      <th>2000-01-01 00:10:00</th>\n      <td>10</td>\n      <td>11</td>\n      <td>10</td>\n      <td>11</td>\n    </tr>\n  </tbody>\n</table>\n</div>"
     },
     "metadata": {},
     "execution_count": 112
    }
   ],
   "source": [
    "## OHLC 重采样\n",
    "ts.resample('5min',how='ohlc')"
   ]
  },
  {
   "source": [
    "# 通过groupby 进行重采样"
   ],
   "cell_type": "markdown",
   "metadata": {}
  },
  {
   "cell_type": "code",
   "execution_count": 113,
   "metadata": {},
   "outputs": [
    {
     "output_type": "execute_result",
     "data": {
      "text/plain": "1    15\n2    45\n3    75\n4    95\ndtype: int32"
     },
     "metadata": {},
     "execution_count": 113
    }
   ],
   "source": [
    "rng = pd.date_range('1/1/2000',periods=100,freq='D')\n",
    "ts = Series(np.arange(100),index=rng)\n",
    "ts.groupby(lambda x: x.month).mean()"
   ]
  },
  {
   "cell_type": "code",
   "execution_count": 114,
   "metadata": {},
   "outputs": [
    {
     "output_type": "execute_result",
     "data": {
      "text/plain": "0    47.5\n1    48.5\n2    49.5\n3    50.5\n4    51.5\n5    49.0\n6    50.0\ndtype: float64"
     },
     "metadata": {},
     "execution_count": 114
    }
   ],
   "source": [
    "ts.groupby(lambda x: x.weekday).mean()\n"
   ]
  },
  {
   "source": [
    "# 不同频率的时间序列的运算\n",
    "## align\n",
    "price.align(volume, join='inner')\n",
    "## resample to business day\n",
    "ts.reample('B')\n",
    "ts.reample('B',fill_method='ffill')"
   ],
   "cell_type": "markdown",
   "metadata": {}
  }
 ]
}